{
 "cells": [
  {
   "cell_type": "code",
   "execution_count": 1,
   "id": "31c8cd76-fe80-4965-b013-38cb37af32f1",
   "metadata": {},
   "outputs": [],
   "source": [
    "## 패키지 불러오기"
   ]
  },
  {
   "cell_type": "code",
   "execution_count": 2,
   "id": "fea90f2b-9e5e-4165-b8e8-b413e3f7dd11",
   "metadata": {},
   "outputs": [],
   "source": [
    "# 데이터 구성:Series, DataFrame\n",
    "import pandas as pd\n",
    "import numpy as np\n",
    "# 데이터 시각화\n",
    "import matplotlib.pyplot as plt\n",
    "import matplotlib\n",
    "\n",
    "# 데이터 scaling\n",
    "from sklearn.preprocessing import StandardScaler\n",
    "# 데이터 분할:train, test\n",
    "from sklearn.model_selection import train_test_split\n",
    "# 분류 SVM\n",
    "from sklearn.svm import SVC\n",
    "# 최적 모델, 파라미터 탐색\n",
    "from sklearn.model_selection import GridSearchCV\n",
    "\n",
    "# 분류모델 평가 함수\n",
    "from sklearn.metrics import accuracy_score, f1_score \n",
    "from sklearn.metrics import confusion_matrix, classification_report"
   ]
  },
  {
   "cell_type": "markdown",
   "id": "c6848ed6",
   "metadata": {},
   "source": [
    "## 탄소강(C) 데이터"
   ]
  },
  {
   "cell_type": "code",
   "execution_count": 3,
   "id": "4aba288a-1572-47c5-bc0a-2b14458666c8",
   "metadata": {},
   "outputs": [],
   "source": [
    "# 데이터 불러오기\n",
    "data = pd.read_csv(\"plate_c.csv\")"
   ]
  },
  {
   "cell_type": "code",
   "execution_count": 4,
   "id": "f86c7e7b-5211-4844-93b0-f04c71e363f1",
   "metadata": {},
   "outputs": [
    {
     "name": "stdout",
     "output_type": "stream",
     "text": [
      "  scale steel_kind hsb  fur_avg_temp  fur_total_time rolling_method  \\\n",
      "0    양품          C  적용        1127.5             297       CR(제어압연)   \n",
      "1    양품          C  적용        1136.0             235       CR(제어압연)   \n",
      "2    양품          C  적용        1130.0             240       CR(제어압연)   \n",
      "3    양품          C  적용        1130.0             287       CR(제어압연)   \n",
      "4    양품          C  적용        1135.5             286       CR(제어압연)   \n",
      "\n",
      "   rolling_temp  descaling_count work_group  \n",
      "0           934                8         2조  \n",
      "1           911                8         2조  \n",
      "2           935               10         2조  \n",
      "3           935               10         2조  \n",
      "4           915               10         2조  \n",
      "<class 'pandas.core.frame.DataFrame'>\n",
      "RangeIndex: 753 entries, 0 to 752\n",
      "Data columns (total 9 columns):\n",
      " #   Column           Non-Null Count  Dtype  \n",
      "---  ------           --------------  -----  \n",
      " 0   scale            753 non-null    object \n",
      " 1   steel_kind       753 non-null    object \n",
      " 2   hsb              753 non-null    object \n",
      " 3   fur_avg_temp     753 non-null    float64\n",
      " 4   fur_total_time   753 non-null    int64  \n",
      " 5   rolling_method   753 non-null    object \n",
      " 6   rolling_temp     753 non-null    int64  \n",
      " 7   descaling_count  753 non-null    int64  \n",
      " 8   work_group       753 non-null    object \n",
      "dtypes: float64(1), int64(3), object(5)\n",
      "memory usage: 53.1+ KB\n",
      "None\n",
      "       fur_avg_temp  fur_total_time  rolling_temp  descaling_count\n",
      "count    753.000000      753.000000    753.000000       753.000000\n",
      "mean    1160.903054      229.569721    964.756972         9.239044\n",
      "std       14.375239       35.488584     48.219392         1.087264\n",
      "min     1122.000000      165.000000    723.000000         6.000000\n",
      "25%     1151.500000      205.000000    935.000000         8.000000\n",
      "50%     1162.500000      221.000000    970.000000        10.000000\n",
      "75%     1170.500000      246.000000   1000.000000        10.000000\n",
      "max     1195.000000      362.000000   1078.000000        10.000000\n"
     ]
    }
   ],
   "source": [
    "# 데이터 구조 확인\n",
    "print(data.head())\n",
    "print(data.info())\n",
    "print(data.describe())"
   ]
  },
  {
   "cell_type": "markdown",
   "id": "b034acf3-440e-4b74-84e2-fa3442a770eb",
   "metadata": {},
   "source": [
    "#### 데이터 분리:목표변수/설명변수 분리"
   ]
  },
  {
   "cell_type": "code",
   "execution_count": 5,
   "id": "fc173bc6-5580-495a-9355-3314de736e3e",
   "metadata": {},
   "outputs": [
    {
     "name": "stdout",
     "output_type": "stream",
     "text": [
      "    steel_kind hsb  fur_avg_temp  fur_total_time rolling_method  rolling_temp  \\\n",
      "0            C  적용        1127.5             297       CR(제어압연)           934   \n",
      "1            C  적용        1136.0             235       CR(제어압연)           911   \n",
      "2            C  적용        1130.0             240       CR(제어압연)           935   \n",
      "3            C  적용        1130.0             287       CR(제어압연)           935   \n",
      "4            C  적용        1135.5             286       CR(제어압연)           915   \n",
      "..         ...  ..           ...             ...            ...           ...   \n",
      "748          C  적용        1146.5             203       CR(제어압연)           948   \n",
      "749          C  적용        1146.5             209       CR(제어압연)           948   \n",
      "750          C  적용        1166.0             227       CR(제어압연)           948   \n",
      "751          C  적용        1166.0             204       CR(제어압연)           948   \n",
      "752          C  적용        1177.5             208       CR(제어압연)           957   \n",
      "\n",
      "     descaling_count work_group  \n",
      "0                  8         2조  \n",
      "1                  8         2조  \n",
      "2                 10         2조  \n",
      "3                 10         2조  \n",
      "4                 10         2조  \n",
      "..               ...        ...  \n",
      "748               10         4조  \n",
      "749               10         4조  \n",
      "750               10         4조  \n",
      "751               10         4조  \n",
      "752               10         4조  \n",
      "\n",
      "[753 rows x 8 columns]\n",
      "0      양품\n",
      "1      양품\n",
      "2      양품\n",
      "3      양품\n",
      "4      양품\n",
      "       ..\n",
      "748    양품\n",
      "749    양품\n",
      "750    양품\n",
      "751    양품\n",
      "752    양품\n",
      "Name: scale, Length: 753, dtype: object\n"
     ]
    }
   ],
   "source": [
    "# 목표변수/ 설명변수 분리\n",
    "df_raw_x = data.drop(columns=['scale'])  # Features\n",
    "df_raw_y = data['scale']  # Target\n",
    "print(df_raw_x)\n",
    "print(df_raw_y)"
   ]
  },
  {
   "cell_type": "markdown",
   "id": "da7a9969-0bba-4549-a1db-bf2b12085673",
   "metadata": {},
   "source": [
    "#### 범주형 설명변수 더미변환"
   ]
  },
  {
   "cell_type": "code",
   "execution_count": 6,
   "id": "15346f65-db3f-4f94-881c-905e2a627846",
   "metadata": {},
   "outputs": [
    {
     "data": {
      "text/plain": [
       "'Dummy 변환 전:'"
      ]
     },
     "metadata": {},
     "output_type": "display_data"
    },
    {
     "data": {
      "text/html": [
       "<div>\n",
       "<style scoped>\n",
       "    .dataframe tbody tr th:only-of-type {\n",
       "        vertical-align: middle;\n",
       "    }\n",
       "\n",
       "    .dataframe tbody tr th {\n",
       "        vertical-align: top;\n",
       "    }\n",
       "\n",
       "    .dataframe thead th {\n",
       "        text-align: right;\n",
       "    }\n",
       "</style>\n",
       "<table border=\"1\" class=\"dataframe\">\n",
       "  <thead>\n",
       "    <tr style=\"text-align: right;\">\n",
       "      <th></th>\n",
       "      <th>steel_kind</th>\n",
       "      <th>hsb</th>\n",
       "      <th>rolling_method</th>\n",
       "      <th>work_group</th>\n",
       "    </tr>\n",
       "  </thead>\n",
       "  <tbody>\n",
       "    <tr>\n",
       "      <th>0</th>\n",
       "      <td>C</td>\n",
       "      <td>적용</td>\n",
       "      <td>CR(제어압연)</td>\n",
       "      <td>2조</td>\n",
       "    </tr>\n",
       "    <tr>\n",
       "      <th>1</th>\n",
       "      <td>C</td>\n",
       "      <td>적용</td>\n",
       "      <td>CR(제어압연)</td>\n",
       "      <td>2조</td>\n",
       "    </tr>\n",
       "    <tr>\n",
       "      <th>2</th>\n",
       "      <td>C</td>\n",
       "      <td>적용</td>\n",
       "      <td>CR(제어압연)</td>\n",
       "      <td>2조</td>\n",
       "    </tr>\n",
       "    <tr>\n",
       "      <th>3</th>\n",
       "      <td>C</td>\n",
       "      <td>적용</td>\n",
       "      <td>CR(제어압연)</td>\n",
       "      <td>2조</td>\n",
       "    </tr>\n",
       "    <tr>\n",
       "      <th>4</th>\n",
       "      <td>C</td>\n",
       "      <td>적용</td>\n",
       "      <td>CR(제어압연)</td>\n",
       "      <td>2조</td>\n",
       "    </tr>\n",
       "  </tbody>\n",
       "</table>\n",
       "</div>"
      ],
      "text/plain": [
       "  steel_kind hsb rolling_method work_group\n",
       "0          C  적용       CR(제어압연)         2조\n",
       "1          C  적용       CR(제어압연)         2조\n",
       "2          C  적용       CR(제어압연)         2조\n",
       "3          C  적용       CR(제어압연)         2조\n",
       "4          C  적용       CR(제어압연)         2조"
      ]
     },
     "metadata": {},
     "output_type": "display_data"
    },
    {
     "data": {
      "text/plain": [
       "'Dummy 변환 후:'"
      ]
     },
     "metadata": {},
     "output_type": "display_data"
    },
    {
     "data": {
      "text/html": [
       "<div>\n",
       "<style scoped>\n",
       "    .dataframe tbody tr th:only-of-type {\n",
       "        vertical-align: middle;\n",
       "    }\n",
       "\n",
       "    .dataframe tbody tr th {\n",
       "        vertical-align: top;\n",
       "    }\n",
       "\n",
       "    .dataframe thead th {\n",
       "        text-align: right;\n",
       "    }\n",
       "</style>\n",
       "<table border=\"1\" class=\"dataframe\">\n",
       "  <thead>\n",
       "    <tr style=\"text-align: right;\">\n",
       "      <th></th>\n",
       "      <th>steel_kind_C</th>\n",
       "      <th>hsb_미적용</th>\n",
       "      <th>hsb_적용</th>\n",
       "      <th>rolling_method_CR(제어압연)</th>\n",
       "      <th>work_group_1조</th>\n",
       "      <th>work_group_2조</th>\n",
       "      <th>work_group_3조</th>\n",
       "      <th>work_group_4조</th>\n",
       "    </tr>\n",
       "  </thead>\n",
       "  <tbody>\n",
       "    <tr>\n",
       "      <th>0</th>\n",
       "      <td>True</td>\n",
       "      <td>False</td>\n",
       "      <td>True</td>\n",
       "      <td>True</td>\n",
       "      <td>False</td>\n",
       "      <td>True</td>\n",
       "      <td>False</td>\n",
       "      <td>False</td>\n",
       "    </tr>\n",
       "    <tr>\n",
       "      <th>1</th>\n",
       "      <td>True</td>\n",
       "      <td>False</td>\n",
       "      <td>True</td>\n",
       "      <td>True</td>\n",
       "      <td>False</td>\n",
       "      <td>True</td>\n",
       "      <td>False</td>\n",
       "      <td>False</td>\n",
       "    </tr>\n",
       "    <tr>\n",
       "      <th>2</th>\n",
       "      <td>True</td>\n",
       "      <td>False</td>\n",
       "      <td>True</td>\n",
       "      <td>True</td>\n",
       "      <td>False</td>\n",
       "      <td>True</td>\n",
       "      <td>False</td>\n",
       "      <td>False</td>\n",
       "    </tr>\n",
       "    <tr>\n",
       "      <th>3</th>\n",
       "      <td>True</td>\n",
       "      <td>False</td>\n",
       "      <td>True</td>\n",
       "      <td>True</td>\n",
       "      <td>False</td>\n",
       "      <td>True</td>\n",
       "      <td>False</td>\n",
       "      <td>False</td>\n",
       "    </tr>\n",
       "    <tr>\n",
       "      <th>4</th>\n",
       "      <td>True</td>\n",
       "      <td>False</td>\n",
       "      <td>True</td>\n",
       "      <td>True</td>\n",
       "      <td>False</td>\n",
       "      <td>True</td>\n",
       "      <td>False</td>\n",
       "      <td>False</td>\n",
       "    </tr>\n",
       "  </tbody>\n",
       "</table>\n",
       "</div>"
      ],
      "text/plain": [
       "   steel_kind_C  hsb_미적용  hsb_적용  rolling_method_CR(제어압연)  work_group_1조  \\\n",
       "0          True    False    True                     True          False   \n",
       "1          True    False    True                     True          False   \n",
       "2          True    False    True                     True          False   \n",
       "3          True    False    True                     True          False   \n",
       "4          True    False    True                     True          False   \n",
       "\n",
       "   work_group_2조  work_group_3조  work_group_4조  \n",
       "0           True          False          False  \n",
       "1           True          False          False  \n",
       "2           True          False          False  \n",
       "3           True          False          False  \n",
       "4           True          False          False  "
      ]
     },
     "metadata": {},
     "output_type": "display_data"
    }
   ],
   "source": [
    "# get_dummies: 범주형 변수에 대한 더미변환 \n",
    "# 범주형 변수 선택 : select_dtypes=\"object\" \n",
    "\n",
    "df_raw_x_char = df_raw_x.select_dtypes(include = \"object\")\n",
    "df_raw_x_char.head()\n",
    "\n",
    "# get_dummies: 범주형 변수에 대한 더미변환 \n",
    "df_x_dummy = pd.get_dummies(df_raw_x_char)\n",
    "df_x_dummy.head()\n",
    "\n",
    "display(\"Dummy 변환 전:\", df_raw_x_char.head())\n",
    "display(\"Dummy 변환 후:\",df_x_dummy.head())"
   ]
  },
  {
   "cell_type": "markdown",
   "id": "0416e105-79e4-48bf-aee4-a6a5b24e0b12",
   "metadata": {},
   "source": [
    "#### 연속형 설명변수 scaling 변환"
   ]
  },
  {
   "cell_type": "code",
   "execution_count": 8,
   "id": "4f4a4a4f-99a2-431d-9a29-892947fb4b05",
   "metadata": {},
   "outputs": [
    {
     "data": {
      "text/plain": [
       "'Scale 변환 전:'"
      ]
     },
     "metadata": {},
     "output_type": "display_data"
    },
    {
     "data": {
      "text/html": [
       "<div>\n",
       "<style scoped>\n",
       "    .dataframe tbody tr th:only-of-type {\n",
       "        vertical-align: middle;\n",
       "    }\n",
       "\n",
       "    .dataframe tbody tr th {\n",
       "        vertical-align: top;\n",
       "    }\n",
       "\n",
       "    .dataframe thead th {\n",
       "        text-align: right;\n",
       "    }\n",
       "</style>\n",
       "<table border=\"1\" class=\"dataframe\">\n",
       "  <thead>\n",
       "    <tr style=\"text-align: right;\">\n",
       "      <th></th>\n",
       "      <th>fur_avg_temp</th>\n",
       "      <th>fur_total_time</th>\n",
       "      <th>rolling_temp</th>\n",
       "      <th>descaling_count</th>\n",
       "    </tr>\n",
       "  </thead>\n",
       "  <tbody>\n",
       "    <tr>\n",
       "      <th>0</th>\n",
       "      <td>1127.5</td>\n",
       "      <td>297</td>\n",
       "      <td>934</td>\n",
       "      <td>8</td>\n",
       "    </tr>\n",
       "    <tr>\n",
       "      <th>1</th>\n",
       "      <td>1136.0</td>\n",
       "      <td>235</td>\n",
       "      <td>911</td>\n",
       "      <td>8</td>\n",
       "    </tr>\n",
       "    <tr>\n",
       "      <th>2</th>\n",
       "      <td>1130.0</td>\n",
       "      <td>240</td>\n",
       "      <td>935</td>\n",
       "      <td>10</td>\n",
       "    </tr>\n",
       "    <tr>\n",
       "      <th>3</th>\n",
       "      <td>1130.0</td>\n",
       "      <td>287</td>\n",
       "      <td>935</td>\n",
       "      <td>10</td>\n",
       "    </tr>\n",
       "    <tr>\n",
       "      <th>4</th>\n",
       "      <td>1135.5</td>\n",
       "      <td>286</td>\n",
       "      <td>915</td>\n",
       "      <td>10</td>\n",
       "    </tr>\n",
       "  </tbody>\n",
       "</table>\n",
       "</div>"
      ],
      "text/plain": [
       "   fur_avg_temp  fur_total_time  rolling_temp  descaling_count\n",
       "0        1127.5             297           934                8\n",
       "1        1136.0             235           911                8\n",
       "2        1130.0             240           935               10\n",
       "3        1130.0             287           935               10\n",
       "4        1135.5             286           915               10"
      ]
     },
     "metadata": {},
     "output_type": "display_data"
    },
    {
     "data": {
      "text/plain": [
       "'Scale 변환 후:'"
      ]
     },
     "metadata": {},
     "output_type": "display_data"
    },
    {
     "data": {
      "text/html": [
       "<div>\n",
       "<style scoped>\n",
       "    .dataframe tbody tr th:only-of-type {\n",
       "        vertical-align: middle;\n",
       "    }\n",
       "\n",
       "    .dataframe tbody tr th {\n",
       "        vertical-align: top;\n",
       "    }\n",
       "\n",
       "    .dataframe thead th {\n",
       "        text-align: right;\n",
       "    }\n",
       "</style>\n",
       "<table border=\"1\" class=\"dataframe\">\n",
       "  <thead>\n",
       "    <tr style=\"text-align: right;\">\n",
       "      <th></th>\n",
       "      <th>fur_avg_temp</th>\n",
       "      <th>fur_total_time</th>\n",
       "      <th>rolling_temp</th>\n",
       "      <th>descaling_count</th>\n",
       "    </tr>\n",
       "  </thead>\n",
       "  <tbody>\n",
       "    <tr>\n",
       "      <th>0</th>\n",
       "      <td>-2.325197</td>\n",
       "      <td>1.901318</td>\n",
       "      <td>-0.638279</td>\n",
       "      <td>-1.140355</td>\n",
       "    </tr>\n",
       "    <tr>\n",
       "      <th>1</th>\n",
       "      <td>-1.733509</td>\n",
       "      <td>0.153117</td>\n",
       "      <td>-1.115582</td>\n",
       "      <td>-1.140355</td>\n",
       "    </tr>\n",
       "    <tr>\n",
       "      <th>2</th>\n",
       "      <td>-2.151171</td>\n",
       "      <td>0.294101</td>\n",
       "      <td>-0.617526</td>\n",
       "      <td>0.700347</td>\n",
       "    </tr>\n",
       "    <tr>\n",
       "      <th>3</th>\n",
       "      <td>-2.151171</td>\n",
       "      <td>1.619350</td>\n",
       "      <td>-0.617526</td>\n",
       "      <td>0.700347</td>\n",
       "    </tr>\n",
       "    <tr>\n",
       "      <th>4</th>\n",
       "      <td>-1.768314</td>\n",
       "      <td>1.591154</td>\n",
       "      <td>-1.032573</td>\n",
       "      <td>0.700347</td>\n",
       "    </tr>\n",
       "  </tbody>\n",
       "</table>\n",
       "</div>"
      ],
      "text/plain": [
       "   fur_avg_temp  fur_total_time  rolling_temp  descaling_count\n",
       "0     -2.325197        1.901318     -0.638279        -1.140355\n",
       "1     -1.733509        0.153117     -1.115582        -1.140355\n",
       "2     -2.151171        0.294101     -0.617526         0.700347\n",
       "3     -2.151171        1.619350     -0.617526         0.700347\n",
       "4     -1.768314        1.591154     -1.032573         0.700347"
      ]
     },
     "metadata": {},
     "output_type": "display_data"
    }
   ],
   "source": [
    "# 연속형 변수 선택 : select_dtypes=\"object\" 제외\n",
    "df_raw_x_num = df_raw_x.select_dtypes(exclude = \"object\")\n",
    "# df_raw_x_num.head()\n",
    "\n",
    "# 변수명 저장\n",
    "v_feature_names = df_raw_x_num.columns\n",
    "\n",
    "# StandardScaler 적용\n",
    "scaler = StandardScaler()\n",
    "df_x_scaled = scaler.fit_transform(df_raw_x_num)\n",
    "df_x_scaled  = pd.DataFrame(df_x_scaled, columns=v_feature_names)\n",
    "\n",
    "display(\"Scale 변환 전:\", df_raw_x_num.head())\n",
    "display(\"Scale 변환 후:\",df_x_scaled.head())"
   ]
  },
  {
   "cell_type": "code",
   "execution_count": 10,
   "id": "1ab3ef40-28ae-4070-8006-8b48df13f7e4",
   "metadata": {},
   "outputs": [
    {
     "data": {
      "text/plain": [
       "'변환 전:'"
      ]
     },
     "metadata": {},
     "output_type": "display_data"
    },
    {
     "data": {
      "text/html": [
       "<div>\n",
       "<style scoped>\n",
       "    .dataframe tbody tr th:only-of-type {\n",
       "        vertical-align: middle;\n",
       "    }\n",
       "\n",
       "    .dataframe tbody tr th {\n",
       "        vertical-align: top;\n",
       "    }\n",
       "\n",
       "    .dataframe thead th {\n",
       "        text-align: right;\n",
       "    }\n",
       "</style>\n",
       "<table border=\"1\" class=\"dataframe\">\n",
       "  <thead>\n",
       "    <tr style=\"text-align: right;\">\n",
       "      <th></th>\n",
       "      <th>steel_kind</th>\n",
       "      <th>hsb</th>\n",
       "      <th>fur_avg_temp</th>\n",
       "      <th>fur_total_time</th>\n",
       "      <th>rolling_method</th>\n",
       "      <th>rolling_temp</th>\n",
       "      <th>descaling_count</th>\n",
       "      <th>work_group</th>\n",
       "    </tr>\n",
       "  </thead>\n",
       "  <tbody>\n",
       "    <tr>\n",
       "      <th>0</th>\n",
       "      <td>C</td>\n",
       "      <td>적용</td>\n",
       "      <td>1127.5</td>\n",
       "      <td>297</td>\n",
       "      <td>CR(제어압연)</td>\n",
       "      <td>934</td>\n",
       "      <td>8</td>\n",
       "      <td>2조</td>\n",
       "    </tr>\n",
       "    <tr>\n",
       "      <th>1</th>\n",
       "      <td>C</td>\n",
       "      <td>적용</td>\n",
       "      <td>1136.0</td>\n",
       "      <td>235</td>\n",
       "      <td>CR(제어압연)</td>\n",
       "      <td>911</td>\n",
       "      <td>8</td>\n",
       "      <td>2조</td>\n",
       "    </tr>\n",
       "    <tr>\n",
       "      <th>2</th>\n",
       "      <td>C</td>\n",
       "      <td>적용</td>\n",
       "      <td>1130.0</td>\n",
       "      <td>240</td>\n",
       "      <td>CR(제어압연)</td>\n",
       "      <td>935</td>\n",
       "      <td>10</td>\n",
       "      <td>2조</td>\n",
       "    </tr>\n",
       "    <tr>\n",
       "      <th>3</th>\n",
       "      <td>C</td>\n",
       "      <td>적용</td>\n",
       "      <td>1130.0</td>\n",
       "      <td>287</td>\n",
       "      <td>CR(제어압연)</td>\n",
       "      <td>935</td>\n",
       "      <td>10</td>\n",
       "      <td>2조</td>\n",
       "    </tr>\n",
       "    <tr>\n",
       "      <th>4</th>\n",
       "      <td>C</td>\n",
       "      <td>적용</td>\n",
       "      <td>1135.5</td>\n",
       "      <td>286</td>\n",
       "      <td>CR(제어압연)</td>\n",
       "      <td>915</td>\n",
       "      <td>10</td>\n",
       "      <td>2조</td>\n",
       "    </tr>\n",
       "  </tbody>\n",
       "</table>\n",
       "</div>"
      ],
      "text/plain": [
       "  steel_kind hsb  fur_avg_temp  fur_total_time rolling_method  rolling_temp  \\\n",
       "0          C  적용        1127.5             297       CR(제어압연)           934   \n",
       "1          C  적용        1136.0             235       CR(제어압연)           911   \n",
       "2          C  적용        1130.0             240       CR(제어압연)           935   \n",
       "3          C  적용        1130.0             287       CR(제어압연)           935   \n",
       "4          C  적용        1135.5             286       CR(제어압연)           915   \n",
       "\n",
       "   descaling_count work_group  \n",
       "0                8         2조  \n",
       "1                8         2조  \n",
       "2               10         2조  \n",
       "3               10         2조  \n",
       "4               10         2조  "
      ]
     },
     "metadata": {},
     "output_type": "display_data"
    },
    {
     "data": {
      "text/plain": [
       "'Scale/Dummy 변환 후:'"
      ]
     },
     "metadata": {},
     "output_type": "display_data"
    },
    {
     "data": {
      "text/html": [
       "<div>\n",
       "<style scoped>\n",
       "    .dataframe tbody tr th:only-of-type {\n",
       "        vertical-align: middle;\n",
       "    }\n",
       "\n",
       "    .dataframe tbody tr th {\n",
       "        vertical-align: top;\n",
       "    }\n",
       "\n",
       "    .dataframe thead th {\n",
       "        text-align: right;\n",
       "    }\n",
       "</style>\n",
       "<table border=\"1\" class=\"dataframe\">\n",
       "  <thead>\n",
       "    <tr style=\"text-align: right;\">\n",
       "      <th></th>\n",
       "      <th>fur_avg_temp</th>\n",
       "      <th>fur_total_time</th>\n",
       "      <th>rolling_temp</th>\n",
       "      <th>descaling_count</th>\n",
       "      <th>steel_kind_C</th>\n",
       "      <th>hsb_미적용</th>\n",
       "      <th>hsb_적용</th>\n",
       "      <th>rolling_method_CR(제어압연)</th>\n",
       "      <th>work_group_1조</th>\n",
       "      <th>work_group_2조</th>\n",
       "      <th>work_group_3조</th>\n",
       "      <th>work_group_4조</th>\n",
       "    </tr>\n",
       "  </thead>\n",
       "  <tbody>\n",
       "    <tr>\n",
       "      <th>0</th>\n",
       "      <td>-2.325197</td>\n",
       "      <td>1.901318</td>\n",
       "      <td>-0.638279</td>\n",
       "      <td>-1.140355</td>\n",
       "      <td>True</td>\n",
       "      <td>False</td>\n",
       "      <td>True</td>\n",
       "      <td>True</td>\n",
       "      <td>False</td>\n",
       "      <td>True</td>\n",
       "      <td>False</td>\n",
       "      <td>False</td>\n",
       "    </tr>\n",
       "    <tr>\n",
       "      <th>1</th>\n",
       "      <td>-1.733509</td>\n",
       "      <td>0.153117</td>\n",
       "      <td>-1.115582</td>\n",
       "      <td>-1.140355</td>\n",
       "      <td>True</td>\n",
       "      <td>False</td>\n",
       "      <td>True</td>\n",
       "      <td>True</td>\n",
       "      <td>False</td>\n",
       "      <td>True</td>\n",
       "      <td>False</td>\n",
       "      <td>False</td>\n",
       "    </tr>\n",
       "    <tr>\n",
       "      <th>2</th>\n",
       "      <td>-2.151171</td>\n",
       "      <td>0.294101</td>\n",
       "      <td>-0.617526</td>\n",
       "      <td>0.700347</td>\n",
       "      <td>True</td>\n",
       "      <td>False</td>\n",
       "      <td>True</td>\n",
       "      <td>True</td>\n",
       "      <td>False</td>\n",
       "      <td>True</td>\n",
       "      <td>False</td>\n",
       "      <td>False</td>\n",
       "    </tr>\n",
       "    <tr>\n",
       "      <th>3</th>\n",
       "      <td>-2.151171</td>\n",
       "      <td>1.619350</td>\n",
       "      <td>-0.617526</td>\n",
       "      <td>0.700347</td>\n",
       "      <td>True</td>\n",
       "      <td>False</td>\n",
       "      <td>True</td>\n",
       "      <td>True</td>\n",
       "      <td>False</td>\n",
       "      <td>True</td>\n",
       "      <td>False</td>\n",
       "      <td>False</td>\n",
       "    </tr>\n",
       "    <tr>\n",
       "      <th>4</th>\n",
       "      <td>-1.768314</td>\n",
       "      <td>1.591154</td>\n",
       "      <td>-1.032573</td>\n",
       "      <td>0.700347</td>\n",
       "      <td>True</td>\n",
       "      <td>False</td>\n",
       "      <td>True</td>\n",
       "      <td>True</td>\n",
       "      <td>False</td>\n",
       "      <td>True</td>\n",
       "      <td>False</td>\n",
       "      <td>False</td>\n",
       "    </tr>\n",
       "  </tbody>\n",
       "</table>\n",
       "</div>"
      ],
      "text/plain": [
       "   fur_avg_temp  fur_total_time  rolling_temp  descaling_count  steel_kind_C  \\\n",
       "0     -2.325197        1.901318     -0.638279        -1.140355          True   \n",
       "1     -1.733509        0.153117     -1.115582        -1.140355          True   \n",
       "2     -2.151171        0.294101     -0.617526         0.700347          True   \n",
       "3     -2.151171        1.619350     -0.617526         0.700347          True   \n",
       "4     -1.768314        1.591154     -1.032573         0.700347          True   \n",
       "\n",
       "   hsb_미적용  hsb_적용  rolling_method_CR(제어압연)  work_group_1조  work_group_2조  \\\n",
       "0    False    True                     True          False           True   \n",
       "1    False    True                     True          False           True   \n",
       "2    False    True                     True          False           True   \n",
       "3    False    True                     True          False           True   \n",
       "4    False    True                     True          False           True   \n",
       "\n",
       "   work_group_3조  work_group_4조  \n",
       "0          False          False  \n",
       "1          False          False  \n",
       "2          False          False  \n",
       "3          False          False  \n",
       "4          False          False  "
      ]
     },
     "metadata": {},
     "output_type": "display_data"
    }
   ],
   "source": [
    "# 설명변수 데이터 결합: scale된 연속형 + dummy된 범주형\n",
    "df_x_converted = df_x_scaled.join(df_x_dummy)\n",
    "\n",
    "display(\"변환 전:\", df_raw_x.head())\n",
    "display(\"Scale/Dummy 변환 후:\",df_x_converted.head())"
   ]
  },
  {
   "cell_type": "markdown",
   "id": "254ce5b6-bbea-4c84-b4f9-6c384ef64e96",
   "metadata": {},
   "source": [
    "#### 데이터 분할: Train vs Test"
   ]
  },
  {
   "cell_type": "code",
   "execution_count": 12,
   "id": "ad973422-dfa0-4929-801c-f9eb30ee876c",
   "metadata": {},
   "outputs": [],
   "source": [
    "X_train, X_test, y_train, y_test = train_test_split(df_x_converted, df_raw_y, test_size=0.3, random_state=1538)"
   ]
  },
  {
   "cell_type": "markdown",
   "id": "fd5f935f-14f5-4452-bcda-1d9562ccd708",
   "metadata": {},
   "source": [
    "## 모델 생성"
   ]
  },
  {
   "cell_type": "markdown",
   "id": "1be0c210-abde-459f-8849-b35fb5ac0b53",
   "metadata": {},
   "source": [
    "#### 기본 옵션 모델 생성"
   ]
  },
  {
   "cell_type": "code",
   "execution_count": 13,
   "id": "426393de-3f93-422a-a3a7-bbcf784d0074",
   "metadata": {},
   "outputs": [
    {
     "name": "stdout",
     "output_type": "stream",
     "text": [
      "The history saving thread hit an unexpected error (OperationalError('attempt to write a readonly database')).History will not be written to the database.\n",
      "Train Accuracy : 0.844\n",
      "Test Accuracy : 0.819\n"
     ]
    }
   ],
   "source": [
    "# SVM 모델 학습\n",
    "svm_model = SVC(kernel='linear', random_state=1538)  # Using linear kernel; you can change to 'rbf' or others\n",
    "svm_model.fit(X_train, y_train)\n",
    "\n",
    "# train 모델 정확도\n",
    "print(\"Train Accuracy : {:.3f}\".format(svm_model.score(X_train, y_train)))\n",
    "# test 모델 정확도\n",
    "print(\"Test Accuracy : {:.3f}\".format(svm_model.score(X_test, y_test)))"
   ]
  },
  {
   "cell_type": "code",
   "execution_count": 14,
   "id": "64f531b6-f992-4347-8bad-8ff6567930e8",
   "metadata": {},
   "outputs": [
    {
     "name": "stdout",
     "output_type": "stream",
     "text": [
      "dict_keys(['C', 'break_ties', 'cache_size', 'class_weight', 'coef0', 'decision_function_shape', 'degree', 'gamma', 'kernel', 'max_iter', 'probability', 'random_state', 'shrinking', 'tol', 'verbose'])\n",
      "dict_values([1.0, False, 200, None, 0.0, 'ovr', 3, 'scale', 'linear', -1, False, 1538, True, 0.001, False])\n"
     ]
    }
   ],
   "source": [
    "# 실행옵션 확인\n",
    "print(svm_model.get_params().keys())\n",
    "print(svm_model.get_params().values())"
   ]
  },
  {
   "cell_type": "markdown",
   "id": "fb2ec4aa-8768-4a6a-b8b4-e5c43f7d2e31",
   "metadata": {},
   "source": [
    "#### Cost 미세 변화에 따른 모델 성능"
   ]
  },
  {
   "cell_type": "code",
   "execution_count": 15,
   "id": "2c3c4978-d908-4879-878b-a5e6ecd89de5",
   "metadata": {},
   "outputs": [],
   "source": [
    "# train 및 test 정확도 결과 저장용\n",
    "train_accuracy = []; test_accuracy = []\n",
    "\n",
    "# para_c = [10 **c for c in range(-2, 3)] # 0.01, 0.1, 1, 10, 100 : 큰 변화 영향 확인\n",
    "para_c = [0.1 * c for c in range(1, 13)] # 0.1~1.0 : 작은 변화 영향 확인\n",
    "\n",
    "for v_C in para_c:\n",
    "    svm = SVC(C = v_C, random_state = 1538)\n",
    "    svm.fit(X_train, y_train)\n",
    "    train_accuracy.append(svm.score(X_train, y_train))\n",
    "    test_accuracy.append(svm.score(X_test, y_test))\n",
    "\n",
    "# 데이터 테이블로 저장\n",
    "df_accuracy_c = pd.DataFrame()\n",
    "df_accuracy_c[\"Cost\"] = para_c\n",
    "df_accuracy_c[\"TrainAccuracy\"] = train_accuracy\n",
    "df_accuracy_c[\"TestAccuracy\"] = test_accuracy"
   ]
  },
  {
   "cell_type": "code",
   "execution_count": 16,
   "id": "26fac583-a41a-4a31-89f7-406ae6e8b51c",
   "metadata": {},
   "outputs": [
    {
     "data": {
      "text/html": [
       "<div>\n",
       "<style scoped>\n",
       "    .dataframe tbody tr th:only-of-type {\n",
       "        vertical-align: middle;\n",
       "    }\n",
       "\n",
       "    .dataframe tbody tr th {\n",
       "        vertical-align: top;\n",
       "    }\n",
       "\n",
       "    .dataframe thead th {\n",
       "        text-align: right;\n",
       "    }\n",
       "</style>\n",
       "<table border=\"1\" class=\"dataframe\">\n",
       "  <thead>\n",
       "    <tr style=\"text-align: right;\">\n",
       "      <th></th>\n",
       "      <th>Cost</th>\n",
       "      <th>TrainAccuracy</th>\n",
       "      <th>TestAccuracy</th>\n",
       "    </tr>\n",
       "  </thead>\n",
       "  <tbody>\n",
       "    <tr>\n",
       "      <th>0</th>\n",
       "      <td>0.1</td>\n",
       "      <td>0.799</td>\n",
       "      <td>0.779</td>\n",
       "    </tr>\n",
       "    <tr>\n",
       "      <th>1</th>\n",
       "      <td>0.2</td>\n",
       "      <td>0.852</td>\n",
       "      <td>0.832</td>\n",
       "    </tr>\n",
       "    <tr>\n",
       "      <th>2</th>\n",
       "      <td>0.3</td>\n",
       "      <td>0.884</td>\n",
       "      <td>0.872</td>\n",
       "    </tr>\n",
       "    <tr>\n",
       "      <th>3</th>\n",
       "      <td>0.4</td>\n",
       "      <td>0.899</td>\n",
       "      <td>0.876</td>\n",
       "    </tr>\n",
       "    <tr>\n",
       "      <th>4</th>\n",
       "      <td>0.5</td>\n",
       "      <td>0.913</td>\n",
       "      <td>0.872</td>\n",
       "    </tr>\n",
       "    <tr>\n",
       "      <th>5</th>\n",
       "      <td>0.6</td>\n",
       "      <td>0.918</td>\n",
       "      <td>0.881</td>\n",
       "    </tr>\n",
       "    <tr>\n",
       "      <th>6</th>\n",
       "      <td>0.7</td>\n",
       "      <td>0.917</td>\n",
       "      <td>0.881</td>\n",
       "    </tr>\n",
       "    <tr>\n",
       "      <th>7</th>\n",
       "      <td>0.8</td>\n",
       "      <td>0.922</td>\n",
       "      <td>0.881</td>\n",
       "    </tr>\n",
       "    <tr>\n",
       "      <th>8</th>\n",
       "      <td>0.9</td>\n",
       "      <td>0.922</td>\n",
       "      <td>0.881</td>\n",
       "    </tr>\n",
       "    <tr>\n",
       "      <th>9</th>\n",
       "      <td>1.0</td>\n",
       "      <td>0.920</td>\n",
       "      <td>0.885</td>\n",
       "    </tr>\n",
       "    <tr>\n",
       "      <th>10</th>\n",
       "      <td>1.1</td>\n",
       "      <td>0.922</td>\n",
       "      <td>0.876</td>\n",
       "    </tr>\n",
       "    <tr>\n",
       "      <th>11</th>\n",
       "      <td>1.2</td>\n",
       "      <td>0.924</td>\n",
       "      <td>0.876</td>\n",
       "    </tr>\n",
       "  </tbody>\n",
       "</table>\n",
       "</div>"
      ],
      "text/plain": [
       "    Cost  TrainAccuracy  TestAccuracy\n",
       "0    0.1          0.799         0.779\n",
       "1    0.2          0.852         0.832\n",
       "2    0.3          0.884         0.872\n",
       "3    0.4          0.899         0.876\n",
       "4    0.5          0.913         0.872\n",
       "5    0.6          0.918         0.881\n",
       "6    0.7          0.917         0.881\n",
       "7    0.8          0.922         0.881\n",
       "8    0.9          0.922         0.881\n",
       "9    1.0          0.920         0.885\n",
       "10   1.1          0.922         0.876\n",
       "11   1.2          0.924         0.876"
      ]
     },
     "execution_count": 16,
     "metadata": {},
     "output_type": "execute_result"
    }
   ],
   "source": [
    "# Cost별 정확도\n",
    "df_accuracy_c.round(3)"
   ]
  },
  {
   "cell_type": "code",
   "execution_count": 17,
   "id": "bb244c3e-89f5-464c-8319-9da2e3a29a30",
   "metadata": {},
   "outputs": [
    {
     "data": {
      "text/plain": [
       "<matplotlib.legend.Legend at 0x154557a90>"
      ]
     },
     "execution_count": 17,
     "metadata": {},
     "output_type": "execute_result"
    },
    {
     "data": {
      "image/png": "[encoded data removed]",
      "text/plain": [
       "<Figure size 640x480 with 1 Axes>"
      ]
     },
     "metadata": {},
     "output_type": "display_data"
    }
   ],
   "source": [
    "# 정확도 그래프 확인\n",
    "plt.plot(para_c, train_accuracy, linestyle = \"-\", label = \"Train Accuracy\")\n",
    "plt.plot(para_c, test_accuracy, linestyle = \"--\", label = \"Test Accuracy\")\n",
    "plt.ylabel(\"Accuracy\"); plt.xlabel(\"Cost\")\n",
    "plt.legend()"
   ]
  },
  {
   "cell_type": "code",
   "execution_count": null,
   "id": "2e267426-61a6-454b-8af5-44608784de62",
   "metadata": {},
   "outputs": [],
   "source": [
    "# Cost 지정: 0.4, 1.0,1.2"
   ]
  },
  {
   "cell_type": "markdown",
   "id": "e6bbdd05-c603-464e-9230-55d869eb8ca1",
   "metadata": {},
   "source": [
    "#### Gamma(데이터 영향 범위) 변경에 따른 모델 성능"
   ]
  },
  {
   "cell_type": "code",
   "execution_count": 30,
   "id": "13ae42e7-d02e-4627-9e44-52f3f3c6fa50",
   "metadata": {},
   "outputs": [],
   "source": [
    "# C= 0.4\n",
    "# train 및 test 정확도 결과 저장용\n",
    "train_accuracy = []; test_accuracy = []\n",
    "\n",
    "#para_gamma = [10 **gamma for gamma in range(-2, 3)]   # 0.01, 0.1, 1, 10, 100 : 큰 변화 영향 확인\n",
    "para_gamma = [0.1 * gamma for gamma in range(1, 11)]     # 0.1~1.0 : 작은 변화 영향 확인\n",
    "\n",
    "for v_gamma in para_gamma:\n",
    "    svm = SVC(gamma = v_gamma, C=0.4 ,random_state = 1538)\n",
    "    svm.fit(X_train, y_train)\n",
    "    train_accuracy.append(svm.score(X_train, y_train))\n",
    "    test_accuracy.append(svm.score(X_test, y_test))\n",
    "\n",
    "# 데이터 테이블로 저장\n",
    "df_accuracy_gamma = pd.DataFrame()\n",
    "df_accuracy_gamma[\"gamma\"] = para_gamma\n",
    "df_accuracy_gamma[\"TrainAccuracy\"] = train_accuracy\n",
    "df_accuracy_gamma[\"TestAccuracy\"] = test_accuracy"
   ]
  },
  {
   "cell_type": "code",
   "execution_count": 31,
   "id": "1dd6706c-db0f-4e75-aeb1-be54d5112a90",
   "metadata": {},
   "outputs": [
    {
     "data": {
      "text/html": [
       "<div>\n",
       "<style scoped>\n",
       "    .dataframe tbody tr th:only-of-type {\n",
       "        vertical-align: middle;\n",
       "    }\n",
       "\n",
       "    .dataframe tbody tr th {\n",
       "        vertical-align: top;\n",
       "    }\n",
       "\n",
       "    .dataframe thead th {\n",
       "        text-align: right;\n",
       "    }\n",
       "</style>\n",
       "<table border=\"1\" class=\"dataframe\">\n",
       "  <thead>\n",
       "    <tr style=\"text-align: right;\">\n",
       "      <th></th>\n",
       "      <th>gamma</th>\n",
       "      <th>TrainAccuracy</th>\n",
       "      <th>TestAccuracy</th>\n",
       "    </tr>\n",
       "  </thead>\n",
       "  <tbody>\n",
       "    <tr>\n",
       "      <th>0</th>\n",
       "      <td>0.1</td>\n",
       "      <td>0.8786</td>\n",
       "      <td>0.8628</td>\n",
       "    </tr>\n",
       "    <tr>\n",
       "      <th>1</th>\n",
       "      <td>0.2</td>\n",
       "      <td>0.9089</td>\n",
       "      <td>0.8761</td>\n",
       "    </tr>\n",
       "    <tr>\n",
       "      <th>2</th>\n",
       "      <td>0.3</td>\n",
       "      <td>0.9184</td>\n",
       "      <td>0.8894</td>\n",
       "    </tr>\n",
       "    <tr>\n",
       "      <th>3</th>\n",
       "      <td>0.4</td>\n",
       "      <td>0.9241</td>\n",
       "      <td>0.8894</td>\n",
       "    </tr>\n",
       "    <tr>\n",
       "      <th>4</th>\n",
       "      <td>0.5</td>\n",
       "      <td>0.9298</td>\n",
       "      <td>0.8850</td>\n",
       "    </tr>\n",
       "    <tr>\n",
       "      <th>5</th>\n",
       "      <td>0.6</td>\n",
       "      <td>0.9412</td>\n",
       "      <td>0.8850</td>\n",
       "    </tr>\n",
       "    <tr>\n",
       "      <th>6</th>\n",
       "      <td>0.7</td>\n",
       "      <td>0.9488</td>\n",
       "      <td>0.8805</td>\n",
       "    </tr>\n",
       "    <tr>\n",
       "      <th>7</th>\n",
       "      <td>0.8</td>\n",
       "      <td>0.9507</td>\n",
       "      <td>0.8673</td>\n",
       "    </tr>\n",
       "    <tr>\n",
       "      <th>8</th>\n",
       "      <td>0.9</td>\n",
       "      <td>0.9564</td>\n",
       "      <td>0.8628</td>\n",
       "    </tr>\n",
       "    <tr>\n",
       "      <th>9</th>\n",
       "      <td>1.0</td>\n",
       "      <td>0.9583</td>\n",
       "      <td>0.8540</td>\n",
       "    </tr>\n",
       "  </tbody>\n",
       "</table>\n",
       "</div>"
      ],
      "text/plain": [
       "   gamma  TrainAccuracy  TestAccuracy\n",
       "0    0.1         0.8786        0.8628\n",
       "1    0.2         0.9089        0.8761\n",
       "2    0.3         0.9184        0.8894\n",
       "3    0.4         0.9241        0.8894\n",
       "4    0.5         0.9298        0.8850\n",
       "5    0.6         0.9412        0.8850\n",
       "6    0.7         0.9488        0.8805\n",
       "7    0.8         0.9507        0.8673\n",
       "8    0.9         0.9564        0.8628\n",
       "9    1.0         0.9583        0.8540"
      ]
     },
     "execution_count": 31,
     "metadata": {},
     "output_type": "execute_result"
    }
   ],
   "source": [
    "# Gamma별 정확도\n",
    "df_accuracy_gamma.round(4)"
   ]
  },
  {
   "cell_type": "code",
   "execution_count": 32,
   "id": "262de6a0-ba00-4e75-8e74-6771852b0385",
   "metadata": {},
   "outputs": [
    {
     "data": {
      "text/plain": [
       "<matplotlib.legend.Legend at 0x154728a50>"
      ]
     },
     "execution_count": 32,
     "metadata": {},
     "output_type": "execute_result"
    },
    {
     "data": {
      "image/png": "[encoded data removed]",
      "text/plain": [
       "<Figure size 640x480 with 1 Axes>"
      ]
     },
     "metadata": {},
     "output_type": "display_data"
    }
   ],
   "source": [
    "# 모델 정확도 그래프 확인\n",
    "plt.plot(para_gamma, train_accuracy, linestyle = \"-\", label = \"Train Accuracy\")\n",
    "plt.plot(para_gamma, test_accuracy, linestyle = \"--\", label = \"Test Accuracy\")\n",
    "plt.ylabel(\"Accuracy\"); plt.xlabel(\"Gamma\")  # X 축 범위 log 변환\n",
    "plt.legend()"
   ]
  },
  {
   "cell_type": "code",
   "execution_count": 21,
   "id": "51035322-143d-4fc8-a410-de56574fed50",
   "metadata": {},
   "outputs": [],
   "source": [
    "# Gamma 지정 : 0.5"
   ]
  },
  {
   "cell_type": "code",
   "execution_count": 25,
   "id": "da8f01c9-3769-429d-b6e7-2879d5992a7f",
   "metadata": {},
   "outputs": [],
   "source": [
    "# C= 1.0\n",
    "# Gamma 미세 변화에 따른 모델 성능\n",
    "# train 및 test 정확도 결과 저장용\n",
    "train_accuracy = []; test_accuracy = []\n",
    "\n",
    "# para_gamma = [10 **gamma for gamma in range(-2, 3)]   # 0.01, 0.1, 1, 10, 100 : 큰 변화 영향 확인\n",
    "para_gamma = [0.1 * gamma for gamma in range(1, 11)]     # 0.1~1.0 : 작은 변화 영향 확인\n",
    "\n",
    "for v_gamma in para_gamma:\n",
    "    svm = SVC(gamma = v_gamma, C = 1.0, random_state = 1234)\n",
    "    svm.fit(X_train, y_train)\n",
    "    train_accuracy.append(svm.score(X_train, y_train))\n",
    "    test_accuracy.append(svm.score(X_test, y_test))\n",
    "\n",
    "# 데이터 테이블로 저장\n",
    "df_accuracy_gamma = pd.DataFrame()\n",
    "df_accuracy_gamma[\"gamma\"] = para_gamma\n",
    "df_accuracy_gamma[\"TrainAccuracy\"] = train_accuracy\n",
    "df_accuracy_gamma[\"TestAccuracy\"] = test_accuracy"
   ]
  },
  {
   "cell_type": "code",
   "execution_count": 33,
   "id": "0a078652-30bb-4742-9198-2947c901ff7b",
   "metadata": {},
   "outputs": [
    {
     "data": {
      "text/html": [
       "<div>\n",
       "<style scoped>\n",
       "    .dataframe tbody tr th:only-of-type {\n",
       "        vertical-align: middle;\n",
       "    }\n",
       "\n",
       "    .dataframe tbody tr th {\n",
       "        vertical-align: top;\n",
       "    }\n",
       "\n",
       "    .dataframe thead th {\n",
       "        text-align: right;\n",
       "    }\n",
       "</style>\n",
       "<table border=\"1\" class=\"dataframe\">\n",
       "  <thead>\n",
       "    <tr style=\"text-align: right;\">\n",
       "      <th></th>\n",
       "      <th>gamma</th>\n",
       "      <th>TrainAccuracy</th>\n",
       "      <th>TestAccuracy</th>\n",
       "    </tr>\n",
       "  </thead>\n",
       "  <tbody>\n",
       "    <tr>\n",
       "      <th>0</th>\n",
       "      <td>0.1</td>\n",
       "      <td>0.8786</td>\n",
       "      <td>0.8628</td>\n",
       "    </tr>\n",
       "    <tr>\n",
       "      <th>1</th>\n",
       "      <td>0.2</td>\n",
       "      <td>0.9089</td>\n",
       "      <td>0.8761</td>\n",
       "    </tr>\n",
       "    <tr>\n",
       "      <th>2</th>\n",
       "      <td>0.3</td>\n",
       "      <td>0.9184</td>\n",
       "      <td>0.8894</td>\n",
       "    </tr>\n",
       "    <tr>\n",
       "      <th>3</th>\n",
       "      <td>0.4</td>\n",
       "      <td>0.9241</td>\n",
       "      <td>0.8894</td>\n",
       "    </tr>\n",
       "    <tr>\n",
       "      <th>4</th>\n",
       "      <td>0.5</td>\n",
       "      <td>0.9298</td>\n",
       "      <td>0.8850</td>\n",
       "    </tr>\n",
       "    <tr>\n",
       "      <th>5</th>\n",
       "      <td>0.6</td>\n",
       "      <td>0.9412</td>\n",
       "      <td>0.8850</td>\n",
       "    </tr>\n",
       "    <tr>\n",
       "      <th>6</th>\n",
       "      <td>0.7</td>\n",
       "      <td>0.9488</td>\n",
       "      <td>0.8805</td>\n",
       "    </tr>\n",
       "    <tr>\n",
       "      <th>7</th>\n",
       "      <td>0.8</td>\n",
       "      <td>0.9507</td>\n",
       "      <td>0.8673</td>\n",
       "    </tr>\n",
       "    <tr>\n",
       "      <th>8</th>\n",
       "      <td>0.9</td>\n",
       "      <td>0.9564</td>\n",
       "      <td>0.8628</td>\n",
       "    </tr>\n",
       "    <tr>\n",
       "      <th>9</th>\n",
       "      <td>1.0</td>\n",
       "      <td>0.9583</td>\n",
       "      <td>0.8540</td>\n",
       "    </tr>\n",
       "  </tbody>\n",
       "</table>\n",
       "</div>"
      ],
      "text/plain": [
       "   gamma  TrainAccuracy  TestAccuracy\n",
       "0    0.1         0.8786        0.8628\n",
       "1    0.2         0.9089        0.8761\n",
       "2    0.3         0.9184        0.8894\n",
       "3    0.4         0.9241        0.8894\n",
       "4    0.5         0.9298        0.8850\n",
       "5    0.6         0.9412        0.8850\n",
       "6    0.7         0.9488        0.8805\n",
       "7    0.8         0.9507        0.8673\n",
       "8    0.9         0.9564        0.8628\n",
       "9    1.0         0.9583        0.8540"
      ]
     },
     "execution_count": 33,
     "metadata": {},
     "output_type": "execute_result"
    }
   ],
   "source": [
    "# Gamma별 정확도\n",
    "df_accuracy_gamma.round(4)"
   ]
  },
  {
   "cell_type": "code",
   "execution_count": 34,
   "id": "d57fc35e-41a4-4c9d-8dd0-75c3bc893895",
   "metadata": {},
   "outputs": [
    {
     "data": {
      "text/plain": [
       "<matplotlib.legend.Legend at 0x1547b5210>"
      ]
     },
     "execution_count": 34,
     "metadata": {},
     "output_type": "execute_result"
    },
    {
     "data": {
      "image/png": "[encoded data removed]",
      "text/plain": [
       "<Figure size 640x480 with 1 Axes>"
      ]
     },
     "metadata": {},
     "output_type": "display_data"
    }
   ],
   "source": [
    "# 모델 정확도 그래프 확인\n",
    "plt.plot(para_gamma, train_accuracy, linestyle = \"-\", label = \"Train Accuracy\")\n",
    "plt.plot(para_gamma, test_accuracy, linestyle = \"--\", label = \"Test Accuracy\")\n",
    "plt.ylabel(\"Accuracy\"); plt.xlabel(\"Gamma\")  # X 축 범위 log 변환\n",
    "plt.legend()"
   ]
  },
  {
   "cell_type": "code",
   "execution_count": null,
   "id": "b50eb657-0f54-4fea-8f7e-63586bf162de",
   "metadata": {},
   "outputs": [],
   "source": [
    "# Gamma 지정 : 0.4"
   ]
  },
  {
   "cell_type": "code",
   "execution_count": 36,
   "id": "5ffed2a5-61d1-45d7-813b-2a032e34411f",
   "metadata": {},
   "outputs": [],
   "source": [
    "# C= 1.2\n",
    "# train 및 test 정확도 결과 저장용\n",
    "train_accuracy = []; test_accuracy = []\n",
    "\n",
    "#para_gamma = [10 **gamma for gamma in range(-2, 3)]   # 0.01, 0.1, 1, 10, 100 : 큰 변화 영향 확인\n",
    "para_gamma = [0.1 * gamma for gamma in range(1, 11)]     # 0.1~1.0 : 작은 변화 영향 확인\n",
    "\n",
    "for v_gamma in para_gamma:\n",
    "    svm = SVC(gamma = v_gamma, C=1.2 ,random_state = 1538)\n",
    "    svm.fit(X_train, y_train)\n",
    "    train_accuracy.append(svm.score(X_train, y_train))\n",
    "    test_accuracy.append(svm.score(X_test, y_test))\n",
    "\n",
    "# 데이터 테이블로 저장\n",
    "df_accuracy_gamma = pd.DataFrame()\n",
    "df_accuracy_gamma[\"gamma\"] = para_gamma\n",
    "df_accuracy_gamma[\"TrainAccuracy\"] = train_accuracy\n",
    "df_accuracy_gamma[\"TestAccuracy\"] = test_accuracy"
   ]
  },
  {
   "cell_type": "code",
   "execution_count": 37,
   "id": "64a0c25c-0fc9-49d9-80cb-7d462987ed6d",
   "metadata": {},
   "outputs": [
    {
     "data": {
      "text/html": [
       "<div>\n",
       "<style scoped>\n",
       "    .dataframe tbody tr th:only-of-type {\n",
       "        vertical-align: middle;\n",
       "    }\n",
       "\n",
       "    .dataframe tbody tr th {\n",
       "        vertical-align: top;\n",
       "    }\n",
       "\n",
       "    .dataframe thead th {\n",
       "        text-align: right;\n",
       "    }\n",
       "</style>\n",
       "<table border=\"1\" class=\"dataframe\">\n",
       "  <thead>\n",
       "    <tr style=\"text-align: right;\">\n",
       "      <th></th>\n",
       "      <th>gamma</th>\n",
       "      <th>TrainAccuracy</th>\n",
       "      <th>TestAccuracy</th>\n",
       "    </tr>\n",
       "  </thead>\n",
       "  <tbody>\n",
       "    <tr>\n",
       "      <th>0</th>\n",
       "      <td>0.1</td>\n",
       "      <td>0.9184</td>\n",
       "      <td>0.8805</td>\n",
       "    </tr>\n",
       "    <tr>\n",
       "      <th>1</th>\n",
       "      <td>0.2</td>\n",
       "      <td>0.9298</td>\n",
       "      <td>0.8938</td>\n",
       "    </tr>\n",
       "    <tr>\n",
       "      <th>2</th>\n",
       "      <td>0.3</td>\n",
       "      <td>0.9374</td>\n",
       "      <td>0.8982</td>\n",
       "    </tr>\n",
       "    <tr>\n",
       "      <th>3</th>\n",
       "      <td>0.4</td>\n",
       "      <td>0.9620</td>\n",
       "      <td>0.9071</td>\n",
       "    </tr>\n",
       "    <tr>\n",
       "      <th>4</th>\n",
       "      <td>0.5</td>\n",
       "      <td>0.9696</td>\n",
       "      <td>0.9115</td>\n",
       "    </tr>\n",
       "    <tr>\n",
       "      <th>5</th>\n",
       "      <td>0.6</td>\n",
       "      <td>0.9734</td>\n",
       "      <td>0.9071</td>\n",
       "    </tr>\n",
       "    <tr>\n",
       "      <th>6</th>\n",
       "      <td>0.7</td>\n",
       "      <td>0.9734</td>\n",
       "      <td>0.8982</td>\n",
       "    </tr>\n",
       "    <tr>\n",
       "      <th>7</th>\n",
       "      <td>0.8</td>\n",
       "      <td>0.9772</td>\n",
       "      <td>0.8982</td>\n",
       "    </tr>\n",
       "    <tr>\n",
       "      <th>8</th>\n",
       "      <td>0.9</td>\n",
       "      <td>0.9810</td>\n",
       "      <td>0.8894</td>\n",
       "    </tr>\n",
       "    <tr>\n",
       "      <th>9</th>\n",
       "      <td>1.0</td>\n",
       "      <td>0.9848</td>\n",
       "      <td>0.8894</td>\n",
       "    </tr>\n",
       "  </tbody>\n",
       "</table>\n",
       "</div>"
      ],
      "text/plain": [
       "   gamma  TrainAccuracy  TestAccuracy\n",
       "0    0.1         0.9184        0.8805\n",
       "1    0.2         0.9298        0.8938\n",
       "2    0.3         0.9374        0.8982\n",
       "3    0.4         0.9620        0.9071\n",
       "4    0.5         0.9696        0.9115\n",
       "5    0.6         0.9734        0.9071\n",
       "6    0.7         0.9734        0.8982\n",
       "7    0.8         0.9772        0.8982\n",
       "8    0.9         0.9810        0.8894\n",
       "9    1.0         0.9848        0.8894"
      ]
     },
     "execution_count": 37,
     "metadata": {},
     "output_type": "execute_result"
    }
   ],
   "source": [
    "# Gamma별 정확도\n",
    "df_accuracy_gamma.round(4)"
   ]
  },
  {
   "cell_type": "code",
   "execution_count": 38,
   "id": "9ec11bc1-35e3-4929-b19c-64735bf3bac9",
   "metadata": {},
   "outputs": [
    {
     "data": {
      "text/plain": [
       "<matplotlib.legend.Legend at 0x154817890>"
      ]
     },
     "execution_count": 38,
     "metadata": {},
     "output_type": "execute_result"
    },
    {
     "data": {
      "image/png": "[encoded data removed]",
      "text/plain": [
       "<Figure size 640x480 with 1 Axes>"
      ]
     },
     "metadata": {},
     "output_type": "display_data"
    }
   ],
   "source": [
    "# 모델 정확도 그래프 확인\n",
    "plt.plot(para_gamma, train_accuracy, linestyle = \"-\", label = \"Train Accuracy\")\n",
    "plt.plot(para_gamma, test_accuracy, linestyle = \"--\", label = \"Test Accuracy\")\n",
    "plt.ylabel(\"Accuracy\"); plt.xlabel(\"Gamma\")  # X 축 범위 log 변환\n",
    "plt.legend()"
   ]
  },
  {
   "cell_type": "code",
   "execution_count": 39,
   "id": "4f24d060-def4-4f00-9893-6a96e038bf3c",
   "metadata": {},
   "outputs": [],
   "source": [
    "# Gamma 지정 : 0.5"
   ]
  },
  {
   "cell_type": "markdown",
   "id": "264f791c-efc0-4551-85ae-ca94091071f6",
   "metadata": {},
   "source": [
    "## 결론 도출"
   ]
  },
  {
   "cell_type": "code",
   "execution_count": 41,
   "id": "a92ff09c-c0a5-4298-a732-2440c7daa2e7",
   "metadata": {},
   "outputs": [
    {
     "name": "stdout",
     "output_type": "stream",
     "text": [
      "Train Accucary : 0.930\n",
      "Test Accuracy : 0.885\n",
      "\n",
      "Test Confusion matrix: \n",
      "[[ 69  17]\n",
      " [  9 131]]\n",
      "              precision    recall  f1-score   support\n",
      "\n",
      "          불량      0.885     0.802     0.841        86\n",
      "          양품      0.885     0.936     0.910       140\n",
      "\n",
      "    accuracy                          0.885       226\n",
      "   macro avg      0.885     0.869     0.876       226\n",
      "weighted avg      0.885     0.885     0.884       226\n",
      "\n"
     ]
    }
   ],
   "source": [
    "# 최종 모델\n",
    "svc_final = SVC(gamma = 0.5, C=0.4, random_state=1538)\n",
    "svc_final.fit(X_train, y_train)\n",
    "\n",
    "# 평가\n",
    "y_pred_train = svc_final.predict(X_train)\n",
    "y_pred_test = svc_final.predict(X_test)\n",
    "\n",
    "# train 모델 정확도\n",
    "print(\"Train Accucary : {:.3f}\".format(svc_final.score(X_train, y_train)))\n",
    "# test 모델 정확도\n",
    "print(\"Test Accuracy : {:.3f}\\n\".format(svc_final.score(X_test, y_test)))\n",
    "\n",
    "# confusion matrix\n",
    "print(\"Test Confusion matrix: \\n{}\".format(confusion_matrix(y_test, y_pred_test)))\n",
    "\n",
    "# 목표변수의 빈도 불균형 : f1 score로 모델 평가 \n",
    "print(classification_report(y_test, y_pred_test, digits=3))"
   ]
  },
  {
   "cell_type": "code",
   "execution_count": 42,
   "id": "15764bc7-54e9-4dc3-b0e5-e90ffcf32940",
   "metadata": {},
   "outputs": [
    {
     "name": "stdout",
     "output_type": "stream",
     "text": [
      "Train Accucary : 0.951\n",
      "Test Accuracy : 0.903\n",
      "\n",
      "Test Confusion matrix: \n",
      "[[ 73  13]\n",
      " [  9 131]]\n",
      "              precision    recall  f1-score   support\n",
      "\n",
      "          불량      0.890     0.849     0.869        86\n",
      "          양품      0.910     0.936     0.923       140\n",
      "\n",
      "    accuracy                          0.903       226\n",
      "   macro avg      0.900     0.892     0.896       226\n",
      "weighted avg      0.902     0.903     0.902       226\n",
      "\n"
     ]
    }
   ],
   "source": [
    "# 최종 모델\n",
    "svc_final = SVC(gamma = 0.4, C=1.0, random_state=1538)\n",
    "svc_final.fit(X_train, y_train)\n",
    "\n",
    "# 평가\n",
    "y_pred_train = svc_final.predict(X_train)\n",
    "y_pred_test = svc_final.predict(X_test)\n",
    "\n",
    "# train 모델 정확도\n",
    "print(\"Train Accucary : {:.3f}\".format(svc_final.score(X_train, y_train)))\n",
    "# test 모델 정확도\n",
    "print(\"Test Accuracy : {:.3f}\\n\".format(svc_final.score(X_test, y_test)))\n",
    "\n",
    "# confusion matrix\n",
    "print(\"Test Confusion matrix: \\n{}\".format(confusion_matrix(y_test, y_pred_test)))\n",
    "\n",
    "# 목표변수의 빈도 불균형 : f1 score로 모델 평가 \n",
    "print(classification_report(y_test, y_pred_test, digits=3))"
   ]
  },
  {
   "cell_type": "code",
   "execution_count": 43,
   "id": "1ac1312b-62d0-4ab8-af86-db005bf43924",
   "metadata": {
    "scrolled": true
   },
   "outputs": [
    {
     "name": "stdout",
     "output_type": "stream",
     "text": [
      "Train Accucary : 0.970\n",
      "Test Accuracy : 0.912\n",
      "\n",
      "Test Confusion matrix: \n",
      "[[ 74  12]\n",
      " [  8 132]]\n",
      "              precision    recall  f1-score   support\n",
      "\n",
      "          불량      0.902     0.860     0.881        86\n",
      "          양품      0.917     0.943     0.930       140\n",
      "\n",
      "    accuracy                          0.912       226\n",
      "   macro avg      0.910     0.902     0.905       226\n",
      "weighted avg      0.911     0.912     0.911       226\n",
      "\n"
     ]
    }
   ],
   "source": [
    "# 최종 모델\n",
    "svc_final = SVC(gamma = 0.5, C= 1.2, random_state=1538)\n",
    "svc_final.fit(X_train, y_train)\n",
    "\n",
    "# 평가\n",
    "y_pred_train = svc_final.predict(X_train)\n",
    "y_pred_test = svc_final.predict(X_test)\n",
    "\n",
    "# train 모델 정확도\n",
    "print(\"Train Accucary : {:.3f}\".format(svc_final.score(X_train, y_train)))\n",
    "# test 모델 정확도\n",
    "print(\"Test Accuracy : {:.3f}\\n\".format(svc_final.score(X_test, y_test)))\n",
    "\n",
    "# confusion matrix\n",
    "print(\"Test Confusion matrix: \\n{}\".format(confusion_matrix(y_test, y_pred_test)))\n",
    "\n",
    "# 목표변수의 빈도 불균형 : f1 score로 모델 평가 \n",
    "print(classification_report(y_test, y_pred_test, digits=3))"
   ]
  },
  {
   "cell_type": "markdown",
   "id": "69c2876d",
   "metadata": {},
   "source": [
    "## 티타늄(Ti) 데이터"
   ]
  },
  {
   "cell_type": "code",
   "execution_count": 5,
   "id": "60ed9bd2-5a6b-4ed8-8fa0-ccb2330e816f",
   "metadata": {},
   "outputs": [],
   "source": [
    "# 데이터 불러오기\n",
    "data = pd.read_csv(\"plate_t.csv\")"
   ]
  },
  {
   "cell_type": "code",
   "execution_count": 6,
   "id": "b2872287-6cc9-436e-abac-45d5071376c5",
   "metadata": {},
   "outputs": [
    {
     "name": "stdout",
     "output_type": "stream",
     "text": [
      "  scale steel_kind hsb  fur_avg_temp  fur_total_time rolling_method  \\\n",
      "0    양품          T  적용        1138.5             259     TMCP(온도제어)   \n",
      "1    양품          T  적용        1139.5             238     TMCP(온도제어)   \n",
      "2    양품          T  적용        1125.0             258     TMCP(온도제어)   \n",
      "3    양품          T  적용        1139.5             266     TMCP(온도제어)   \n",
      "4    양품          T  적용        1134.0             246     TMCP(온도제어)   \n",
      "\n",
      "   rolling_temp  descaling_count work_group  \n",
      "0           934                8         1조  \n",
      "1           937                8         1조  \n",
      "2           889                8         1조  \n",
      "3           885                8         1조  \n",
      "4           873                8         1조  \n",
      "<class 'pandas.core.frame.DataFrame'>\n",
      "RangeIndex: 241 entries, 0 to 240\n",
      "Data columns (total 9 columns):\n",
      " #   Column           Non-Null Count  Dtype  \n",
      "---  ------           --------------  -----  \n",
      " 0   scale            241 non-null    object \n",
      " 1   steel_kind       241 non-null    object \n",
      " 2   hsb              241 non-null    object \n",
      " 3   fur_avg_temp     241 non-null    float64\n",
      " 4   fur_total_time   241 non-null    int64  \n",
      " 5   rolling_method   241 non-null    object \n",
      " 6   rolling_temp     241 non-null    int64  \n",
      " 7   descaling_count  241 non-null    int64  \n",
      " 8   work_group       241 non-null    object \n",
      "dtypes: float64(1), int64(3), object(5)\n",
      "memory usage: 17.1+ KB\n",
      "None\n",
      "       fur_avg_temp  fur_total_time  rolling_temp  descaling_count\n",
      "count    241.000000      241.000000    241.000000       241.000000\n",
      "mean    1133.165975      267.070539    863.796680         6.456432\n",
      "std       11.778398       32.240360     42.794618         0.995390\n",
      "min     1112.500000      192.000000    745.000000         5.000000\n",
      "25%     1125.500000      245.000000    841.000000         6.000000\n",
      "50%     1131.500000      264.000000    859.000000         6.000000\n",
      "75%     1139.000000      287.000000    889.000000         6.000000\n",
      "max     1179.500000      351.000000   1057.000000        10.000000\n"
     ]
    }
   ],
   "source": [
    "# 데이터 구조확인\n",
    "print(data.head())\n",
    "print(data.info())\n",
    "print(data.describe())"
   ]
  },
  {
   "cell_type": "markdown",
   "id": "b19e6bcc-0d26-4ca1-8dfa-594a9c9814fa",
   "metadata": {},
   "source": [
    "#### 데이터 분리:목표변수/설명변수 분리"
   ]
  },
  {
   "cell_type": "code",
   "execution_count": 8,
   "id": "4ddb75c9-cc31-4885-adf0-8df9cda542c0",
   "metadata": {},
   "outputs": [
    {
     "name": "stdout",
     "output_type": "stream",
     "text": [
      "    steel_kind  hsb  fur_avg_temp  fur_total_time rolling_method  \\\n",
      "0            T   적용        1138.5             259     TMCP(온도제어)   \n",
      "1            T   적용        1139.5             238     TMCP(온도제어)   \n",
      "2            T   적용        1125.0             258     TMCP(온도제어)   \n",
      "3            T   적용        1139.5             266     TMCP(온도제어)   \n",
      "4            T   적용        1134.0             246     TMCP(온도제어)   \n",
      "..         ...  ...           ...             ...            ...   \n",
      "236          T   적용        1112.5             300     TMCP(온도제어)   \n",
      "237          T   적용        1133.5             337       CR(제어압연)   \n",
      "238          T   적용        1125.5             326       CR(제어압연)   \n",
      "239          T  미적용        1129.0             217       CR(제어압연)   \n",
      "240          T   적용        1122.5             258       CR(제어압연)   \n",
      "\n",
      "     rolling_temp  descaling_count work_group  \n",
      "0             934                8         1조  \n",
      "1             937                8         1조  \n",
      "2             889                8         1조  \n",
      "3             885                8         1조  \n",
      "4             873                8         1조  \n",
      "..            ...              ...        ...  \n",
      "236           848                6         3조  \n",
      "237           814                6         3조  \n",
      "238           811                6         3조  \n",
      "239           811                6         3조  \n",
      "240           815                6         3조  \n",
      "\n",
      "[241 rows x 8 columns]\n",
      "0      양품\n",
      "1      양품\n",
      "2      양품\n",
      "3      양품\n",
      "4      양품\n",
      "       ..\n",
      "236    양품\n",
      "237    양품\n",
      "238    양품\n",
      "239    불량\n",
      "240    양품\n",
      "Name: scale, Length: 241, dtype: object\n"
     ]
    }
   ],
   "source": [
    "# 목표변수/ 설명변수 분리\n",
    "df_raw_x = data.drop(columns=['scale'])  # Features\n",
    "df_raw_y = data['scale']  # Target\n",
    "print(df_raw_x)\n",
    "print(df_raw_y)"
   ]
  },
  {
   "cell_type": "markdown",
   "id": "7f148c62-6819-43b6-bcda-2d1dab916c48",
   "metadata": {},
   "source": [
    "#### 범주형 설명변수 더미변환"
   ]
  },
  {
   "cell_type": "code",
   "execution_count": 9,
   "id": "e1894f83-36ed-4fcc-81d9-70537de06869",
   "metadata": {
    "scrolled": true
   },
   "outputs": [
    {
     "data": {
      "text/plain": [
       "'Dummy 변환 전:'"
      ]
     },
     "metadata": {},
     "output_type": "display_data"
    },
    {
     "data": {
      "text/html": [
       "<div>\n",
       "<style scoped>\n",
       "    .dataframe tbody tr th:only-of-type {\n",
       "        vertical-align: middle;\n",
       "    }\n",
       "\n",
       "    .dataframe tbody tr th {\n",
       "        vertical-align: top;\n",
       "    }\n",
       "\n",
       "    .dataframe thead th {\n",
       "        text-align: right;\n",
       "    }\n",
       "</style>\n",
       "<table border=\"1\" class=\"dataframe\">\n",
       "  <thead>\n",
       "    <tr style=\"text-align: right;\">\n",
       "      <th></th>\n",
       "      <th>steel_kind</th>\n",
       "      <th>hsb</th>\n",
       "      <th>rolling_method</th>\n",
       "      <th>work_group</th>\n",
       "    </tr>\n",
       "  </thead>\n",
       "  <tbody>\n",
       "    <tr>\n",
       "      <th>0</th>\n",
       "      <td>T</td>\n",
       "      <td>적용</td>\n",
       "      <td>TMCP(온도제어)</td>\n",
       "      <td>1조</td>\n",
       "    </tr>\n",
       "    <tr>\n",
       "      <th>1</th>\n",
       "      <td>T</td>\n",
       "      <td>적용</td>\n",
       "      <td>TMCP(온도제어)</td>\n",
       "      <td>1조</td>\n",
       "    </tr>\n",
       "    <tr>\n",
       "      <th>2</th>\n",
       "      <td>T</td>\n",
       "      <td>적용</td>\n",
       "      <td>TMCP(온도제어)</td>\n",
       "      <td>1조</td>\n",
       "    </tr>\n",
       "    <tr>\n",
       "      <th>3</th>\n",
       "      <td>T</td>\n",
       "      <td>적용</td>\n",
       "      <td>TMCP(온도제어)</td>\n",
       "      <td>1조</td>\n",
       "    </tr>\n",
       "    <tr>\n",
       "      <th>4</th>\n",
       "      <td>T</td>\n",
       "      <td>적용</td>\n",
       "      <td>TMCP(온도제어)</td>\n",
       "      <td>1조</td>\n",
       "    </tr>\n",
       "  </tbody>\n",
       "</table>\n",
       "</div>"
      ],
      "text/plain": [
       "  steel_kind hsb rolling_method work_group\n",
       "0          T  적용     TMCP(온도제어)         1조\n",
       "1          T  적용     TMCP(온도제어)         1조\n",
       "2          T  적용     TMCP(온도제어)         1조\n",
       "3          T  적용     TMCP(온도제어)         1조\n",
       "4          T  적용     TMCP(온도제어)         1조"
      ]
     },
     "metadata": {},
     "output_type": "display_data"
    },
    {
     "data": {
      "text/plain": [
       "'Dummy 변환 후:'"
      ]
     },
     "metadata": {},
     "output_type": "display_data"
    },
    {
     "data": {
      "text/html": [
       "<div>\n",
       "<style scoped>\n",
       "    .dataframe tbody tr th:only-of-type {\n",
       "        vertical-align: middle;\n",
       "    }\n",
       "\n",
       "    .dataframe tbody tr th {\n",
       "        vertical-align: top;\n",
       "    }\n",
       "\n",
       "    .dataframe thead th {\n",
       "        text-align: right;\n",
       "    }\n",
       "</style>\n",
       "<table border=\"1\" class=\"dataframe\">\n",
       "  <thead>\n",
       "    <tr style=\"text-align: right;\">\n",
       "      <th></th>\n",
       "      <th>steel_kind_T</th>\n",
       "      <th>hsb_미적용</th>\n",
       "      <th>hsb_적용</th>\n",
       "      <th>rolling_method_CR(제어압연)</th>\n",
       "      <th>rolling_method_TMCP(온도제어)</th>\n",
       "      <th>work_group_1조</th>\n",
       "      <th>work_group_2조</th>\n",
       "      <th>work_group_3조</th>\n",
       "    </tr>\n",
       "  </thead>\n",
       "  <tbody>\n",
       "    <tr>\n",
       "      <th>0</th>\n",
       "      <td>True</td>\n",
       "      <td>False</td>\n",
       "      <td>True</td>\n",
       "      <td>False</td>\n",
       "      <td>True</td>\n",
       "      <td>True</td>\n",
       "      <td>False</td>\n",
       "      <td>False</td>\n",
       "    </tr>\n",
       "    <tr>\n",
       "      <th>1</th>\n",
       "      <td>True</td>\n",
       "      <td>False</td>\n",
       "      <td>True</td>\n",
       "      <td>False</td>\n",
       "      <td>True</td>\n",
       "      <td>True</td>\n",
       "      <td>False</td>\n",
       "      <td>False</td>\n",
       "    </tr>\n",
       "    <tr>\n",
       "      <th>2</th>\n",
       "      <td>True</td>\n",
       "      <td>False</td>\n",
       "      <td>True</td>\n",
       "      <td>False</td>\n",
       "      <td>True</td>\n",
       "      <td>True</td>\n",
       "      <td>False</td>\n",
       "      <td>False</td>\n",
       "    </tr>\n",
       "    <tr>\n",
       "      <th>3</th>\n",
       "      <td>True</td>\n",
       "      <td>False</td>\n",
       "      <td>True</td>\n",
       "      <td>False</td>\n",
       "      <td>True</td>\n",
       "      <td>True</td>\n",
       "      <td>False</td>\n",
       "      <td>False</td>\n",
       "    </tr>\n",
       "    <tr>\n",
       "      <th>4</th>\n",
       "      <td>True</td>\n",
       "      <td>False</td>\n",
       "      <td>True</td>\n",
       "      <td>False</td>\n",
       "      <td>True</td>\n",
       "      <td>True</td>\n",
       "      <td>False</td>\n",
       "      <td>False</td>\n",
       "    </tr>\n",
       "  </tbody>\n",
       "</table>\n",
       "</div>"
      ],
      "text/plain": [
       "   steel_kind_T  hsb_미적용  hsb_적용  rolling_method_CR(제어압연)  \\\n",
       "0          True    False    True                    False   \n",
       "1          True    False    True                    False   \n",
       "2          True    False    True                    False   \n",
       "3          True    False    True                    False   \n",
       "4          True    False    True                    False   \n",
       "\n",
       "   rolling_method_TMCP(온도제어)  work_group_1조  work_group_2조  work_group_3조  \n",
       "0                       True           True          False          False  \n",
       "1                       True           True          False          False  \n",
       "2                       True           True          False          False  \n",
       "3                       True           True          False          False  \n",
       "4                       True           True          False          False  "
      ]
     },
     "metadata": {},
     "output_type": "display_data"
    }
   ],
   "source": [
    "# get_dummies: 범주형 변수에 대한 더미변환 \n",
    "# 범주형 변수 선택 : select_dtypes=\"object\" \n",
    "\n",
    "df_raw_x_char = df_raw_x.select_dtypes(include = \"object\")\n",
    "df_raw_x_char.head()\n",
    "\n",
    "# get_dummies: 범주형 변수에 대한 더미변환 \n",
    "df_x_dummy = pd.get_dummies(df_raw_x_char)\n",
    "df_x_dummy.head()\n",
    "\n",
    "display(\"Dummy 변환 전:\", df_raw_x_char.head())\n",
    "display(\"Dummy 변환 후:\",df_x_dummy.head())"
   ]
  },
  {
   "cell_type": "markdown",
   "id": "7a1d10a0-3763-483e-9b91-3d589519cbc4",
   "metadata": {},
   "source": [
    "#### 연속형 설명변수 scaling 변환"
   ]
  },
  {
   "cell_type": "code",
   "execution_count": 11,
   "id": "6be81816-11ff-4bac-86e3-2124e52ee943",
   "metadata": {},
   "outputs": [
    {
     "data": {
      "text/plain": [
       "'Scale 변환 전:'"
      ]
     },
     "metadata": {},
     "output_type": "display_data"
    },
    {
     "data": {
      "text/html": [
       "<div>\n",
       "<style scoped>\n",
       "    .dataframe tbody tr th:only-of-type {\n",
       "        vertical-align: middle;\n",
       "    }\n",
       "\n",
       "    .dataframe tbody tr th {\n",
       "        vertical-align: top;\n",
       "    }\n",
       "\n",
       "    .dataframe thead th {\n",
       "        text-align: right;\n",
       "    }\n",
       "</style>\n",
       "<table border=\"1\" class=\"dataframe\">\n",
       "  <thead>\n",
       "    <tr style=\"text-align: right;\">\n",
       "      <th></th>\n",
       "      <th>fur_avg_temp</th>\n",
       "      <th>fur_total_time</th>\n",
       "      <th>rolling_temp</th>\n",
       "      <th>descaling_count</th>\n",
       "    </tr>\n",
       "  </thead>\n",
       "  <tbody>\n",
       "    <tr>\n",
       "      <th>0</th>\n",
       "      <td>1138.5</td>\n",
       "      <td>259</td>\n",
       "      <td>934</td>\n",
       "      <td>8</td>\n",
       "    </tr>\n",
       "    <tr>\n",
       "      <th>1</th>\n",
       "      <td>1139.5</td>\n",
       "      <td>238</td>\n",
       "      <td>937</td>\n",
       "      <td>8</td>\n",
       "    </tr>\n",
       "    <tr>\n",
       "      <th>2</th>\n",
       "      <td>1125.0</td>\n",
       "      <td>258</td>\n",
       "      <td>889</td>\n",
       "      <td>8</td>\n",
       "    </tr>\n",
       "    <tr>\n",
       "      <th>3</th>\n",
       "      <td>1139.5</td>\n",
       "      <td>266</td>\n",
       "      <td>885</td>\n",
       "      <td>8</td>\n",
       "    </tr>\n",
       "    <tr>\n",
       "      <th>4</th>\n",
       "      <td>1134.0</td>\n",
       "      <td>246</td>\n",
       "      <td>873</td>\n",
       "      <td>8</td>\n",
       "    </tr>\n",
       "  </tbody>\n",
       "</table>\n",
       "</div>"
      ],
      "text/plain": [
       "   fur_avg_temp  fur_total_time  rolling_temp  descaling_count\n",
       "0        1138.5             259           934                8\n",
       "1        1139.5             238           937                8\n",
       "2        1125.0             258           889                8\n",
       "3        1139.5             266           885                8\n",
       "4        1134.0             246           873                8"
      ]
     },
     "metadata": {},
     "output_type": "display_data"
    },
    {
     "data": {
      "text/plain": [
       "'Scale 변환 후:'"
      ]
     },
     "metadata": {},
     "output_type": "display_data"
    },
    {
     "data": {
      "text/html": [
       "<div>\n",
       "<style scoped>\n",
       "    .dataframe tbody tr th:only-of-type {\n",
       "        vertical-align: middle;\n",
       "    }\n",
       "\n",
       "    .dataframe tbody tr th {\n",
       "        vertical-align: top;\n",
       "    }\n",
       "\n",
       "    .dataframe thead th {\n",
       "        text-align: right;\n",
       "    }\n",
       "</style>\n",
       "<table border=\"1\" class=\"dataframe\">\n",
       "  <thead>\n",
       "    <tr style=\"text-align: right;\">\n",
       "      <th></th>\n",
       "      <th>fur_avg_temp</th>\n",
       "      <th>fur_total_time</th>\n",
       "      <th>rolling_temp</th>\n",
       "      <th>descaling_count</th>\n",
       "    </tr>\n",
       "  </thead>\n",
       "  <tbody>\n",
       "    <tr>\n",
       "      <th>0</th>\n",
       "      <td>0.453808</td>\n",
       "      <td>-0.250845</td>\n",
       "      <td>1.643885</td>\n",
       "      <td>1.553944</td>\n",
       "    </tr>\n",
       "    <tr>\n",
       "      <th>1</th>\n",
       "      <td>0.538885</td>\n",
       "      <td>-0.903558</td>\n",
       "      <td>1.714133</td>\n",
       "      <td>1.553944</td>\n",
       "    </tr>\n",
       "    <tr>\n",
       "      <th>2</th>\n",
       "      <td>-0.694744</td>\n",
       "      <td>-0.281927</td>\n",
       "      <td>0.590162</td>\n",
       "      <td>1.553944</td>\n",
       "    </tr>\n",
       "    <tr>\n",
       "      <th>3</th>\n",
       "      <td>0.538885</td>\n",
       "      <td>-0.033274</td>\n",
       "      <td>0.496498</td>\n",
       "      <td>1.553944</td>\n",
       "    </tr>\n",
       "    <tr>\n",
       "      <th>4</th>\n",
       "      <td>0.070957</td>\n",
       "      <td>-0.654906</td>\n",
       "      <td>0.215505</td>\n",
       "      <td>1.553944</td>\n",
       "    </tr>\n",
       "  </tbody>\n",
       "</table>\n",
       "</div>"
      ],
      "text/plain": [
       "   fur_avg_temp  fur_total_time  rolling_temp  descaling_count\n",
       "0      0.453808       -0.250845      1.643885         1.553944\n",
       "1      0.538885       -0.903558      1.714133         1.553944\n",
       "2     -0.694744       -0.281927      0.590162         1.553944\n",
       "3      0.538885       -0.033274      0.496498         1.553944\n",
       "4      0.070957       -0.654906      0.215505         1.553944"
      ]
     },
     "metadata": {},
     "output_type": "display_data"
    }
   ],
   "source": [
    "# 연속형 변수 선택 : select_dtypes=\"object\" 제외\n",
    "df_raw_x_num = df_raw_x.select_dtypes(exclude = \"object\")\n",
    "# df_raw_x_num.head()\n",
    "\n",
    "# 변수명 저장\n",
    "v_feature_names = df_raw_x_num.columns\n",
    "\n",
    "# StandardScaler 적용\n",
    "scaler = StandardScaler()\n",
    "df_x_scaled = scaler.fit_transform(df_raw_x_num)\n",
    "df_x_scaled  = pd.DataFrame(df_x_scaled, columns=v_feature_names)\n",
    "\n",
    "display(\"Scale 변환 전:\", df_raw_x_num.head())\n",
    "display(\"Scale 변환 후:\",df_x_scaled.head())"
   ]
  },
  {
   "cell_type": "code",
   "execution_count": 13,
   "id": "dd277455-d041-47c6-9409-853ba943ba9d",
   "metadata": {},
   "outputs": [
    {
     "data": {
      "text/plain": [
       "'변환 전:'"
      ]
     },
     "metadata": {},
     "output_type": "display_data"
    },
    {
     "data": {
      "text/html": [
       "<div>\n",
       "<style scoped>\n",
       "    .dataframe tbody tr th:only-of-type {\n",
       "        vertical-align: middle;\n",
       "    }\n",
       "\n",
       "    .dataframe tbody tr th {\n",
       "        vertical-align: top;\n",
       "    }\n",
       "\n",
       "    .dataframe thead th {\n",
       "        text-align: right;\n",
       "    }\n",
       "</style>\n",
       "<table border=\"1\" class=\"dataframe\">\n",
       "  <thead>\n",
       "    <tr style=\"text-align: right;\">\n",
       "      <th></th>\n",
       "      <th>steel_kind</th>\n",
       "      <th>hsb</th>\n",
       "      <th>fur_avg_temp</th>\n",
       "      <th>fur_total_time</th>\n",
       "      <th>rolling_method</th>\n",
       "      <th>rolling_temp</th>\n",
       "      <th>descaling_count</th>\n",
       "      <th>work_group</th>\n",
       "    </tr>\n",
       "  </thead>\n",
       "  <tbody>\n",
       "    <tr>\n",
       "      <th>0</th>\n",
       "      <td>T</td>\n",
       "      <td>적용</td>\n",
       "      <td>1138.5</td>\n",
       "      <td>259</td>\n",
       "      <td>TMCP(온도제어)</td>\n",
       "      <td>934</td>\n",
       "      <td>8</td>\n",
       "      <td>1조</td>\n",
       "    </tr>\n",
       "    <tr>\n",
       "      <th>1</th>\n",
       "      <td>T</td>\n",
       "      <td>적용</td>\n",
       "      <td>1139.5</td>\n",
       "      <td>238</td>\n",
       "      <td>TMCP(온도제어)</td>\n",
       "      <td>937</td>\n",
       "      <td>8</td>\n",
       "      <td>1조</td>\n",
       "    </tr>\n",
       "    <tr>\n",
       "      <th>2</th>\n",
       "      <td>T</td>\n",
       "      <td>적용</td>\n",
       "      <td>1125.0</td>\n",
       "      <td>258</td>\n",
       "      <td>TMCP(온도제어)</td>\n",
       "      <td>889</td>\n",
       "      <td>8</td>\n",
       "      <td>1조</td>\n",
       "    </tr>\n",
       "    <tr>\n",
       "      <th>3</th>\n",
       "      <td>T</td>\n",
       "      <td>적용</td>\n",
       "      <td>1139.5</td>\n",
       "      <td>266</td>\n",
       "      <td>TMCP(온도제어)</td>\n",
       "      <td>885</td>\n",
       "      <td>8</td>\n",
       "      <td>1조</td>\n",
       "    </tr>\n",
       "    <tr>\n",
       "      <th>4</th>\n",
       "      <td>T</td>\n",
       "      <td>적용</td>\n",
       "      <td>1134.0</td>\n",
       "      <td>246</td>\n",
       "      <td>TMCP(온도제어)</td>\n",
       "      <td>873</td>\n",
       "      <td>8</td>\n",
       "      <td>1조</td>\n",
       "    </tr>\n",
       "  </tbody>\n",
       "</table>\n",
       "</div>"
      ],
      "text/plain": [
       "  steel_kind hsb  fur_avg_temp  fur_total_time rolling_method  rolling_temp  \\\n",
       "0          T  적용        1138.5             259     TMCP(온도제어)           934   \n",
       "1          T  적용        1139.5             238     TMCP(온도제어)           937   \n",
       "2          T  적용        1125.0             258     TMCP(온도제어)           889   \n",
       "3          T  적용        1139.5             266     TMCP(온도제어)           885   \n",
       "4          T  적용        1134.0             246     TMCP(온도제어)           873   \n",
       "\n",
       "   descaling_count work_group  \n",
       "0                8         1조  \n",
       "1                8         1조  \n",
       "2                8         1조  \n",
       "3                8         1조  \n",
       "4                8         1조  "
      ]
     },
     "metadata": {},
     "output_type": "display_data"
    },
    {
     "data": {
      "text/plain": [
       "'Scale/Dummy 변환 후:'"
      ]
     },
     "metadata": {},
     "output_type": "display_data"
    },
    {
     "data": {
      "text/html": [
       "<div>\n",
       "<style scoped>\n",
       "    .dataframe tbody tr th:only-of-type {\n",
       "        vertical-align: middle;\n",
       "    }\n",
       "\n",
       "    .dataframe tbody tr th {\n",
       "        vertical-align: top;\n",
       "    }\n",
       "\n",
       "    .dataframe thead th {\n",
       "        text-align: right;\n",
       "    }\n",
       "</style>\n",
       "<table border=\"1\" class=\"dataframe\">\n",
       "  <thead>\n",
       "    <tr style=\"text-align: right;\">\n",
       "      <th></th>\n",
       "      <th>fur_avg_temp</th>\n",
       "      <th>fur_total_time</th>\n",
       "      <th>rolling_temp</th>\n",
       "      <th>descaling_count</th>\n",
       "      <th>steel_kind_T</th>\n",
       "      <th>hsb_미적용</th>\n",
       "      <th>hsb_적용</th>\n",
       "      <th>rolling_method_CR(제어압연)</th>\n",
       "      <th>rolling_method_TMCP(온도제어)</th>\n",
       "      <th>work_group_1조</th>\n",
       "      <th>work_group_2조</th>\n",
       "      <th>work_group_3조</th>\n",
       "    </tr>\n",
       "  </thead>\n",
       "  <tbody>\n",
       "    <tr>\n",
       "      <th>0</th>\n",
       "      <td>0.453808</td>\n",
       "      <td>-0.250845</td>\n",
       "      <td>1.643885</td>\n",
       "      <td>1.553944</td>\n",
       "      <td>True</td>\n",
       "      <td>False</td>\n",
       "      <td>True</td>\n",
       "      <td>False</td>\n",
       "      <td>True</td>\n",
       "      <td>True</td>\n",
       "      <td>False</td>\n",
       "      <td>False</td>\n",
       "    </tr>\n",
       "    <tr>\n",
       "      <th>1</th>\n",
       "      <td>0.538885</td>\n",
       "      <td>-0.903558</td>\n",
       "      <td>1.714133</td>\n",
       "      <td>1.553944</td>\n",
       "      <td>True</td>\n",
       "      <td>False</td>\n",
       "      <td>True</td>\n",
       "      <td>False</td>\n",
       "      <td>True</td>\n",
       "      <td>True</td>\n",
       "      <td>False</td>\n",
       "      <td>False</td>\n",
       "    </tr>\n",
       "    <tr>\n",
       "      <th>2</th>\n",
       "      <td>-0.694744</td>\n",
       "      <td>-0.281927</td>\n",
       "      <td>0.590162</td>\n",
       "      <td>1.553944</td>\n",
       "      <td>True</td>\n",
       "      <td>False</td>\n",
       "      <td>True</td>\n",
       "      <td>False</td>\n",
       "      <td>True</td>\n",
       "      <td>True</td>\n",
       "      <td>False</td>\n",
       "      <td>False</td>\n",
       "    </tr>\n",
       "    <tr>\n",
       "      <th>3</th>\n",
       "      <td>0.538885</td>\n",
       "      <td>-0.033274</td>\n",
       "      <td>0.496498</td>\n",
       "      <td>1.553944</td>\n",
       "      <td>True</td>\n",
       "      <td>False</td>\n",
       "      <td>True</td>\n",
       "      <td>False</td>\n",
       "      <td>True</td>\n",
       "      <td>True</td>\n",
       "      <td>False</td>\n",
       "      <td>False</td>\n",
       "    </tr>\n",
       "    <tr>\n",
       "      <th>4</th>\n",
       "      <td>0.070957</td>\n",
       "      <td>-0.654906</td>\n",
       "      <td>0.215505</td>\n",
       "      <td>1.553944</td>\n",
       "      <td>True</td>\n",
       "      <td>False</td>\n",
       "      <td>True</td>\n",
       "      <td>False</td>\n",
       "      <td>True</td>\n",
       "      <td>True</td>\n",
       "      <td>False</td>\n",
       "      <td>False</td>\n",
       "    </tr>\n",
       "  </tbody>\n",
       "</table>\n",
       "</div>"
      ],
      "text/plain": [
       "   fur_avg_temp  fur_total_time  rolling_temp  descaling_count  steel_kind_T  \\\n",
       "0      0.453808       -0.250845      1.643885         1.553944          True   \n",
       "1      0.538885       -0.903558      1.714133         1.553944          True   \n",
       "2     -0.694744       -0.281927      0.590162         1.553944          True   \n",
       "3      0.538885       -0.033274      0.496498         1.553944          True   \n",
       "4      0.070957       -0.654906      0.215505         1.553944          True   \n",
       "\n",
       "   hsb_미적용  hsb_적용  rolling_method_CR(제어압연)  rolling_method_TMCP(온도제어)  \\\n",
       "0    False    True                    False                       True   \n",
       "1    False    True                    False                       True   \n",
       "2    False    True                    False                       True   \n",
       "3    False    True                    False                       True   \n",
       "4    False    True                    False                       True   \n",
       "\n",
       "   work_group_1조  work_group_2조  work_group_3조  \n",
       "0           True          False          False  \n",
       "1           True          False          False  \n",
       "2           True          False          False  \n",
       "3           True          False          False  \n",
       "4           True          False          False  "
      ]
     },
     "metadata": {},
     "output_type": "display_data"
    }
   ],
   "source": [
    "# 설명변수 데이터 결합: scale된 연속형 + dummy된 범주형\n",
    "df_x_converted = df_x_scaled.join(df_x_dummy)\n",
    "\n",
    "display(\"변환 전:\", df_raw_x.head())\n",
    "display(\"Scale/Dummy 변환 후:\",df_x_converted.head())"
   ]
  },
  {
   "cell_type": "markdown",
   "id": "2e0df563-70a0-41b6-a424-be2e60fa915a",
   "metadata": {},
   "source": [
    "#### 데이터 분할: Train vs Test"
   ]
  },
  {
   "cell_type": "code",
   "execution_count": 15,
   "id": "c548b34b-daa2-4dca-b6e0-d1a85bc9ff76",
   "metadata": {},
   "outputs": [],
   "source": [
    "X_train, X_test, y_train, y_test = train_test_split(df_x_converted, df_raw_y, test_size=0.3, random_state=1538)"
   ]
  },
  {
   "cell_type": "markdown",
   "id": "0cef25a9-308e-4f5e-86cf-9564d2928828",
   "metadata": {},
   "source": [
    "## 모델 생성"
   ]
  },
  {
   "cell_type": "markdown",
   "id": "6869169f-a6ec-4d9b-8221-0b5545828929",
   "metadata": {},
   "source": [
    "#### 기본 옵션 모델 생성"
   ]
  },
  {
   "cell_type": "code",
   "execution_count": 16,
   "id": "7eee581b-9055-4e68-a770-c9c62fb80e8a",
   "metadata": {},
   "outputs": [
    {
     "name": "stdout",
     "output_type": "stream",
     "text": [
      "Train Accuracy : 0.964\n",
      "Test Accuracy : 0.945\n"
     ]
    }
   ],
   "source": [
    "# SVM 모델 학습\n",
    "svm_model = SVC(kernel='linear', random_state=1538)  # Using linear kernel; you can change to 'rbf' or others\n",
    "svm_model.fit(X_train, y_train)\n",
    "\n",
    "# train 모델 정확도\n",
    "print(\"Train Accuracy : {:.3f}\".format(svm_model.score(X_train, y_train)))\n",
    "# test 모델 정확도\n",
    "print(\"Test Accuracy : {:.3f}\".format(svm_model.score(X_test, y_test)))"
   ]
  },
  {
   "cell_type": "code",
   "execution_count": 17,
   "id": "06528319-3782-42fa-8e9a-2057c1adfc08",
   "metadata": {},
   "outputs": [
    {
     "name": "stdout",
     "output_type": "stream",
     "text": [
      "dict_keys(['C', 'break_ties', 'cache_size', 'class_weight', 'coef0', 'decision_function_shape', 'degree', 'gamma', 'kernel', 'max_iter', 'probability', 'random_state', 'shrinking', 'tol', 'verbose'])\n",
      "dict_values([1.0, False, 200, None, 0.0, 'ovr', 3, 'scale', 'linear', -1, False, 1538, True, 0.001, False])\n"
     ]
    }
   ],
   "source": [
    "# 실행옵션 확인\n",
    "print(svm_model.get_params().keys())\n",
    "print(svm_model.get_params().values())"
   ]
  },
  {
   "cell_type": "markdown",
   "id": "7520a171-2156-4fa1-b378-3a851c1cee2a",
   "metadata": {},
   "source": [
    "#### Cost 미세 변화에 따른 모델 성능"
   ]
  },
  {
   "cell_type": "code",
   "execution_count": 19,
   "id": "4f69acb8-c936-4a07-976b-b79396ba6007",
   "metadata": {},
   "outputs": [],
   "source": [
    "# train 및 test 정확도 결과 저장용\n",
    "train_accuracy = []; test_accuracy = []\n",
    "\n",
    "# para_c = [10 **c for c in range(-2, 3)] # 0.01, 0.1, 1, 10, 100 : 큰 변화 영향 확인\n",
    "para_c = [0.1 * c for c in range(1, 13)] # 0.1~1.0 : 작은 변화 영향 확인\n",
    "\n",
    "for v_C in para_c:\n",
    "    svm = SVC(C = v_C, random_state = 1538)\n",
    "    svm.fit(X_train, y_train)\n",
    "    train_accuracy.append(svm.score(X_train, y_train))\n",
    "    test_accuracy.append(svm.score(X_test, y_test))\n",
    "\n",
    "# 데이터 테이블로 저장\n",
    "df_accuracy_c = pd.DataFrame()\n",
    "df_accuracy_c[\"Cost\"] = para_c\n",
    "df_accuracy_c[\"TrainAccuracy\"] = train_accuracy\n",
    "df_accuracy_c[\"TestAccuracy\"] = test_accuracy"
   ]
  },
  {
   "cell_type": "code",
   "execution_count": 20,
   "id": "906baea8-a8dc-47f9-bf1b-7bf21905a1dc",
   "metadata": {},
   "outputs": [
    {
     "data": {
      "text/html": [
       "<div>\n",
       "<style scoped>\n",
       "    .dataframe tbody tr th:only-of-type {\n",
       "        vertical-align: middle;\n",
       "    }\n",
       "\n",
       "    .dataframe tbody tr th {\n",
       "        vertical-align: top;\n",
       "    }\n",
       "\n",
       "    .dataframe thead th {\n",
       "        text-align: right;\n",
       "    }\n",
       "</style>\n",
       "<table border=\"1\" class=\"dataframe\">\n",
       "  <thead>\n",
       "    <tr style=\"text-align: right;\">\n",
       "      <th></th>\n",
       "      <th>Cost</th>\n",
       "      <th>TrainAccuracy</th>\n",
       "      <th>TestAccuracy</th>\n",
       "    </tr>\n",
       "  </thead>\n",
       "  <tbody>\n",
       "    <tr>\n",
       "      <th>0</th>\n",
       "      <td>0.1</td>\n",
       "      <td>0.917</td>\n",
       "      <td>0.918</td>\n",
       "    </tr>\n",
       "    <tr>\n",
       "      <th>1</th>\n",
       "      <td>0.2</td>\n",
       "      <td>0.917</td>\n",
       "      <td>0.918</td>\n",
       "    </tr>\n",
       "    <tr>\n",
       "      <th>2</th>\n",
       "      <td>0.3</td>\n",
       "      <td>0.917</td>\n",
       "      <td>0.918</td>\n",
       "    </tr>\n",
       "    <tr>\n",
       "      <th>3</th>\n",
       "      <td>0.4</td>\n",
       "      <td>0.917</td>\n",
       "      <td>0.918</td>\n",
       "    </tr>\n",
       "    <tr>\n",
       "      <th>4</th>\n",
       "      <td>0.5</td>\n",
       "      <td>0.923</td>\n",
       "      <td>0.918</td>\n",
       "    </tr>\n",
       "    <tr>\n",
       "      <th>5</th>\n",
       "      <td>0.6</td>\n",
       "      <td>0.946</td>\n",
       "      <td>0.918</td>\n",
       "    </tr>\n",
       "    <tr>\n",
       "      <th>6</th>\n",
       "      <td>0.7</td>\n",
       "      <td>0.964</td>\n",
       "      <td>0.932</td>\n",
       "    </tr>\n",
       "    <tr>\n",
       "      <th>7</th>\n",
       "      <td>0.8</td>\n",
       "      <td>0.970</td>\n",
       "      <td>0.932</td>\n",
       "    </tr>\n",
       "    <tr>\n",
       "      <th>8</th>\n",
       "      <td>0.9</td>\n",
       "      <td>0.970</td>\n",
       "      <td>0.932</td>\n",
       "    </tr>\n",
       "    <tr>\n",
       "      <th>9</th>\n",
       "      <td>1.0</td>\n",
       "      <td>0.970</td>\n",
       "      <td>0.932</td>\n",
       "    </tr>\n",
       "    <tr>\n",
       "      <th>10</th>\n",
       "      <td>1.1</td>\n",
       "      <td>0.970</td>\n",
       "      <td>0.945</td>\n",
       "    </tr>\n",
       "    <tr>\n",
       "      <th>11</th>\n",
       "      <td>1.2</td>\n",
       "      <td>0.970</td>\n",
       "      <td>0.945</td>\n",
       "    </tr>\n",
       "  </tbody>\n",
       "</table>\n",
       "</div>"
      ],
      "text/plain": [
       "    Cost  TrainAccuracy  TestAccuracy\n",
       "0    0.1          0.917         0.918\n",
       "1    0.2          0.917         0.918\n",
       "2    0.3          0.917         0.918\n",
       "3    0.4          0.917         0.918\n",
       "4    0.5          0.923         0.918\n",
       "5    0.6          0.946         0.918\n",
       "6    0.7          0.964         0.932\n",
       "7    0.8          0.970         0.932\n",
       "8    0.9          0.970         0.932\n",
       "9    1.0          0.970         0.932\n",
       "10   1.1          0.970         0.945\n",
       "11   1.2          0.970         0.945"
      ]
     },
     "execution_count": 20,
     "metadata": {},
     "output_type": "execute_result"
    }
   ],
   "source": [
    "# Cost별 정확도\n",
    "df_accuracy_c.round(3)"
   ]
  },
  {
   "cell_type": "code",
   "execution_count": 21,
   "id": "3bba09a0-d4fb-4251-94a0-ca37c564cf71",
   "metadata": {},
   "outputs": [
    {
     "data": {
      "text/plain": [
       "<matplotlib.legend.Legend at 0x1514b7650>"
      ]
     },
     "execution_count": 21,
     "metadata": {},
     "output_type": "execute_result"
    },
    {
     "data": {
      "image/png": "[encoded data removed]",
      "text/plain": [
       "<Figure size 640x480 with 1 Axes>"
      ]
     },
     "metadata": {},
     "output_type": "display_data"
    }
   ],
   "source": [
    "# 정확도 그래프 확인\n",
    "plt.plot(para_c, train_accuracy, linestyle = \"-\", label = \"Train Accuracy\")\n",
    "plt.plot(para_c, test_accuracy, linestyle = \"--\", label = \"Test Accuracy\")\n",
    "plt.ylabel(\"Accuracy\"); plt.xlabel(\"Cost\")\n",
    "plt.legend()"
   ]
  },
  {
   "cell_type": "code",
   "execution_count": null,
   "id": "cdb973d0-51fe-4d82-8137-d10c2aa47dd0",
   "metadata": {},
   "outputs": [],
   "source": [
    "# Cost 지정: 0.2, 0.7"
   ]
  },
  {
   "cell_type": "markdown",
   "id": "f0b82872-3c89-4bf9-9e87-5666bfddbc29",
   "metadata": {},
   "source": [
    "#### Gamma(데이터 영향 범위) 변경에 따른 모델 성능"
   ]
  },
  {
   "cell_type": "code",
   "execution_count": 29,
   "id": "06cc0d05-3377-40c5-b582-07e1a191a09b",
   "metadata": {},
   "outputs": [],
   "source": [
    "# C= 0.2\n",
    "# train 및 test 정확도 결과 저장용\n",
    "train_accuracy = []; test_accuracy = []\n",
    "\n",
    "para_gamma = [10 **gamma for gamma in range(-2, 3)]   # 0.01, 0.1, 1, 10, 100 : 큰 변화 영향 확인\n",
    "# para_gamma = [0.1 * gamma for gamma in range(1, 11)]     # 0.1~1.0 : 작은 변화 영향 확인\n",
    "\n",
    "for v_gamma in para_gamma:\n",
    "    svm = SVC(gamma = v_gamma, C=0.2 ,random_state = 1538)\n",
    "    svm.fit(X_train, y_train)\n",
    "    train_accuracy.append(svm.score(X_train, y_train))\n",
    "    test_accuracy.append(svm.score(X_test, y_test))\n",
    "\n",
    "# 데이터 테이블로 저장\n",
    "df_accuracy_gamma = pd.DataFrame()\n",
    "df_accuracy_gamma[\"gamma\"] = para_gamma\n",
    "df_accuracy_gamma[\"TrainAccuracy\"] = train_accuracy\n",
    "df_accuracy_gamma[\"TestAccuracy\"] = test_accuracy"
   ]
  },
  {
   "cell_type": "code",
   "execution_count": 30,
   "id": "fdfa9e03-1f90-4a93-8058-1d550f1fbf37",
   "metadata": {},
   "outputs": [
    {
     "data": {
      "text/html": [
       "<div>\n",
       "<style scoped>\n",
       "    .dataframe tbody tr th:only-of-type {\n",
       "        vertical-align: middle;\n",
       "    }\n",
       "\n",
       "    .dataframe tbody tr th {\n",
       "        vertical-align: top;\n",
       "    }\n",
       "\n",
       "    .dataframe thead th {\n",
       "        text-align: right;\n",
       "    }\n",
       "</style>\n",
       "<table border=\"1\" class=\"dataframe\">\n",
       "  <thead>\n",
       "    <tr style=\"text-align: right;\">\n",
       "      <th></th>\n",
       "      <th>gamma</th>\n",
       "      <th>TrainAccuracy</th>\n",
       "      <th>TestAccuracy</th>\n",
       "    </tr>\n",
       "  </thead>\n",
       "  <tbody>\n",
       "    <tr>\n",
       "      <th>0</th>\n",
       "      <td>0.01</td>\n",
       "      <td>0.9167</td>\n",
       "      <td>0.9178</td>\n",
       "    </tr>\n",
       "    <tr>\n",
       "      <th>1</th>\n",
       "      <td>0.10</td>\n",
       "      <td>0.9167</td>\n",
       "      <td>0.9178</td>\n",
       "    </tr>\n",
       "    <tr>\n",
       "      <th>2</th>\n",
       "      <td>1.00</td>\n",
       "      <td>0.9167</td>\n",
       "      <td>0.9178</td>\n",
       "    </tr>\n",
       "    <tr>\n",
       "      <th>3</th>\n",
       "      <td>10.00</td>\n",
       "      <td>0.9167</td>\n",
       "      <td>0.9178</td>\n",
       "    </tr>\n",
       "    <tr>\n",
       "      <th>4</th>\n",
       "      <td>100.00</td>\n",
       "      <td>0.9167</td>\n",
       "      <td>0.9178</td>\n",
       "    </tr>\n",
       "  </tbody>\n",
       "</table>\n",
       "</div>"
      ],
      "text/plain": [
       "    gamma  TrainAccuracy  TestAccuracy\n",
       "0    0.01         0.9167        0.9178\n",
       "1    0.10         0.9167        0.9178\n",
       "2    1.00         0.9167        0.9178\n",
       "3   10.00         0.9167        0.9178\n",
       "4  100.00         0.9167        0.9178"
      ]
     },
     "execution_count": 30,
     "metadata": {},
     "output_type": "execute_result"
    }
   ],
   "source": [
    "# Gamma별 정확도\n",
    "df_accuracy_gamma.round(4)"
   ]
  },
  {
   "cell_type": "code",
   "execution_count": 31,
   "id": "e588d2fd-33ed-4737-b8dc-39519cb7489f",
   "metadata": {},
   "outputs": [
    {
     "data": {
      "text/plain": [
       "<matplotlib.legend.Legend at 0x133e0a510>"
      ]
     },
     "execution_count": 31,
     "metadata": {},
     "output_type": "execute_result"
    },
    {
     "data": {
      "image/png": "[encoded data removed]",
      "text/plain": [
       "<Figure size 640x480 with 1 Axes>"
      ]
     },
     "metadata": {},
     "output_type": "display_data"
    }
   ],
   "source": [
    "# 모델 정확도 그래프 확인\n",
    "plt.plot(para_gamma, train_accuracy, linestyle = \"-\", label = \"Train Accuracy\")\n",
    "plt.plot(para_gamma, test_accuracy, linestyle = \"--\", label = \"Test Accuracy\")\n",
    "plt.ylabel(\"Accuracy\"); plt.xlabel(\"Gamma\")  # X 축 범위 log 변환\n",
    "plt.legend()"
   ]
  },
  {
   "cell_type": "code",
   "execution_count": 32,
   "id": "3fb2d2a0-a6c0-489e-a716-3be96025a3a8",
   "metadata": {},
   "outputs": [],
   "source": [
    "# C= 0.7\n",
    "# Gamma 미세 변화에 따른 모델 성능\n",
    "# train 및 test 정확도 결과 저장용\n",
    "train_accuracy = []; test_accuracy = []\n",
    "\n",
    "# para_gamma = [10 **gamma for gamma in range(-2, 3)]   # 0.01, 0.1, 1, 10, 100 : 큰 변화 영향 확인\n",
    "para_gamma = [0.1 * gamma for gamma in range(1, 11)]     # 0.1~1.0 : 작은 변화 영향 확인\n",
    "\n",
    "for v_gamma in para_gamma:\n",
    "    svm = SVC(gamma = v_gamma, C = 0.7, random_state = 1234)\n",
    "    svm.fit(X_train, y_train)\n",
    "    train_accuracy.append(svm.score(X_train, y_train))\n",
    "    test_accuracy.append(svm.score(X_test, y_test))\n",
    "\n",
    "# 데이터 테이블로 저장\n",
    "df_accuracy_gamma = pd.DataFrame()\n",
    "df_accuracy_gamma[\"gamma\"] = para_gamma\n",
    "df_accuracy_gamma[\"TrainAccuracy\"] = train_accuracy\n",
    "df_accuracy_gamma[\"TestAccuracy\"] = test_accuracy"
   ]
  },
  {
   "cell_type": "code",
   "execution_count": 33,
   "id": "26fc09ee-3522-4ad7-b78b-178597887be9",
   "metadata": {},
   "outputs": [
    {
     "data": {
      "text/html": [
       "<div>\n",
       "<style scoped>\n",
       "    .dataframe tbody tr th:only-of-type {\n",
       "        vertical-align: middle;\n",
       "    }\n",
       "\n",
       "    .dataframe tbody tr th {\n",
       "        vertical-align: top;\n",
       "    }\n",
       "\n",
       "    .dataframe thead th {\n",
       "        text-align: right;\n",
       "    }\n",
       "</style>\n",
       "<table border=\"1\" class=\"dataframe\">\n",
       "  <thead>\n",
       "    <tr style=\"text-align: right;\">\n",
       "      <th></th>\n",
       "      <th>gamma</th>\n",
       "      <th>TrainAccuracy</th>\n",
       "      <th>TestAccuracy</th>\n",
       "    </tr>\n",
       "  </thead>\n",
       "  <tbody>\n",
       "    <tr>\n",
       "      <th>0</th>\n",
       "      <td>0.1</td>\n",
       "      <td>0.9524</td>\n",
       "      <td>0.9178</td>\n",
       "    </tr>\n",
       "    <tr>\n",
       "      <th>1</th>\n",
       "      <td>0.2</td>\n",
       "      <td>0.9702</td>\n",
       "      <td>0.9315</td>\n",
       "    </tr>\n",
       "    <tr>\n",
       "      <th>2</th>\n",
       "      <td>0.3</td>\n",
       "      <td>0.9643</td>\n",
       "      <td>0.9315</td>\n",
       "    </tr>\n",
       "    <tr>\n",
       "      <th>3</th>\n",
       "      <td>0.4</td>\n",
       "      <td>0.9583</td>\n",
       "      <td>0.9178</td>\n",
       "    </tr>\n",
       "    <tr>\n",
       "      <th>4</th>\n",
       "      <td>0.5</td>\n",
       "      <td>0.9524</td>\n",
       "      <td>0.9178</td>\n",
       "    </tr>\n",
       "    <tr>\n",
       "      <th>5</th>\n",
       "      <td>0.6</td>\n",
       "      <td>0.9464</td>\n",
       "      <td>0.9178</td>\n",
       "    </tr>\n",
       "    <tr>\n",
       "      <th>6</th>\n",
       "      <td>0.7</td>\n",
       "      <td>0.9405</td>\n",
       "      <td>0.9178</td>\n",
       "    </tr>\n",
       "    <tr>\n",
       "      <th>7</th>\n",
       "      <td>0.8</td>\n",
       "      <td>0.9405</td>\n",
       "      <td>0.9178</td>\n",
       "    </tr>\n",
       "    <tr>\n",
       "      <th>8</th>\n",
       "      <td>0.9</td>\n",
       "      <td>0.9405</td>\n",
       "      <td>0.9178</td>\n",
       "    </tr>\n",
       "    <tr>\n",
       "      <th>9</th>\n",
       "      <td>1.0</td>\n",
       "      <td>0.9345</td>\n",
       "      <td>0.9178</td>\n",
       "    </tr>\n",
       "  </tbody>\n",
       "</table>\n",
       "</div>"
      ],
      "text/plain": [
       "   gamma  TrainAccuracy  TestAccuracy\n",
       "0    0.1         0.9524        0.9178\n",
       "1    0.2         0.9702        0.9315\n",
       "2    0.3         0.9643        0.9315\n",
       "3    0.4         0.9583        0.9178\n",
       "4    0.5         0.9524        0.9178\n",
       "5    0.6         0.9464        0.9178\n",
       "6    0.7         0.9405        0.9178\n",
       "7    0.8         0.9405        0.9178\n",
       "8    0.9         0.9405        0.9178\n",
       "9    1.0         0.9345        0.9178"
      ]
     },
     "execution_count": 33,
     "metadata": {},
     "output_type": "execute_result"
    }
   ],
   "source": [
    "# Gamma별 정확도\n",
    "df_accuracy_gamma.round(4)"
   ]
  },
  {
   "cell_type": "code",
   "execution_count": 34,
   "id": "9c20f61a-7cf4-4dcc-8a1e-9e82b0f96d78",
   "metadata": {},
   "outputs": [
    {
     "data": {
      "text/plain": [
       "<matplotlib.legend.Legend at 0x152292510>"
      ]
     },
     "execution_count": 34,
     "metadata": {},
     "output_type": "execute_result"
    },
    {
     "data": {
      "image/png": "[encoded data removed]",
      "text/plain": [
       "<Figure size 640x480 with 1 Axes>"
      ]
     },
     "metadata": {},
     "output_type": "display_data"
    }
   ],
   "source": [
    "# 모델 정확도 그래프 확인\n",
    "plt.plot(para_gamma, train_accuracy, linestyle = \"-\", label = \"Train Accuracy\")\n",
    "plt.plot(para_gamma, test_accuracy, linestyle = \"--\", label = \"Test Accuracy\")\n",
    "plt.ylabel(\"Accuracy\"); plt.xlabel(\"Gamma\")  # X 축 범위 log 변환\n",
    "plt.legend()"
   ]
  },
  {
   "cell_type": "code",
   "execution_count": null,
   "id": "d8dec927-45c4-47a9-acfa-c4957942d121",
   "metadata": {},
   "outputs": [],
   "source": [
    "# Gamma 지정 : 0.2"
   ]
  },
  {
   "cell_type": "markdown",
   "id": "21c58788-9320-4f3d-97ef-8fd16e10dcdf",
   "metadata": {},
   "source": [
    "## 결론 도출"
   ]
  },
  {
   "cell_type": "code",
   "execution_count": 35,
   "id": "04db8602-7188-4b91-8067-01e4e1af180d",
   "metadata": {},
   "outputs": [
    {
     "name": "stdout",
     "output_type": "stream",
     "text": [
      "Train Accucary : 0.970\n",
      "Test Accuracy : 0.932\n",
      "\n",
      "Test Confusion matrix: \n",
      "[[ 1  5]\n",
      " [ 0 67]]\n",
      "              precision    recall  f1-score   support\n",
      "\n",
      "          불량      1.000     0.167     0.286         6\n",
      "          양품      0.931     1.000     0.964        67\n",
      "\n",
      "    accuracy                          0.932        73\n",
      "   macro avg      0.965     0.583     0.625        73\n",
      "weighted avg      0.936     0.932     0.908        73\n",
      "\n"
     ]
    }
   ],
   "source": [
    "# 최종 모델\n",
    "svc_final = SVC(gamma = 0.2, C=0.7, random_state=1538)\n",
    "svc_final.fit(X_train, y_train)\n",
    "\n",
    "# 평가\n",
    "y_pred_train = svc_final.predict(X_train)\n",
    "y_pred_test = svc_final.predict(X_test)\n",
    "\n",
    "# train 모델 정확도\n",
    "print(\"Train Accucary : {:.3f}\".format(svc_final.score(X_train, y_train)))\n",
    "# test 모델 정확도\n",
    "print(\"Test Accuracy : {:.3f}\\n\".format(svc_final.score(X_test, y_test)))\n",
    "\n",
    "# confusion matrix\n",
    "print(\"Test Confusion matrix: \\n{}\".format(confusion_matrix(y_test, y_pred_test)))\n",
    "\n",
    "# 목표변수의 빈도 불균형 : f1 score로 모델 평가 \n",
    "print(classification_report(y_test, y_pred_test, digits=3))"
   ]
  },
  {
   "cell_type": "markdown",
   "id": "ade87f95-c7a7-4315-b678-e10553bd34c8",
   "metadata": {},
   "source": [
    "## Grid Search"
   ]
  },
  {
   "cell_type": "code",
   "execution_count": null,
   "id": "a8451980-253d-49ab-bab3-1759ad2fa5c0",
   "metadata": {},
   "outputs": [],
   "source": [
    "estimator = SVC(random_state=1234)\n",
    "# 구하고자 하는 parameter와 범위\n",
    "param_grid = {\"C\": para_c,\n",
    "              \"gamma\": para_gamma}\n",
    "# 정확도가 높은 최적 parameter 찾기\n",
    "grid_rf = GridSearchCV(estimator, param_grid, scoring=\"accuracy\", n_jobs = -1)\n",
    "grid_rf.fit(df_scaled_train_x, df_train_y)\n",
    "print(\"best estimator model: \\n{}\".format(grid_rf.best_estimator_))\n",
    "print(\"\\nbest parameter: \\n{}\".format(grid_rf.best_params_))\n",
    "print(\"\\nbest score: \\n{}\".format(grid_rf.best_score_.round(3)))"
   ]
  },
  {
   "cell_type": "code",
   "execution_count": null,
   "id": "02525680-b7cd-4895-95b9-d074089bf284",
   "metadata": {},
   "outputs": [],
   "source": []
  },
  {
   "cell_type": "code",
   "execution_count": null,
   "id": "e9e6c1a1-8063-465b-93ad-94b54201bdf4",
   "metadata": {},
   "outputs": [],
   "source": []
  }
 ],
 "metadata": {
  "kernelspec": {
   "display_name": "Python 3 (ipykernel)",
   "language": "python",
   "name": "python3"
  },
  "language_info": {
   "codemirror_mode": {
    "name": "ipython",
    "version": 3
   },
   "file_extension": ".py",
   "mimetype": "text/x-python",
   "name": "python",
   "nbconvert_exporter": "python",
   "pygments_lexer": "ipython3",
   "version": "3.10.12"
  }
 },
 "nbformat": 4,
 "nbformat_minor": 5
}
