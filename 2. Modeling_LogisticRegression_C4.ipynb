{
 "cells": [
  {
   "cell_type": "code",
   "execution_count": 1,
   "id": "98813b3d-6411-4481-a68e-96575d39fdff",
   "metadata": {},
   "outputs": [],
   "source": [
    "# 데이터 구성:Series, DataFrame\n",
    "import pandas as pd\n",
    "# 행렬 연산\n",
    "import numpy as np\n",
    "# 데이터 시각화\n",
    "import matplotlib.pyplot as plt\n",
    "import matplotlib\n",
    "# scaling\n",
    "from sklearn.preprocessing import StandardScaler\n",
    "# 데이터 분할:train, test\n",
    "from sklearn.model_selection import train_test_split\n",
    "# 로지스틱 회귀\n",
    "from statsmodels.api import Logit\n",
    "# 분류모델 평가 함수\n",
    "from sklearn.metrics import accuracy_score, f1_score \n",
    "from sklearn.metrics import confusion_matrix, classification_report"
   ]
  },
  {
   "cell_type": "code",
   "execution_count": 2,
   "id": "5efea765",
   "metadata": {},
   "outputs": [],
   "source": [
    "import warnings\n",
    "warnings.filterwarnings('ignore')"
   ]
  },
  {
   "cell_type": "code",
   "execution_count": 3,
   "id": "4d4e252a-4fe9-46fc-ad5d-25b82fb0ef9b",
   "metadata": {},
   "outputs": [],
   "source": [
    "# 그래프 한글폰트 적용:맑은 고딕\n",
    "matplotlib.rc(\"font\", family = \"NanumGothic\")\n",
    "# 그래프 (-) 기호 표시\n",
    "matplotlib.rc(\"axes\", unicode_minus = False)"
   ]
  },
  {
   "cell_type": "code",
   "execution_count": 4,
   "id": "34c68bca-6bae-4347-8f8f-dea3f6695690",
   "metadata": {
    "scrolled": true
   },
   "outputs": [
    {
     "data": {
      "text/plain": [
       "'/home/piai/prac'"
      ]
     },
     "execution_count": 4,
     "metadata": {},
     "output_type": "execute_result"
    }
   ],
   "source": [
    "import os\n",
    "os.getcwd()"
   ]
  },
  {
   "cell_type": "markdown",
   "id": "c9a12bd0",
   "metadata": {},
   "source": [
    "## 탄소강(C) 데이터"
   ]
  },
  {
   "cell_type": "markdown",
   "id": "1b46b15a",
   "metadata": {},
   "source": [
    "# step1. 데이터 불러오기 및 구성하기"
   ]
  },
  {
   "cell_type": "code",
   "execution_count": 5,
   "id": "411ab7e7-178d-4580-a134-b083ea45f685",
   "metadata": {},
   "outputs": [
    {
     "data": {
      "text/html": [
       "<div>\n",
       "<style scoped>\n",
       "    .dataframe tbody tr th:only-of-type {\n",
       "        vertical-align: middle;\n",
       "    }\n",
       "\n",
       "    .dataframe tbody tr th {\n",
       "        vertical-align: top;\n",
       "    }\n",
       "\n",
       "    .dataframe thead th {\n",
       "        text-align: right;\n",
       "    }\n",
       "</style>\n",
       "<table border=\"1\" class=\"dataframe\">\n",
       "  <thead>\n",
       "    <tr style=\"text-align: right;\">\n",
       "      <th></th>\n",
       "      <th>scale</th>\n",
       "      <th>steel_kind</th>\n",
       "      <th>hsb</th>\n",
       "      <th>fur_avg_temp</th>\n",
       "      <th>fur_total_time</th>\n",
       "      <th>rolling_method</th>\n",
       "      <th>rolling_temp</th>\n",
       "      <th>descaling_count</th>\n",
       "      <th>work_group</th>\n",
       "    </tr>\n",
       "  </thead>\n",
       "  <tbody>\n",
       "    <tr>\n",
       "      <th>0</th>\n",
       "      <td>양품</td>\n",
       "      <td>C</td>\n",
       "      <td>적용</td>\n",
       "      <td>1127.5</td>\n",
       "      <td>297</td>\n",
       "      <td>CR(제어압연)</td>\n",
       "      <td>934</td>\n",
       "      <td>8</td>\n",
       "      <td>2조</td>\n",
       "    </tr>\n",
       "    <tr>\n",
       "      <th>1</th>\n",
       "      <td>양품</td>\n",
       "      <td>C</td>\n",
       "      <td>적용</td>\n",
       "      <td>1136.0</td>\n",
       "      <td>235</td>\n",
       "      <td>CR(제어압연)</td>\n",
       "      <td>911</td>\n",
       "      <td>8</td>\n",
       "      <td>2조</td>\n",
       "    </tr>\n",
       "    <tr>\n",
       "      <th>2</th>\n",
       "      <td>양품</td>\n",
       "      <td>C</td>\n",
       "      <td>적용</td>\n",
       "      <td>1130.0</td>\n",
       "      <td>240</td>\n",
       "      <td>CR(제어압연)</td>\n",
       "      <td>935</td>\n",
       "      <td>10</td>\n",
       "      <td>2조</td>\n",
       "    </tr>\n",
       "    <tr>\n",
       "      <th>3</th>\n",
       "      <td>양품</td>\n",
       "      <td>C</td>\n",
       "      <td>적용</td>\n",
       "      <td>1130.0</td>\n",
       "      <td>287</td>\n",
       "      <td>CR(제어압연)</td>\n",
       "      <td>935</td>\n",
       "      <td>10</td>\n",
       "      <td>2조</td>\n",
       "    </tr>\n",
       "    <tr>\n",
       "      <th>4</th>\n",
       "      <td>양품</td>\n",
       "      <td>C</td>\n",
       "      <td>적용</td>\n",
       "      <td>1135.5</td>\n",
       "      <td>286</td>\n",
       "      <td>CR(제어압연)</td>\n",
       "      <td>915</td>\n",
       "      <td>10</td>\n",
       "      <td>2조</td>\n",
       "    </tr>\n",
       "  </tbody>\n",
       "</table>\n",
       "</div>"
      ],
      "text/plain": [
       "  scale steel_kind hsb  fur_avg_temp  fur_total_time rolling_method  \\\n",
       "0    양품          C  적용        1127.5             297       CR(제어압연)   \n",
       "1    양품          C  적용        1136.0             235       CR(제어압연)   \n",
       "2    양품          C  적용        1130.0             240       CR(제어압연)   \n",
       "3    양품          C  적용        1130.0             287       CR(제어압연)   \n",
       "4    양품          C  적용        1135.5             286       CR(제어압연)   \n",
       "\n",
       "   rolling_temp  descaling_count work_group  \n",
       "0           934                8         2조  \n",
       "1           911                8         2조  \n",
       "2           935               10         2조  \n",
       "3           935               10         2조  \n",
       "4           915               10         2조  "
      ]
     },
     "execution_count": 5,
     "metadata": {},
     "output_type": "execute_result"
    }
   ],
   "source": [
    "df_c = pd.read_csv(\"/home/piai/prac/02/plate_c.csv\")\n",
    "df_c.head()"
   ]
  },
  {
   "cell_type": "code",
   "execution_count": 6,
   "id": "fff5390d-7987-40cc-afd3-af905851b3b3",
   "metadata": {
    "scrolled": false
   },
   "outputs": [
    {
     "name": "stdout",
     "output_type": "stream",
     "text": [
      "<class 'pandas.core.frame.DataFrame'>\n",
      "RangeIndex: 753 entries, 0 to 752\n",
      "Data columns (total 9 columns):\n",
      " #   Column           Non-Null Count  Dtype  \n",
      "---  ------           --------------  -----  \n",
      " 0   scale            753 non-null    object \n",
      " 1   steel_kind       753 non-null    object \n",
      " 2   hsb              753 non-null    object \n",
      " 3   fur_avg_temp     753 non-null    float64\n",
      " 4   fur_total_time   753 non-null    int64  \n",
      " 5   rolling_method   753 non-null    object \n",
      " 6   rolling_temp     753 non-null    int64  \n",
      " 7   descaling_count  753 non-null    int64  \n",
      " 8   work_group       753 non-null    object \n",
      "dtypes: float64(1), int64(3), object(5)\n",
      "memory usage: 53.1+ KB\n"
     ]
    }
   ],
   "source": [
    "df_c.info()"
   ]
  },
  {
   "cell_type": "code",
   "execution_count": 7,
   "id": "426756e7-c61e-4c09-8962-1e6a69a93362",
   "metadata": {},
   "outputs": [
    {
     "name": "stdout",
     "output_type": "stream",
     "text": [
      "scale : 2\n",
      "steel_kind : 1\n",
      "hsb : 2\n",
      "rolling_method : 1\n",
      "work_group : 4\n"
     ]
    }
   ],
   "source": [
    "obj_cols = df_c.select_dtypes(\"object\").columns\n",
    "\n",
    "for col in obj_cols:\n",
    "    _n = len(df_c[col].value_counts())\n",
    "    print(col, \":\", str(_n))"
   ]
  },
  {
   "cell_type": "markdown",
   "id": "62d45260",
   "metadata": {},
   "source": [
    "+ 명목형 변수를 확인 -> C를 통해 범주형 변수 표시."
   ]
  },
  {
   "cell_type": "markdown",
   "id": "76061f64",
   "metadata": {},
   "source": [
    "# step2. 데이터 전처리"
   ]
  },
  {
   "cell_type": "code",
   "execution_count": 8,
   "id": "ec7d5e9d-6196-4f4d-9741-6070d4ee1f14",
   "metadata": {
    "scrolled": true
   },
   "outputs": [],
   "source": [
    "# 목표변수 y : 양품 (1) , 불량 (0)\n",
    "\n",
    "# 1. 'scale' 열을 더미화\n",
    "df_dummies = pd.get_dummies(df_c['scale'], prefix='scale', drop_first=True)\n",
    "\n",
    "# 2. 더미화된 열의 이름을 \"scale\"로 변경\n",
    "df_dummies.columns = ['scale']\n",
    "\n",
    "# 3. 더미화된 결과를 원래 데이터프레임에 병합하고 맨 앞열로 이동\n",
    "df_c = pd.concat([df_dummies, df_c.drop('scale', axis=1)], axis=1)"
   ]
  },
  {
   "cell_type": "markdown",
   "id": "c27b4eda",
   "metadata": {},
   "source": [
    "+ 목표변수는 scale/ 양품 : 1 , 불량 : 0\n",
    "+ scale을 더미화"
   ]
  },
  {
   "cell_type": "code",
   "execution_count": 9,
   "id": "9459a90e",
   "metadata": {},
   "outputs": [
    {
     "data": {
      "text/html": [
       "<div>\n",
       "<style scoped>\n",
       "    .dataframe tbody tr th:only-of-type {\n",
       "        vertical-align: middle;\n",
       "    }\n",
       "\n",
       "    .dataframe tbody tr th {\n",
       "        vertical-align: top;\n",
       "    }\n",
       "\n",
       "    .dataframe thead th {\n",
       "        text-align: right;\n",
       "    }\n",
       "</style>\n",
       "<table border=\"1\" class=\"dataframe\">\n",
       "  <thead>\n",
       "    <tr style=\"text-align: right;\">\n",
       "      <th></th>\n",
       "      <th>scale</th>\n",
       "      <th>steel_kind</th>\n",
       "      <th>hsb</th>\n",
       "      <th>fur_avg_temp</th>\n",
       "      <th>fur_total_time</th>\n",
       "      <th>rolling_method</th>\n",
       "      <th>rolling_temp</th>\n",
       "      <th>descaling_count</th>\n",
       "      <th>work_group</th>\n",
       "    </tr>\n",
       "  </thead>\n",
       "  <tbody>\n",
       "    <tr>\n",
       "      <th>0</th>\n",
       "      <td>1</td>\n",
       "      <td>C</td>\n",
       "      <td>적용</td>\n",
       "      <td>1127.5</td>\n",
       "      <td>297</td>\n",
       "      <td>CR(제어압연)</td>\n",
       "      <td>934</td>\n",
       "      <td>8</td>\n",
       "      <td>2조</td>\n",
       "    </tr>\n",
       "    <tr>\n",
       "      <th>1</th>\n",
       "      <td>1</td>\n",
       "      <td>C</td>\n",
       "      <td>적용</td>\n",
       "      <td>1136.0</td>\n",
       "      <td>235</td>\n",
       "      <td>CR(제어압연)</td>\n",
       "      <td>911</td>\n",
       "      <td>8</td>\n",
       "      <td>2조</td>\n",
       "    </tr>\n",
       "    <tr>\n",
       "      <th>2</th>\n",
       "      <td>1</td>\n",
       "      <td>C</td>\n",
       "      <td>적용</td>\n",
       "      <td>1130.0</td>\n",
       "      <td>240</td>\n",
       "      <td>CR(제어압연)</td>\n",
       "      <td>935</td>\n",
       "      <td>10</td>\n",
       "      <td>2조</td>\n",
       "    </tr>\n",
       "    <tr>\n",
       "      <th>3</th>\n",
       "      <td>1</td>\n",
       "      <td>C</td>\n",
       "      <td>적용</td>\n",
       "      <td>1130.0</td>\n",
       "      <td>287</td>\n",
       "      <td>CR(제어압연)</td>\n",
       "      <td>935</td>\n",
       "      <td>10</td>\n",
       "      <td>2조</td>\n",
       "    </tr>\n",
       "    <tr>\n",
       "      <th>4</th>\n",
       "      <td>1</td>\n",
       "      <td>C</td>\n",
       "      <td>적용</td>\n",
       "      <td>1135.5</td>\n",
       "      <td>286</td>\n",
       "      <td>CR(제어압연)</td>\n",
       "      <td>915</td>\n",
       "      <td>10</td>\n",
       "      <td>2조</td>\n",
       "    </tr>\n",
       "  </tbody>\n",
       "</table>\n",
       "</div>"
      ],
      "text/plain": [
       "   scale steel_kind hsb  fur_avg_temp  fur_total_time rolling_method  \\\n",
       "0      1          C  적용        1127.5             297       CR(제어압연)   \n",
       "1      1          C  적용        1136.0             235       CR(제어압연)   \n",
       "2      1          C  적용        1130.0             240       CR(제어압연)   \n",
       "3      1          C  적용        1130.0             287       CR(제어압연)   \n",
       "4      1          C  적용        1135.5             286       CR(제어압연)   \n",
       "\n",
       "   rolling_temp  descaling_count work_group  \n",
       "0           934                8         2조  \n",
       "1           911                8         2조  \n",
       "2           935               10         2조  \n",
       "3           935               10         2조  \n",
       "4           915               10         2조  "
      ]
     },
     "execution_count": 9,
     "metadata": {},
     "output_type": "execute_result"
    }
   ],
   "source": [
    "df_c.head()"
   ]
  },
  {
   "cell_type": "code",
   "execution_count": 10,
   "id": "1d2798a7-d8a3-4058-8fab-94597583f0ac",
   "metadata": {
    "scrolled": true
   },
   "outputs": [],
   "source": [
    "df_c.drop('steel_kind', axis=1, inplace=True)"
   ]
  },
  {
   "cell_type": "markdown",
   "id": "7d74f18f",
   "metadata": {},
   "source": [
    "+ steel_kind는 1차 층별화를 했으므로 제거"
   ]
  },
  {
   "cell_type": "code",
   "execution_count": 13,
   "id": "b336ae18-11ac-4cd7-92b8-fd5da27222b9",
   "metadata": {
    "scrolled": true
   },
   "outputs": [
    {
     "name": "stdout",
     "output_type": "stream",
     "text": [
      "train data size : (527, 8)\n",
      "test data size : (226, 8)\n"
     ]
    }
   ],
   "source": [
    "# train_test_split(데이터, test_size = test 데이터 비율, random_state: 랜덤)\n",
    "df_train, df_test = train_test_split(df_c, # 데이터\n",
    "                                     test_size = 0.3, # test 데이터의 비율\n",
    "                                     random_state = 1234)  # random state\n",
    "\n",
    "print(\"train data size : {}\".format(df_train.shape))\n",
    "print(\"test data size : {}\".format(df_test.shape))"
   ]
  },
  {
   "cell_type": "markdown",
   "id": "a264a641",
   "metadata": {},
   "source": [
    "+ 데이터를 7:3으로 분할"
   ]
  },
  {
   "cell_type": "markdown",
   "id": "2faa0218",
   "metadata": {},
   "source": [
    "# step3. 모델 및 회귀계수 검토"
   ]
  },
  {
   "cell_type": "markdown",
   "id": "565cdce7-deaf-4048-9a10-2b4f5ccd8839",
   "metadata": {},
   "source": [
    "### 1. 모든 설명변수 포함"
   ]
  },
  {
   "cell_type": "code",
   "execution_count": 14,
   "id": "10596811-94f1-4239-a8e2-15b82f8d114b",
   "metadata": {},
   "outputs": [
    {
     "name": "stdout",
     "output_type": "stream",
     "text": [
      "Warning: Maximum number of iterations has been exceeded.\n",
      "         Current function value: 0.232547\n",
      "         Iterations: 35\n",
      "                           Logit Regression Results                           \n",
      "==============================================================================\n",
      "Dep. Variable:                  scale   No. Observations:                  527\n",
      "Model:                          Logit   Df Residuals:                      515\n",
      "Method:                           MLE   Df Model:                           11\n",
      "Date:                Mon, 12 Aug 2024   Pseudo R-squ.:                  0.6525\n",
      "Time:                        23:33:07   Log-Likelihood:                -122.55\n",
      "converged:                      False   LL-Null:                       -352.64\n",
      "Covariance Type:            nonrobust   LLR p-value:                 9.827e-92\n",
      "============================================================================================\n",
      "                               coef    std err          z      P>|z|      [0.025      0.975]\n",
      "--------------------------------------------------------------------------------------------\n",
      "Intercept                  150.5419   5782.173      0.026      0.979   -1.12e+04    1.15e+04\n",
      "C(hsb)[T.적용]                28.6091   2525.434      0.011      0.991   -4921.150    4978.368\n",
      "C(work_group)[T.2조]          0.2196      0.478      0.460      0.646      -0.717       1.156\n",
      "C(work_group)[T.3조]          1.3803      0.473      2.920      0.003       0.454       2.307\n",
      "C(work_group)[T.4조]          0.4250      0.473      0.899      0.369      -0.502       1.352\n",
      "C(descaling_count)[T.7]    -13.4327   2.74e+05   -4.9e-05      1.000   -5.38e+05    5.38e+05\n",
      "C(descaling_count)[T.8]     16.1185   5201.454      0.003      0.998   -1.02e+04    1.02e+04\n",
      "C(descaling_count)[T.9]    -24.6640   2.68e+05  -9.21e-05      1.000   -5.25e+05    5.25e+05\n",
      "C(descaling_count)[T.10]    16.3488   5201.454      0.003      0.997   -1.02e+04    1.02e+04\n",
      "fur_avg_temp                -0.0959      0.017     -5.691      0.000      -0.129      -0.063\n",
      "fur_total_time              -0.0104      0.006     -1.651      0.099      -0.023       0.002\n",
      "rolling_temp                -0.0823      0.010     -8.562      0.000      -0.101      -0.063\n",
      "============================================================================================\n",
      "\n",
      "Possibly complete quasi-separation: A fraction 0.18 of observations can be\n",
      "perfectly predicted. This might indicate that there is complete\n",
      "quasi-separation. In this case some parameters will not be identified.\n"
     ]
    }
   ],
   "source": [
    "# from_formula 함수를 이용하여 변수 역할 지정\n",
    "log_model = Logit.from_formula(\"\"\"scale ~ fur_avg_temp + fur_total_time + rolling_temp + C(hsb) + C(rolling_method) + C(work_group) + C(descaling_count)\"\"\", df_train)\n",
    "# 적합\n",
    "log_result = log_model.fit()\n",
    "\n",
    "# 결과 출력\n",
    "print(log_result.summary())"
   ]
  },
  {
   "cell_type": "markdown",
   "id": "76290e50-a288-4c3c-bf15-a855af251ff6",
   "metadata": {},
   "source": [
    "###  2. descaling count 제거"
   ]
  },
  {
   "cell_type": "code",
   "execution_count": 15,
   "id": "8be9ddbb-5b29-4121-8504-3878b3b2eea3",
   "metadata": {},
   "outputs": [
    {
     "name": "stdout",
     "output_type": "stream",
     "text": [
      "Warning: Maximum number of iterations has been exceeded.\n",
      "         Current function value: 0.389683\n",
      "         Iterations: 35\n",
      "                           Logit Regression Results                           \n",
      "==============================================================================\n",
      "Dep. Variable:                  scale   No. Observations:                  527\n",
      "Model:                          Logit   Df Residuals:                      519\n",
      "Method:                           MLE   Df Model:                            7\n",
      "Date:                Mon, 12 Aug 2024   Pseudo R-squ.:                  0.4176\n",
      "Time:                        23:33:10   Log-Likelihood:                -205.36\n",
      "converged:                      False   LL-Null:                       -352.64\n",
      "Covariance Type:            nonrobust   LLR p-value:                 8.805e-60\n",
      "=======================================================================================\n",
      "                          coef    std err          z      P>|z|      [0.025      0.975]\n",
      "---------------------------------------------------------------------------------------\n",
      "Intercept              73.8085   1.26e+04      0.006      0.995   -2.46e+04    2.48e+04\n",
      "C(hsb)[T.적용]           26.7153   1.26e+04      0.002      0.998   -2.47e+04    2.47e+04\n",
      "C(work_group)[T.2조]     0.0748      0.350      0.214      0.831      -0.612       0.761\n",
      "C(work_group)[T.3조]     1.0025      0.341      2.936      0.003       0.333       1.672\n",
      "C(work_group)[T.4조]     0.4648      0.347      1.339      0.181      -0.216       1.145\n",
      "fur_avg_temp           -0.0457      0.010     -4.489      0.000      -0.066      -0.026\n",
      "fur_total_time         -0.0069      0.004     -1.580      0.114      -0.015       0.002\n",
      "rolling_temp           -0.0467      0.004    -10.395      0.000      -0.056      -0.038\n",
      "=======================================================================================\n"
     ]
    }
   ],
   "source": [
    "# from_formula 함수를 이용하여 변수 역할 지정\n",
    "log_model = Logit.from_formula(\"\"\"scale ~ fur_avg_temp + fur_total_time + rolling_temp + C(hsb) + C(rolling_method) + C(work_group)\"\"\", df_train)\n",
    "# 적합\n",
    "log_result = log_model.fit()\n",
    "\n",
    "# 결과 출력\n",
    "print(log_result.summary())"
   ]
  },
  {
   "cell_type": "markdown",
   "id": "e26a427f-d37a-4ad9-b40b-d162356d9871",
   "metadata": {},
   "source": [
    "#### 2-1 descaling count + work group 제거"
   ]
  },
  {
   "cell_type": "code",
   "execution_count": 16,
   "id": "6d9ce426-ab8a-48c0-9429-47f16be8f953",
   "metadata": {},
   "outputs": [
    {
     "name": "stdout",
     "output_type": "stream",
     "text": [
      "Warning: Maximum number of iterations has been exceeded.\n",
      "         Current function value: 0.399800\n",
      "         Iterations: 35\n",
      "                           Logit Regression Results                           \n",
      "==============================================================================\n",
      "Dep. Variable:                  scale   No. Observations:                  527\n",
      "Model:                          Logit   Df Residuals:                      522\n",
      "Method:                           MLE   Df Model:                            4\n",
      "Date:                Mon, 12 Aug 2024   Pseudo R-squ.:                  0.4025\n",
      "Time:                        23:33:11   Log-Likelihood:                -210.69\n",
      "converged:                      False   LL-Null:                       -352.64\n",
      "Covariance Type:            nonrobust   LLR p-value:                 3.231e-60\n",
      "==================================================================================\n",
      "                     coef    std err          z      P>|z|      [0.025      0.975]\n",
      "----------------------------------------------------------------------------------\n",
      "Intercept         65.9275   2.73e+04      0.002      0.998   -5.34e+04    5.35e+04\n",
      "C(hsb)[T.적용]      27.8053   2.73e+04      0.001      0.999   -5.34e+04    5.35e+04\n",
      "fur_avg_temp      -0.0408      0.010     -4.045      0.000      -0.061      -0.021\n",
      "fur_total_time    -0.0063      0.004     -1.464      0.143      -0.015       0.002\n",
      "rolling_temp      -0.0453      0.004    -10.696      0.000      -0.054      -0.037\n",
      "==================================================================================\n"
     ]
    }
   ],
   "source": [
    "# from_formula 함수를 이용하여 변수 역할 지정\n",
    "log_model = Logit.from_formula(\"\"\"scale ~ fur_avg_temp + fur_total_time + rolling_temp + C(hsb) + C(rolling_method) \"\"\", df_train)\n",
    "# 적합\n",
    "log_result = log_model.fit()\n",
    "\n",
    "# 결과 출력\n",
    "print(log_result.summary())"
   ]
  },
  {
   "cell_type": "markdown",
   "id": "7135abfa-7f77-4c76-9c4c-d05cc02ee00a",
   "metadata": {},
   "source": [
    "### 3. work group 제거"
   ]
  },
  {
   "cell_type": "code",
   "execution_count": 17,
   "id": "22afac31-0803-4c50-9ca8-ed223c98bc6c",
   "metadata": {
    "scrolled": true
   },
   "outputs": [
    {
     "name": "stdout",
     "output_type": "stream",
     "text": [
      "Warning: Maximum number of iterations has been exceeded.\n",
      "         Current function value: 0.242656\n",
      "         Iterations: 35\n",
      "                           Logit Regression Results                           \n",
      "==============================================================================\n",
      "Dep. Variable:                  scale   No. Observations:                  527\n",
      "Model:                          Logit   Df Residuals:                      518\n",
      "Method:                           MLE   Df Model:                            8\n",
      "Date:                Mon, 12 Aug 2024   Pseudo R-squ.:                  0.6374\n",
      "Time:                        23:33:11   Log-Likelihood:                -127.88\n",
      "converged:                      False   LL-Null:                       -352.64\n",
      "Covariance Type:            nonrobust   LLR p-value:                 4.687e-92\n",
      "============================================================================================\n",
      "                               coef    std err          z      P>|z|      [0.025      0.975]\n",
      "--------------------------------------------------------------------------------------------\n",
      "Intercept                  135.2280   1.87e+04      0.007      0.994   -3.66e+04    3.68e+04\n",
      "C(hsb)[T.적용]                30.1409   1.27e+04      0.002      0.998   -2.48e+04    2.49e+04\n",
      "C(descaling_count)[T.7]    -11.5613   3.49e+05  -3.32e-05      1.000   -6.83e+05    6.83e+05\n",
      "C(descaling_count)[T.8]     18.4709   1.38e+04      0.001      0.999    -2.7e+04     2.7e+04\n",
      "C(descaling_count)[T.9]    -20.2698   2.84e+05  -7.13e-05      1.000   -5.57e+05    5.57e+05\n",
      "C(descaling_count)[T.10]    19.0037   1.38e+04      0.001      0.999    -2.7e+04     2.7e+04\n",
      "fur_avg_temp                -0.0925      0.016     -5.638      0.000      -0.125      -0.060\n",
      "fur_total_time              -0.0098      0.006     -1.545      0.122      -0.022       0.003\n",
      "rolling_temp                -0.0746      0.009     -8.556      0.000      -0.092      -0.057\n",
      "============================================================================================\n",
      "\n",
      "Possibly complete quasi-separation: A fraction 0.18 of observations can be\n",
      "perfectly predicted. This might indicate that there is complete\n",
      "quasi-separation. In this case some parameters will not be identified.\n"
     ]
    }
   ],
   "source": [
    "# from_formula 함수를 이용하여 변수 역할 지정\n",
    "log_model = Logit.from_formula(\"\"\"scale ~ fur_avg_temp + fur_total_time + rolling_temp + C(hsb) + C(rolling_method)  + C(descaling_count)\"\"\", df_train)\n",
    "# 적합\n",
    "log_result = log_model.fit()\n",
    "\n",
    "# 결과 출력\n",
    "print(log_result.summary())"
   ]
  },
  {
   "cell_type": "markdown",
   "id": "783c878e-a422-4e13-ba80-eb73bd14ccc3",
   "metadata": {},
   "source": [
    "### 4. fur total time 제거"
   ]
  },
  {
   "cell_type": "code",
   "execution_count": 18,
   "id": "67ab9301-7bc8-494d-91bc-43ccccb27a52",
   "metadata": {},
   "outputs": [
    {
     "name": "stdout",
     "output_type": "stream",
     "text": [
      "Warning: Maximum number of iterations has been exceeded.\n",
      "         Current function value: 0.235163\n",
      "         Iterations: 35\n",
      "                           Logit Regression Results                           \n",
      "==============================================================================\n",
      "Dep. Variable:                  scale   No. Observations:                  527\n",
      "Model:                          Logit   Df Residuals:                      516\n",
      "Method:                           MLE   Df Model:                           10\n",
      "Date:                Mon, 12 Aug 2024   Pseudo R-squ.:                  0.6486\n",
      "Time:                        23:33:12   Log-Likelihood:                -123.93\n",
      "converged:                      False   LL-Null:                       -352.64\n",
      "Covariance Type:            nonrobust   LLR p-value:                 5.465e-92\n",
      "============================================================================================\n",
      "                               coef    std err          z      P>|z|      [0.025      0.975]\n",
      "--------------------------------------------------------------------------------------------\n",
      "Intercept                  142.9639   6004.621      0.024      0.981   -1.16e+04    1.19e+04\n",
      "C(hsb)[T.적용]                30.0328   2536.235      0.012      0.991   -4940.896    5000.962\n",
      "C(work_group)[T.2조]          0.2322      0.470      0.494      0.622      -0.690       1.154\n",
      "C(work_group)[T.3조]          1.3431      0.464      2.894      0.004       0.433       2.253\n",
      "C(work_group)[T.4조]          0.4531      0.472      0.959      0.337      -0.473       1.379\n",
      "C(descaling_count)[T.7]    -12.1616   1.69e+05  -7.19e-05      1.000   -3.31e+05    3.31e+05\n",
      "C(descaling_count)[T.8]     16.2174   5442.651      0.003      0.998   -1.07e+04    1.07e+04\n",
      "C(descaling_count)[T.9]    -23.0639   1.28e+05     -0.000      1.000   -2.51e+05    2.51e+05\n",
      "C(descaling_count)[T.10]    16.4277   5442.651      0.003      0.998   -1.07e+04    1.07e+04\n",
      "fur_avg_temp                -0.0910      0.016     -5.576      0.000      -0.123      -0.059\n",
      "rolling_temp                -0.0844      0.010     -8.725      0.000      -0.103      -0.065\n",
      "============================================================================================\n",
      "\n",
      "Possibly complete quasi-separation: A fraction 0.18 of observations can be\n",
      "perfectly predicted. This might indicate that there is complete\n",
      "quasi-separation. In this case some parameters will not be identified.\n"
     ]
    }
   ],
   "source": [
    "# from_formula 함수를 이용하여 변수 역할 지정\n",
    "log_model = Logit.from_formula(\"\"\"scale ~ fur_avg_temp + rolling_temp + C(hsb) + /\n",
    "                                    C(rolling_method) + C(work_group) + C(descaling_count)\"\"\", df_train)\n",
    "# 적합\n",
    "log_result = log_model.fit()\n",
    "\n",
    "# 결과 출력\n",
    "print(log_result.summary())"
   ]
  },
  {
   "cell_type": "markdown",
   "id": "df973d7a",
   "metadata": {},
   "source": [
    "## 최종모델 선정"
   ]
  },
  {
   "cell_type": "code",
   "execution_count": 28,
   "id": "ad56bb24",
   "metadata": {},
   "outputs": [
    {
     "name": "stdout",
     "output_type": "stream",
     "text": [
      "Warning: Maximum number of iterations has been exceeded.\n",
      "         Current function value: 0.235163\n",
      "         Iterations: 35\n",
      "                           Logit Regression Results                           \n",
      "==============================================================================\n",
      "Dep. Variable:                  scale   No. Observations:                  527\n",
      "Model:                          Logit   Df Residuals:                      516\n",
      "Method:                           MLE   Df Model:                           10\n",
      "Date:                Mon, 12 Aug 2024   Pseudo R-squ.:                  0.6486\n",
      "Time:                        23:37:50   Log-Likelihood:                -123.93\n",
      "converged:                      False   LL-Null:                       -352.64\n",
      "Covariance Type:            nonrobust   LLR p-value:                 5.465e-92\n",
      "===================================================================================================================\n",
      "                                                      coef    std err          z      P>|z|      [0.025      0.975]\n",
      "-------------------------------------------------------------------------------------------------------------------\n",
      "Intercept                                         142.7352   6478.285      0.022      0.982   -1.26e+04    1.28e+04\n",
      "C(hsb)[T.적용]                                       30.0902   2610.034      0.012      0.991   -5085.482    5145.662\n",
      "C(descaling_count)[T.7]                           -12.1613   1.84e+05   -6.6e-05      1.000   -3.61e+05    3.61e+05\n",
      "C(descaling_count)[T.8]                            16.3886   5929.196      0.003      0.998   -1.16e+04    1.16e+04\n",
      "C(descaling_count)[T.9]                           -23.0647    1.4e+05     -0.000      1.000   -2.74e+05    2.74e+05\n",
      "C(descaling_count)[T.10]                           16.5990   5929.196      0.003      0.998   -1.16e+04    1.16e+04\n",
      "C(rolling_method)[CR(제어압연)]:C(work_group)[T.2조]     0.2322      0.470      0.494      0.622      -0.690       1.154\n",
      "C(rolling_method)[CR(제어압연)]:C(work_group)[T.3조]     1.3431      0.464      2.894      0.004       0.433       2.253\n",
      "C(rolling_method)[CR(제어압연)]:C(work_group)[T.4조]     0.4531      0.472      0.959      0.337      -0.473       1.379\n",
      "fur_avg_temp                                       -0.0910      0.016     -5.576      0.000      -0.123      -0.059\n",
      "rolling_temp                                       -0.0844      0.010     -8.725      0.000      -0.103      -0.065\n",
      "===================================================================================================================\n",
      "\n",
      "Possibly complete quasi-separation: A fraction 0.18 of observations can be\n",
      "perfectly predicted. This might indicate that there is complete\n",
      "quasi-separation. In this case some parameters will not be identified.\n"
     ]
    }
   ],
   "source": [
    "log_model = Logit.from_formula(\"\"\"scale ~ fur_avg_temp + rolling_temp + C(hsb) + C(rolling_method) /\n",
    "                                    + C(work_group) + C(descaling_count)\"\"\", df_train)\n",
    "log_result = log_model.fit()\n",
    "print(log_result.summary())"
   ]
  },
  {
   "cell_type": "markdown",
   "id": "4767fe49",
   "metadata": {},
   "source": [
    "+ 후진소거법에 의해서 최종모델 선정"
   ]
  },
  {
   "cell_type": "markdown",
   "id": "ba2199aa",
   "metadata": {},
   "source": [
    "+ descaling이 scale을 지워주기 때문에 중요한 변수라고 생각했다.\n",
    "+ 반면 fur_total_time은 중요변수라고 생각되지 않아서 제거했다."
   ]
  },
  {
   "cell_type": "markdown",
   "id": "bdb96cd9",
   "metadata": {},
   "source": [
    "+ 1. 전체 자료수 : 527 , 잔차 자유도 : 516 , 모델 자유도 : 10\n",
    "+ 2. 설명력 : 0.6486\n",
    "+ 3. 회귀계수 유의성 검정 : descaling_count를 제외한 모든 변수가 유의 변수 "
   ]
  },
  {
   "cell_type": "markdown",
   "id": "ba3d6aef",
   "metadata": {},
   "source": [
    "# step4. 예측 및 성능 평가"
   ]
  },
  {
   "cell_type": "code",
   "execution_count": 31,
   "id": "1a125152",
   "metadata": {},
   "outputs": [
    {
     "name": "stdout",
     "output_type": "stream",
     "text": [
      "Train 예측 결과 \n",
      " 328    1\n",
      "173    0\n",
      "171    1\n",
      "624    1\n",
      "577    1\n",
      "dtype: int64 \n",
      "\n",
      "Confusion Matrix: \n",
      "[[177  29]\n",
      " [ 28 293]] \n",
      "\n",
      "Test 예측 결과 \n",
      " 680    1\n",
      "353    1\n",
      "623    1\n",
      "519    1\n",
      "156    0\n",
      "dtype: int64 \n",
      "\n",
      "Confusion Matrix: \n",
      "[[ 69  15]\n",
      " [ 12 130]] \n",
      "\n"
     ]
    }
   ],
   "source": [
    "# train 데이터 예측\n",
    "y_pred_train = log_result.predict(df_train)\n",
    "# 0과 1의 값을 가진 class로 변환\n",
    "y_pred_train_class = (y_pred_train > 0.5).astype(int)  # 0.5 : “1/0” 판정 임계값(1 발생 확률) 변경 가능 \n",
    "print(\"Train 예측 결과 \\n\", y_pred_train_class.head(), \"\\n\")\n",
    "print(\"Confusion Matrix: \\n{}\".format(confusion_matrix(df_train[\"scale\"],y_pred_train_class)),\"\\n\")\n",
    "\n",
    "# test 데이터 예측\n",
    "y_pred_test = log_result.predict(df_test)\n",
    "# 0과 1의 값을 가진 class로 변환\n",
    "y_pred_test_class = (y_pred_test > 0.5).astype(int)\n",
    "print(\"Test 예측 결과 \\n\", y_pred_test_class.head(),\"\\n\")\n",
    "print(\"Confusion Matrix: \\n{}\".format(confusion_matrix(df_test[\"scale\"],y_pred_test_class)),\"\\n\")"
   ]
  },
  {
   "cell_type": "code",
   "execution_count": 32,
   "id": "18889305",
   "metadata": {},
   "outputs": [
    {
     "name": "stdout",
     "output_type": "stream",
     "text": [
      "Train 예측/분류 결과\n",
      "Accuracy: 0.892\n",
      "\n",
      "Confusion Matrix: \n",
      "[[177  29]\n",
      " [ 28 293]] \n",
      "\n",
      "              precision    recall  f1-score   support\n",
      "\n",
      "           0      0.863     0.859     0.861       206\n",
      "           1      0.910     0.913     0.911       321\n",
      "\n",
      "    accuracy                          0.892       527\n",
      "   macro avg      0.887     0.886     0.886       527\n",
      "weighted avg      0.892     0.892     0.892       527\n",
      "\n",
      "Test 예측/분류 결과\n",
      "Accuracy: 0.881\n",
      "\n",
      "Confusion Matrix: \n",
      "[[ 69  15]\n",
      " [ 12 130]] \n",
      "\n",
      "              precision    recall  f1-score   support\n",
      "\n",
      "           0      0.852     0.821     0.836        84\n",
      "           1      0.897     0.915     0.906       142\n",
      "\n",
      "    accuracy                          0.881       226\n",
      "   macro avg      0.874     0.868     0.871       226\n",
      "weighted avg      0.880     0.881     0.880       226\n",
      "\n"
     ]
    }
   ],
   "source": [
    "# 실제 train 데이터와 예측 결과 비교\n",
    "print(\"Train 예측/분류 결과\")\n",
    "print(\"Accuracy: {0:.3f}\\n\".format(accuracy_score(df_train[\"scale\"], y_pred_train_class)))\n",
    "print(\"Confusion Matrix: \\n{}\".format(confusion_matrix(df_train[\"scale\"],y_pred_train_class)),\"\\n\")\n",
    "print(classification_report(df_train[\"scale\"], y_pred_train_class, digits=3))\n",
    "\n",
    "# 실제 train 데이터와 예측 결과 비교\n",
    "print(\"Test 예측/분류 결과\")\n",
    "print(\"Accuracy: {0:.3f}\\n\".format(accuracy_score(df_test[\"scale\"], y_pred_test_class)))\n",
    "print(\"Confusion Matrix: \\n{}\".format(confusion_matrix(df_test[\"scale\"],y_pred_test_class)),\"\\n\")\n",
    "print(classification_report(df_test[\"scale\"], y_pred_test_class, digits=3))"
   ]
  },
  {
   "cell_type": "markdown",
   "id": "0e2666b1",
   "metadata": {},
   "source": [
    "+ 1. 모델의 Test데이터 정분류율은 88.1% , Train데이터의 정분류율은 89.2%로 overfitting 없음\n",
    "     성능이 좋은 편인 것 같다.\n",
    "+ 2. 분류 내용\n",
    "    -> 실제 0을 0으로 분류 177건\n",
    "    -> 실제 1을 0으로 분류 28건\n",
    "    -> 실제 1을 1으로 분류 293건\n",
    "    -> 실제 0을 1으로 분류 29건\n",
    "+ 3. '1'기준 f1 score는 91.1%\n",
    "      (precision , recall 모두 높다.)"
   ]
  },
  {
   "cell_type": "markdown",
   "id": "a2eaf4a2",
   "metadata": {},
   "source": [
    "# step5. 결론 도출 - 최종 회귀식"
   ]
  },
  {
   "cell_type": "code",
   "execution_count": 37,
   "id": "b48be211",
   "metadata": {},
   "outputs": [],
   "source": [
    "# logit(P(scale = 1)) = 142.7352 \n",
    "#     + 30.0902 × C(hsb)[T.적용] − 12.1613 × C(descaling_count)[T.7] + 16.3886 × C(descaling_count)[T.8] \n",
    "#     − 23.0647 × C(descaling_count)[T.9] + 16.5990 × C(descaling_count)[T.10] \n",
    "#     + 0.2322 × C(rolling_method)[CR(제어압연)]:C(work_group)[T.2조] \n",
    "#     + 1.3431 × C(rolling_method)[CR(제어압연)]:C(work_group)[T.3조] \n",
    "#     + 0.4531 × C(rolling_method)[CR(제어압연)]:C(work_group)[T.4조] \n",
    "#     − 0.0910 × fur_avg_temp − 0.0844 × rolling_temp"
   ]
  },
  {
   "cell_type": "code",
   "execution_count": 41,
   "id": "a93239fe",
   "metadata": {},
   "outputs": [
    {
     "data": {
      "text/html": [
       "<div>\n",
       "<style scoped>\n",
       "    .dataframe tbody tr th:only-of-type {\n",
       "        vertical-align: middle;\n",
       "    }\n",
       "\n",
       "    .dataframe tbody tr th {\n",
       "        vertical-align: top;\n",
       "    }\n",
       "\n",
       "    .dataframe thead th {\n",
       "        text-align: right;\n",
       "    }\n",
       "</style>\n",
       "<table border=\"1\" class=\"dataframe\">\n",
       "  <thead>\n",
       "    <tr style=\"text-align: right;\">\n",
       "      <th></th>\n",
       "      <th>scale</th>\n",
       "      <th>fur_avg_temp</th>\n",
       "      <th>fur_total_time</th>\n",
       "      <th>rolling_temp</th>\n",
       "      <th>descaling_count</th>\n",
       "      <th>hsb</th>\n",
       "      <th>rolling_method</th>\n",
       "      <th>work_group</th>\n",
       "    </tr>\n",
       "  </thead>\n",
       "  <tbody>\n",
       "    <tr>\n",
       "      <th>0</th>\n",
       "      <td>0.791423</td>\n",
       "      <td>-2.325197</td>\n",
       "      <td>1.901318</td>\n",
       "      <td>-0.638279</td>\n",
       "      <td>-1.140355</td>\n",
       "      <td>적용</td>\n",
       "      <td>CR(제어압연)</td>\n",
       "      <td>2조</td>\n",
       "    </tr>\n",
       "    <tr>\n",
       "      <th>1</th>\n",
       "      <td>0.791423</td>\n",
       "      <td>-1.733509</td>\n",
       "      <td>0.153117</td>\n",
       "      <td>-1.115582</td>\n",
       "      <td>-1.140355</td>\n",
       "      <td>적용</td>\n",
       "      <td>CR(제어압연)</td>\n",
       "      <td>2조</td>\n",
       "    </tr>\n",
       "    <tr>\n",
       "      <th>2</th>\n",
       "      <td>0.791423</td>\n",
       "      <td>-2.151171</td>\n",
       "      <td>0.294101</td>\n",
       "      <td>-0.617526</td>\n",
       "      <td>0.700347</td>\n",
       "      <td>적용</td>\n",
       "      <td>CR(제어압연)</td>\n",
       "      <td>2조</td>\n",
       "    </tr>\n",
       "    <tr>\n",
       "      <th>3</th>\n",
       "      <td>0.791423</td>\n",
       "      <td>-2.151171</td>\n",
       "      <td>1.619350</td>\n",
       "      <td>-0.617526</td>\n",
       "      <td>0.700347</td>\n",
       "      <td>적용</td>\n",
       "      <td>CR(제어압연)</td>\n",
       "      <td>2조</td>\n",
       "    </tr>\n",
       "    <tr>\n",
       "      <th>4</th>\n",
       "      <td>0.791423</td>\n",
       "      <td>-1.768314</td>\n",
       "      <td>1.591154</td>\n",
       "      <td>-1.032573</td>\n",
       "      <td>0.700347</td>\n",
       "      <td>적용</td>\n",
       "      <td>CR(제어압연)</td>\n",
       "      <td>2조</td>\n",
       "    </tr>\n",
       "  </tbody>\n",
       "</table>\n",
       "</div>"
      ],
      "text/plain": [
       "      scale  fur_avg_temp  fur_total_time  rolling_temp  descaling_count hsb  \\\n",
       "0  0.791423     -2.325197        1.901318     -0.638279        -1.140355  적용   \n",
       "1  0.791423     -1.733509        0.153117     -1.115582        -1.140355  적용   \n",
       "2  0.791423     -2.151171        0.294101     -0.617526         0.700347  적용   \n",
       "3  0.791423     -2.151171        1.619350     -0.617526         0.700347  적용   \n",
       "4  0.791423     -1.768314        1.591154     -1.032573         0.700347  적용   \n",
       "\n",
       "  rolling_method work_group  \n",
       "0       CR(제어압연)         2조  \n",
       "1       CR(제어압연)         2조  \n",
       "2       CR(제어압연)         2조  \n",
       "3       CR(제어압연)         2조  \n",
       "4       CR(제어압연)         2조  "
      ]
     },
     "execution_count": 41,
     "metadata": {},
     "output_type": "execute_result"
    }
   ],
   "source": [
    "df_scale = df_c.select_dtypes(include = \"object\")\n",
    "df_numeric = df_c.select_dtypes(exclude = \"object\")\n",
    "\n",
    "# Data Scaling\n",
    "scaler = StandardScaler()\n",
    "np_numeric_scaled = scaler.fit_transform(df_numeric)\n",
    "df_numeric_scaled = pd.DataFrame(np_numeric_scaled, columns = df_numeric.columns)\n",
    "\n",
    "# 문자 데이터 + 숫자 데이터\n",
    "df_scaled = pd.concat([df_numeric_scaled, df_scale],axis = 1)\n",
    "df_scaled.head()"
   ]
  },
  {
   "cell_type": "code",
   "execution_count": 42,
   "id": "bdb54967",
   "metadata": {},
   "outputs": [
    {
     "data": {
      "text/html": [
       "<div>\n",
       "<style scoped>\n",
       "    .dataframe tbody tr th:only-of-type {\n",
       "        vertical-align: middle;\n",
       "    }\n",
       "\n",
       "    .dataframe tbody tr th {\n",
       "        vertical-align: top;\n",
       "    }\n",
       "\n",
       "    .dataframe thead th {\n",
       "        text-align: right;\n",
       "    }\n",
       "</style>\n",
       "<table border=\"1\" class=\"dataframe\">\n",
       "  <thead>\n",
       "    <tr style=\"text-align: right;\">\n",
       "      <th></th>\n",
       "      <th>scale</th>\n",
       "      <th>fur_avg_temp</th>\n",
       "      <th>fur_total_time</th>\n",
       "      <th>rolling_temp</th>\n",
       "      <th>descaling_count</th>\n",
       "      <th>hsb</th>\n",
       "      <th>rolling_method</th>\n",
       "      <th>work_group</th>\n",
       "    </tr>\n",
       "  </thead>\n",
       "  <tbody>\n",
       "    <tr>\n",
       "      <th>0</th>\n",
       "      <td>1</td>\n",
       "      <td>-2.325197</td>\n",
       "      <td>1.901318</td>\n",
       "      <td>-0.638279</td>\n",
       "      <td>-1.140355</td>\n",
       "      <td>적용</td>\n",
       "      <td>CR(제어압연)</td>\n",
       "      <td>2조</td>\n",
       "    </tr>\n",
       "    <tr>\n",
       "      <th>1</th>\n",
       "      <td>1</td>\n",
       "      <td>-1.733509</td>\n",
       "      <td>0.153117</td>\n",
       "      <td>-1.115582</td>\n",
       "      <td>-1.140355</td>\n",
       "      <td>적용</td>\n",
       "      <td>CR(제어압연)</td>\n",
       "      <td>2조</td>\n",
       "    </tr>\n",
       "    <tr>\n",
       "      <th>2</th>\n",
       "      <td>1</td>\n",
       "      <td>-2.151171</td>\n",
       "      <td>0.294101</td>\n",
       "      <td>-0.617526</td>\n",
       "      <td>0.700347</td>\n",
       "      <td>적용</td>\n",
       "      <td>CR(제어압연)</td>\n",
       "      <td>2조</td>\n",
       "    </tr>\n",
       "    <tr>\n",
       "      <th>3</th>\n",
       "      <td>1</td>\n",
       "      <td>-2.151171</td>\n",
       "      <td>1.619350</td>\n",
       "      <td>-0.617526</td>\n",
       "      <td>0.700347</td>\n",
       "      <td>적용</td>\n",
       "      <td>CR(제어압연)</td>\n",
       "      <td>2조</td>\n",
       "    </tr>\n",
       "    <tr>\n",
       "      <th>4</th>\n",
       "      <td>1</td>\n",
       "      <td>-1.768314</td>\n",
       "      <td>1.591154</td>\n",
       "      <td>-1.032573</td>\n",
       "      <td>0.700347</td>\n",
       "      <td>적용</td>\n",
       "      <td>CR(제어압연)</td>\n",
       "      <td>2조</td>\n",
       "    </tr>\n",
       "  </tbody>\n",
       "</table>\n",
       "</div>"
      ],
      "text/plain": [
       "   scale  fur_avg_temp  fur_total_time  rolling_temp  descaling_count hsb  \\\n",
       "0      1     -2.325197        1.901318     -0.638279        -1.140355  적용   \n",
       "1      1     -1.733509        0.153117     -1.115582        -1.140355  적용   \n",
       "2      1     -2.151171        0.294101     -0.617526         0.700347  적용   \n",
       "3      1     -2.151171        1.619350     -0.617526         0.700347  적용   \n",
       "4      1     -1.768314        1.591154     -1.032573         0.700347  적용   \n",
       "\n",
       "  rolling_method work_group  \n",
       "0       CR(제어압연)         2조  \n",
       "1       CR(제어압연)         2조  \n",
       "2       CR(제어압연)         2조  \n",
       "3       CR(제어압연)         2조  \n",
       "4       CR(제어압연)         2조  "
      ]
     },
     "execution_count": 42,
     "metadata": {},
     "output_type": "execute_result"
    }
   ],
   "source": [
    "# scale 데이터를 0과 1로 변환(정수형), np.where(조건, 조건을 만족하는 경우, 만족하지 않는 경우)\n",
    "df_scaled[\"scale\"] = np.where(df_scaled[\"scale\"]> 0, 1, 0)\n",
    "df_scaled.head()"
   ]
  },
  {
   "cell_type": "code",
   "execution_count": 43,
   "id": "62825841",
   "metadata": {},
   "outputs": [],
   "source": [
    "# 데이터 분할\n",
    "df_scaled_train, df_scaled_test = train_test_split(df_scaled, # 데이터\n",
    "                               test_size = 0.3, # test 데이터의 비율\n",
    "                               random_state = 1234)  # random state"
   ]
  },
  {
   "cell_type": "code",
   "execution_count": 44,
   "id": "8a0e1a1c",
   "metadata": {},
   "outputs": [
    {
     "name": "stdout",
     "output_type": "stream",
     "text": [
      "Warning: Maximum number of iterations has been exceeded.\n",
      "         Current function value: 0.235163\n",
      "         Iterations: 35\n",
      "                           Logit Regression Results                           \n",
      "==============================================================================\n",
      "Dep. Variable:                  scale   No. Observations:                  527\n",
      "Model:                          Logit   Df Residuals:                      516\n",
      "Method:                           MLE   Df Model:                           10\n",
      "Date:                Tue, 13 Aug 2024   Pseudo R-squ.:                  0.6486\n",
      "Time:                        00:09:19   Log-Likelihood:                -123.93\n",
      "converged:                      False   LL-Null:                       -352.64\n",
      "Covariance Type:            nonrobust   LLR p-value:                 5.465e-92\n",
      "===================================================================================================================\n",
      "                                                      coef    std err          z      P>|z|      [0.025      0.975]\n",
      "-------------------------------------------------------------------------------------------------------------------\n",
      "Intercept                                         -41.9130   5728.191     -0.007      0.994   -1.13e+04    1.12e+04\n",
      "C(hsb)[T.적용]                                       27.7804    822.415      0.034      0.973   -1584.124    1639.685\n",
      "C(descaling_count)[T.-2.060705896774562]          -12.1182   1.72e+05  -7.03e-05      1.000   -3.38e+05    3.38e+05\n",
      "C(descaling_count)[T.-1.1403550425211544]          16.2988   5668.845      0.003      0.998   -1.11e+04    1.11e+04\n",
      "C(descaling_count)[T.-0.22000418826774665]        -23.0667   1.34e+05     -0.000      1.000   -2.62e+05    2.62e+05\n",
      "C(descaling_count)[T.0.700346665985661]            16.5092   5668.845      0.003      0.998   -1.11e+04    1.11e+04\n",
      "C(rolling_method)[CR(제어압연)]:C(work_group)[T.2조]     0.2322      0.470      0.494      0.622      -0.690       1.154\n",
      "C(rolling_method)[CR(제어압연)]:C(work_group)[T.3조]     1.3431      0.464      2.894      0.004       0.433       2.253\n",
      "C(rolling_method)[CR(제어압연)]:C(work_group)[T.4조]     0.4531      0.472      0.959      0.337      -0.473       1.379\n",
      "fur_avg_temp                                       -1.3071      0.234     -5.576      0.000      -1.767      -0.848\n",
      "rolling_temp                                       -4.0667      0.466     -8.725      0.000      -4.980      -3.153\n",
      "===================================================================================================================\n",
      "\n",
      "Possibly complete quasi-separation: A fraction 0.18 of observations can be\n",
      "perfectly predicted. This might indicate that there is complete\n",
      "quasi-separation. In this case some parameters will not be identified.\n"
     ]
    }
   ],
   "source": [
    "# from_formula 함수를 이용하여 변수 역할 지정\n",
    "\n",
    "scaled_log_model = Logit.from_formula(\"\"\"scale ~ fur_avg_temp + rolling_temp + C(hsb) + C(rolling_method) /\n",
    "                                         + C(work_group) + C(descaling_count)\"\"\", df_scaled_train)\n",
    "\n",
    "# 적합\n",
    "scaled_log_result = scaled_log_model.fit()\n",
    "# 결과 출력\n",
    "print(scaled_log_result.summary())"
   ]
  },
  {
   "cell_type": "code",
   "execution_count": 45,
   "id": "929c2de0",
   "metadata": {},
   "outputs": [
    {
     "data": {
      "text/plain": [
       "<Axes: >"
      ]
     },
     "execution_count": 45,
     "metadata": {},
     "output_type": "execute_result"
    },
    {
     "data": {
      "image/png": "[encoded data removed]",
      "text/plain": [
       "<Figure size 640x480 with 1 Axes>"
      ]
     },
     "metadata": {},
     "output_type": "display_data"
    }
   ],
   "source": [
    "df_log_scaled_coef = pd.DataFrame({\"Coef\": scaled_log_result.params.values[1:]}, index = scaled_log_model.exog_names[1:])\n",
    "df_log_scaled_coef.plot.barh(y = \"Coef\", legend = False)"
   ]
  },
  {
   "cell_type": "markdown",
   "id": "3efd3e4b",
   "metadata": {},
   "source": [
    "+ 설명변수 중요도"
   ]
  },
  {
   "cell_type": "markdown",
   "id": "699a7f25",
   "metadata": {},
   "source": [
    "+ 양품이 1이다.\n",
    "+ hsb를 할수록 양품이 될 확률이 높아진다."
   ]
  },
  {
   "cell_type": "markdown",
   "id": "46513f6a",
   "metadata": {},
   "source": [
    "## 티타늄(Ti) 데이터"
   ]
  },
  {
   "cell_type": "markdown",
   "id": "a92edd35",
   "metadata": {},
   "source": [
    "# step1. 데이터 불러오기 및 구성하기"
   ]
  },
  {
   "cell_type": "code",
   "execution_count": 5,
   "id": "b34cd6ef",
   "metadata": {},
   "outputs": [
    {
     "data": {
      "text/html": [
       "<div>\n",
       "<style scoped>\n",
       "    .dataframe tbody tr th:only-of-type {\n",
       "        vertical-align: middle;\n",
       "    }\n",
       "\n",
       "    .dataframe tbody tr th {\n",
       "        vertical-align: top;\n",
       "    }\n",
       "\n",
       "    .dataframe thead th {\n",
       "        text-align: right;\n",
       "    }\n",
       "</style>\n",
       "<table border=\"1\" class=\"dataframe\">\n",
       "  <thead>\n",
       "    <tr style=\"text-align: right;\">\n",
       "      <th></th>\n",
       "      <th>scale</th>\n",
       "      <th>steel_kind</th>\n",
       "      <th>hsb</th>\n",
       "      <th>fur_avg_temp</th>\n",
       "      <th>fur_total_time</th>\n",
       "      <th>rolling_method</th>\n",
       "      <th>rolling_temp</th>\n",
       "      <th>descaling_count</th>\n",
       "      <th>work_group</th>\n",
       "    </tr>\n",
       "  </thead>\n",
       "  <tbody>\n",
       "    <tr>\n",
       "      <th>0</th>\n",
       "      <td>양품</td>\n",
       "      <td>T</td>\n",
       "      <td>적용</td>\n",
       "      <td>1138.5</td>\n",
       "      <td>259</td>\n",
       "      <td>TMCP(온도제어)</td>\n",
       "      <td>934</td>\n",
       "      <td>8</td>\n",
       "      <td>1조</td>\n",
       "    </tr>\n",
       "    <tr>\n",
       "      <th>1</th>\n",
       "      <td>양품</td>\n",
       "      <td>T</td>\n",
       "      <td>적용</td>\n",
       "      <td>1139.5</td>\n",
       "      <td>238</td>\n",
       "      <td>TMCP(온도제어)</td>\n",
       "      <td>937</td>\n",
       "      <td>8</td>\n",
       "      <td>1조</td>\n",
       "    </tr>\n",
       "    <tr>\n",
       "      <th>2</th>\n",
       "      <td>양품</td>\n",
       "      <td>T</td>\n",
       "      <td>적용</td>\n",
       "      <td>1125.0</td>\n",
       "      <td>258</td>\n",
       "      <td>TMCP(온도제어)</td>\n",
       "      <td>889</td>\n",
       "      <td>8</td>\n",
       "      <td>1조</td>\n",
       "    </tr>\n",
       "    <tr>\n",
       "      <th>3</th>\n",
       "      <td>양품</td>\n",
       "      <td>T</td>\n",
       "      <td>적용</td>\n",
       "      <td>1139.5</td>\n",
       "      <td>266</td>\n",
       "      <td>TMCP(온도제어)</td>\n",
       "      <td>885</td>\n",
       "      <td>8</td>\n",
       "      <td>1조</td>\n",
       "    </tr>\n",
       "    <tr>\n",
       "      <th>4</th>\n",
       "      <td>양품</td>\n",
       "      <td>T</td>\n",
       "      <td>적용</td>\n",
       "      <td>1134.0</td>\n",
       "      <td>246</td>\n",
       "      <td>TMCP(온도제어)</td>\n",
       "      <td>873</td>\n",
       "      <td>8</td>\n",
       "      <td>1조</td>\n",
       "    </tr>\n",
       "  </tbody>\n",
       "</table>\n",
       "</div>"
      ],
      "text/plain": [
       "  scale steel_kind hsb  fur_avg_temp  fur_total_time rolling_method  \\\n",
       "0    양품          T  적용        1138.5             259     TMCP(온도제어)   \n",
       "1    양품          T  적용        1139.5             238     TMCP(온도제어)   \n",
       "2    양품          T  적용        1125.0             258     TMCP(온도제어)   \n",
       "3    양품          T  적용        1139.5             266     TMCP(온도제어)   \n",
       "4    양품          T  적용        1134.0             246     TMCP(온도제어)   \n",
       "\n",
       "   rolling_temp  descaling_count work_group  \n",
       "0           934                8         1조  \n",
       "1           937                8         1조  \n",
       "2           889                8         1조  \n",
       "3           885                8         1조  \n",
       "4           873                8         1조  "
      ]
     },
     "execution_count": 5,
     "metadata": {},
     "output_type": "execute_result"
    }
   ],
   "source": [
    "df_t = pd.read_csv(\"/home/piai/prac/02/plate_t.csv\")\n",
    "df_t.head()"
   ]
  },
  {
   "cell_type": "code",
   "execution_count": 6,
   "id": "b5faea75",
   "metadata": {
    "scrolled": false
   },
   "outputs": [
    {
     "name": "stdout",
     "output_type": "stream",
     "text": [
      "<class 'pandas.core.frame.DataFrame'>\n",
      "RangeIndex: 241 entries, 0 to 240\n",
      "Data columns (total 9 columns):\n",
      " #   Column           Non-Null Count  Dtype  \n",
      "---  ------           --------------  -----  \n",
      " 0   scale            241 non-null    object \n",
      " 1   steel_kind       241 non-null    object \n",
      " 2   hsb              241 non-null    object \n",
      " 3   fur_avg_temp     241 non-null    float64\n",
      " 4   fur_total_time   241 non-null    int64  \n",
      " 5   rolling_method   241 non-null    object \n",
      " 6   rolling_temp     241 non-null    int64  \n",
      " 7   descaling_count  241 non-null    int64  \n",
      " 8   work_group       241 non-null    object \n",
      "dtypes: float64(1), int64(3), object(5)\n",
      "memory usage: 17.1+ KB\n"
     ]
    }
   ],
   "source": [
    "df_t.info()"
   ]
  },
  {
   "cell_type": "code",
   "execution_count": 7,
   "id": "3fc9c403",
   "metadata": {},
   "outputs": [
    {
     "name": "stdout",
     "output_type": "stream",
     "text": [
      "scale : 2\n",
      "steel_kind : 1\n",
      "hsb : 2\n",
      "rolling_method : 2\n",
      "work_group : 3\n"
     ]
    }
   ],
   "source": [
    "obj_cols = df_t.select_dtypes(\"object\").columns\n",
    "\n",
    "for col in obj_cols:\n",
    "    _n = len(df_t[col].value_counts())\n",
    "    print(col, \":\", str(_n))"
   ]
  },
  {
   "cell_type": "markdown",
   "id": "5f895c5a",
   "metadata": {},
   "source": [
    "+ 명목형 변수를 확인 -> C를 통해 범주형 변수 표시."
   ]
  },
  {
   "cell_type": "markdown",
   "id": "cdf55dd7",
   "metadata": {},
   "source": [
    "# step2. 데이터 전처리"
   ]
  },
  {
   "cell_type": "code",
   "execution_count": 8,
   "id": "47b7b3cf",
   "metadata": {
    "scrolled": true
   },
   "outputs": [],
   "source": [
    "# 목표변수 y : 양품 (1) , 불량 (0)\n",
    "\n",
    "# 1. 'scale' 열을 더미화\n",
    "df_dummies = pd.get_dummies(df_t['scale'], prefix='scale', drop_first=True)\n",
    "\n",
    "# 2. 더미화된 열의 이름을 \"scale\"로 변경\n",
    "df_dummies.columns = ['scale']\n",
    "\n",
    "# 3. 더미화된 결과를 원래 데이터프레임에 병합하고 맨 앞열로 이동\n",
    "df_t = pd.concat([df_dummies, df_t.drop('scale', axis=1)], axis=1)"
   ]
  },
  {
   "cell_type": "markdown",
   "id": "011764be",
   "metadata": {},
   "source": [
    "+ 목표변수는 scale/ 양품 : 1 , 불량 : 0\n",
    "+ scale을 더미화"
   ]
  },
  {
   "cell_type": "code",
   "execution_count": 9,
   "id": "b0b46200",
   "metadata": {},
   "outputs": [
    {
     "data": {
      "text/html": [
       "<div>\n",
       "<style scoped>\n",
       "    .dataframe tbody tr th:only-of-type {\n",
       "        vertical-align: middle;\n",
       "    }\n",
       "\n",
       "    .dataframe tbody tr th {\n",
       "        vertical-align: top;\n",
       "    }\n",
       "\n",
       "    .dataframe thead th {\n",
       "        text-align: right;\n",
       "    }\n",
       "</style>\n",
       "<table border=\"1\" class=\"dataframe\">\n",
       "  <thead>\n",
       "    <tr style=\"text-align: right;\">\n",
       "      <th></th>\n",
       "      <th>scale</th>\n",
       "      <th>steel_kind</th>\n",
       "      <th>hsb</th>\n",
       "      <th>fur_avg_temp</th>\n",
       "      <th>fur_total_time</th>\n",
       "      <th>rolling_method</th>\n",
       "      <th>rolling_temp</th>\n",
       "      <th>descaling_count</th>\n",
       "      <th>work_group</th>\n",
       "    </tr>\n",
       "  </thead>\n",
       "  <tbody>\n",
       "    <tr>\n",
       "      <th>0</th>\n",
       "      <td>1</td>\n",
       "      <td>T</td>\n",
       "      <td>적용</td>\n",
       "      <td>1138.5</td>\n",
       "      <td>259</td>\n",
       "      <td>TMCP(온도제어)</td>\n",
       "      <td>934</td>\n",
       "      <td>8</td>\n",
       "      <td>1조</td>\n",
       "    </tr>\n",
       "    <tr>\n",
       "      <th>1</th>\n",
       "      <td>1</td>\n",
       "      <td>T</td>\n",
       "      <td>적용</td>\n",
       "      <td>1139.5</td>\n",
       "      <td>238</td>\n",
       "      <td>TMCP(온도제어)</td>\n",
       "      <td>937</td>\n",
       "      <td>8</td>\n",
       "      <td>1조</td>\n",
       "    </tr>\n",
       "    <tr>\n",
       "      <th>2</th>\n",
       "      <td>1</td>\n",
       "      <td>T</td>\n",
       "      <td>적용</td>\n",
       "      <td>1125.0</td>\n",
       "      <td>258</td>\n",
       "      <td>TMCP(온도제어)</td>\n",
       "      <td>889</td>\n",
       "      <td>8</td>\n",
       "      <td>1조</td>\n",
       "    </tr>\n",
       "    <tr>\n",
       "      <th>3</th>\n",
       "      <td>1</td>\n",
       "      <td>T</td>\n",
       "      <td>적용</td>\n",
       "      <td>1139.5</td>\n",
       "      <td>266</td>\n",
       "      <td>TMCP(온도제어)</td>\n",
       "      <td>885</td>\n",
       "      <td>8</td>\n",
       "      <td>1조</td>\n",
       "    </tr>\n",
       "    <tr>\n",
       "      <th>4</th>\n",
       "      <td>1</td>\n",
       "      <td>T</td>\n",
       "      <td>적용</td>\n",
       "      <td>1134.0</td>\n",
       "      <td>246</td>\n",
       "      <td>TMCP(온도제어)</td>\n",
       "      <td>873</td>\n",
       "      <td>8</td>\n",
       "      <td>1조</td>\n",
       "    </tr>\n",
       "  </tbody>\n",
       "</table>\n",
       "</div>"
      ],
      "text/plain": [
       "   scale steel_kind hsb  fur_avg_temp  fur_total_time rolling_method  \\\n",
       "0      1          T  적용        1138.5             259     TMCP(온도제어)   \n",
       "1      1          T  적용        1139.5             238     TMCP(온도제어)   \n",
       "2      1          T  적용        1125.0             258     TMCP(온도제어)   \n",
       "3      1          T  적용        1139.5             266     TMCP(온도제어)   \n",
       "4      1          T  적용        1134.0             246     TMCP(온도제어)   \n",
       "\n",
       "   rolling_temp  descaling_count work_group  \n",
       "0           934                8         1조  \n",
       "1           937                8         1조  \n",
       "2           889                8         1조  \n",
       "3           885                8         1조  \n",
       "4           873                8         1조  "
      ]
     },
     "execution_count": 9,
     "metadata": {},
     "output_type": "execute_result"
    }
   ],
   "source": [
    "df_t.head()"
   ]
  },
  {
   "cell_type": "code",
   "execution_count": 10,
   "id": "13af5161",
   "metadata": {
    "scrolled": true
   },
   "outputs": [],
   "source": [
    "df_t.drop('steel_kind', axis=1, inplace=True)"
   ]
  },
  {
   "cell_type": "markdown",
   "id": "3444a2d8",
   "metadata": {},
   "source": [
    "+ steel_kind는 1차 층별화를 했으므로 제거"
   ]
  },
  {
   "cell_type": "markdown",
   "id": "b08fdbc0",
   "metadata": {},
   "source": [
    "# step3. 모델 및 회귀계수 검토"
   ]
  },
  {
   "cell_type": "markdown",
   "id": "3af3bb10",
   "metadata": {},
   "source": [
    "### 0. 다중공선성 제거"
   ]
  },
  {
   "cell_type": "code",
   "execution_count": 11,
   "id": "36ddd30e",
   "metadata": {},
   "outputs": [],
   "source": [
    "# 잔차의 정규성 확인 :qqplot, 회귀분석의 상수항 추가 : add_constant\n",
    "from statsmodels.api import qqplot, add_constant\n",
    "# 다중공선성 확인\n",
    "from statsmodels.stats.outliers_influence import variance_inflation_factor"
   ]
  },
  {
   "cell_type": "code",
   "execution_count": 12,
   "id": "decf65cf",
   "metadata": {},
   "outputs": [],
   "source": [
    "df_y = df_t['scale']\n",
    "df = df_t.drop('scale', axis=1)\n",
    "df['rolling_method'] = df['rolling_method'].str.replace('조', '')\n",
    "df_dummies = pd.get_dummies(df, drop_first=True)"
   ]
  },
  {
   "cell_type": "code",
   "execution_count": 13,
   "id": "4386742e",
   "metadata": {},
   "outputs": [
    {
     "data": {
      "text/plain": [
       "0    1\n",
       "1    1\n",
       "2    1\n",
       "3    1\n",
       "4    1\n",
       "Name: scale, dtype: uint8"
      ]
     },
     "execution_count": 13,
     "metadata": {},
     "output_type": "execute_result"
    }
   ],
   "source": [
    "df_y.head()"
   ]
  },
  {
   "cell_type": "code",
   "execution_count": 14,
   "id": "7131311f",
   "metadata": {
    "scrolled": false
   },
   "outputs": [
    {
     "data": {
      "text/html": [
       "<div>\n",
       "<style scoped>\n",
       "    .dataframe tbody tr th:only-of-type {\n",
       "        vertical-align: middle;\n",
       "    }\n",
       "\n",
       "    .dataframe tbody tr th {\n",
       "        vertical-align: top;\n",
       "    }\n",
       "\n",
       "    .dataframe thead th {\n",
       "        text-align: right;\n",
       "    }\n",
       "</style>\n",
       "<table border=\"1\" class=\"dataframe\">\n",
       "  <thead>\n",
       "    <tr style=\"text-align: right;\">\n",
       "      <th></th>\n",
       "      <th>fur_avg_temp</th>\n",
       "      <th>fur_total_time</th>\n",
       "      <th>rolling_temp</th>\n",
       "      <th>descaling_count</th>\n",
       "      <th>hsb_적용</th>\n",
       "      <th>rolling_method_TMCP(온도제어)</th>\n",
       "      <th>work_group_2조</th>\n",
       "      <th>work_group_3조</th>\n",
       "    </tr>\n",
       "  </thead>\n",
       "  <tbody>\n",
       "    <tr>\n",
       "      <th>0</th>\n",
       "      <td>1138.5</td>\n",
       "      <td>259</td>\n",
       "      <td>934</td>\n",
       "      <td>8</td>\n",
       "      <td>1</td>\n",
       "      <td>1</td>\n",
       "      <td>0</td>\n",
       "      <td>0</td>\n",
       "    </tr>\n",
       "    <tr>\n",
       "      <th>1</th>\n",
       "      <td>1139.5</td>\n",
       "      <td>238</td>\n",
       "      <td>937</td>\n",
       "      <td>8</td>\n",
       "      <td>1</td>\n",
       "      <td>1</td>\n",
       "      <td>0</td>\n",
       "      <td>0</td>\n",
       "    </tr>\n",
       "    <tr>\n",
       "      <th>2</th>\n",
       "      <td>1125.0</td>\n",
       "      <td>258</td>\n",
       "      <td>889</td>\n",
       "      <td>8</td>\n",
       "      <td>1</td>\n",
       "      <td>1</td>\n",
       "      <td>0</td>\n",
       "      <td>0</td>\n",
       "    </tr>\n",
       "    <tr>\n",
       "      <th>3</th>\n",
       "      <td>1139.5</td>\n",
       "      <td>266</td>\n",
       "      <td>885</td>\n",
       "      <td>8</td>\n",
       "      <td>1</td>\n",
       "      <td>1</td>\n",
       "      <td>0</td>\n",
       "      <td>0</td>\n",
       "    </tr>\n",
       "    <tr>\n",
       "      <th>4</th>\n",
       "      <td>1134.0</td>\n",
       "      <td>246</td>\n",
       "      <td>873</td>\n",
       "      <td>8</td>\n",
       "      <td>1</td>\n",
       "      <td>1</td>\n",
       "      <td>0</td>\n",
       "      <td>0</td>\n",
       "    </tr>\n",
       "  </tbody>\n",
       "</table>\n",
       "</div>"
      ],
      "text/plain": [
       "   fur_avg_temp  fur_total_time  rolling_temp  descaling_count  hsb_적용  \\\n",
       "0        1138.5             259           934                8       1   \n",
       "1        1139.5             238           937                8       1   \n",
       "2        1125.0             258           889                8       1   \n",
       "3        1139.5             266           885                8       1   \n",
       "4        1134.0             246           873                8       1   \n",
       "\n",
       "   rolling_method_TMCP(온도제어)  work_group_2조  work_group_3조  \n",
       "0                          1              0              0  \n",
       "1                          1              0              0  \n",
       "2                          1              0              0  \n",
       "3                          1              0              0  \n",
       "4                          1              0              0  "
      ]
     },
     "execution_count": 14,
     "metadata": {},
     "output_type": "execute_result"
    }
   ],
   "source": [
    "df_dummies.head()"
   ]
  },
  {
   "cell_type": "markdown",
   "id": "760e00a5",
   "metadata": {},
   "source": [
    "+ y인 'scale' 제거\n",
    "+ 단위인 '조' 제거\n",
    "+ 나머지 범주형 변수 더미화"
   ]
  },
  {
   "cell_type": "code",
   "execution_count": 15,
   "id": "78515b21",
   "metadata": {
    "scrolled": false
   },
   "outputs": [
    {
     "data": {
      "text/plain": [
       "<Axes: >"
      ]
     },
     "execution_count": 15,
     "metadata": {},
     "output_type": "execute_result"
    },
    {
     "data": {
      "image/png": "[encoded data removed]",
      "text/plain": [
       "<Figure size 640x480 with 2 Axes>"
      ]
     },
     "metadata": {},
     "output_type": "display_data"
    }
   ],
   "source": [
    "import seaborn as sns\n",
    "\n",
    "corr_matrix = df_dummies.corr()\n",
    "sns.heatmap(corr_matrix, annot=True, cmap='coolwarm')"
   ]
  },
  {
   "cell_type": "markdown",
   "id": "3fb9a2be",
   "metadata": {},
   "source": [
    "+ work_group의 2조와 3조 사이에 강한 상관관계가 존재\n",
    "+ 3조에서 불량이 계속 나왔던 것이 있어서 2조를 제거\n",
    "+ 하지만 2조를 제거해서는 모델이 돌아가지 않아서 3조를 제거하여 진행"
   ]
  },
  {
   "cell_type": "code",
   "execution_count": 16,
   "id": "0a4f3150",
   "metadata": {
    "scrolled": true
   },
   "outputs": [],
   "source": [
    "df_dummies.drop('work_group_3조',axis=1,inplace=True)"
   ]
  },
  {
   "cell_type": "code",
   "execution_count": 17,
   "id": "0a19289e",
   "metadata": {},
   "outputs": [],
   "source": [
    "df_dummies['scale'] = df_y"
   ]
  },
  {
   "cell_type": "code",
   "execution_count": 18,
   "id": "fc7715df",
   "metadata": {
    "scrolled": true
   },
   "outputs": [
    {
     "data": {
      "text/html": [
       "<div>\n",
       "<style scoped>\n",
       "    .dataframe tbody tr th:only-of-type {\n",
       "        vertical-align: middle;\n",
       "    }\n",
       "\n",
       "    .dataframe tbody tr th {\n",
       "        vertical-align: top;\n",
       "    }\n",
       "\n",
       "    .dataframe thead th {\n",
       "        text-align: right;\n",
       "    }\n",
       "</style>\n",
       "<table border=\"1\" class=\"dataframe\">\n",
       "  <thead>\n",
       "    <tr style=\"text-align: right;\">\n",
       "      <th></th>\n",
       "      <th>fur_avg_temp</th>\n",
       "      <th>fur_total_time</th>\n",
       "      <th>rolling_temp</th>\n",
       "      <th>descaling_count</th>\n",
       "      <th>hsb_적용</th>\n",
       "      <th>rolling_method_TMCP(온도제어)</th>\n",
       "      <th>work_group_2조</th>\n",
       "      <th>scale</th>\n",
       "    </tr>\n",
       "  </thead>\n",
       "  <tbody>\n",
       "    <tr>\n",
       "      <th>0</th>\n",
       "      <td>1138.5</td>\n",
       "      <td>259</td>\n",
       "      <td>934</td>\n",
       "      <td>8</td>\n",
       "      <td>1</td>\n",
       "      <td>1</td>\n",
       "      <td>0</td>\n",
       "      <td>1</td>\n",
       "    </tr>\n",
       "    <tr>\n",
       "      <th>1</th>\n",
       "      <td>1139.5</td>\n",
       "      <td>238</td>\n",
       "      <td>937</td>\n",
       "      <td>8</td>\n",
       "      <td>1</td>\n",
       "      <td>1</td>\n",
       "      <td>0</td>\n",
       "      <td>1</td>\n",
       "    </tr>\n",
       "    <tr>\n",
       "      <th>2</th>\n",
       "      <td>1125.0</td>\n",
       "      <td>258</td>\n",
       "      <td>889</td>\n",
       "      <td>8</td>\n",
       "      <td>1</td>\n",
       "      <td>1</td>\n",
       "      <td>0</td>\n",
       "      <td>1</td>\n",
       "    </tr>\n",
       "    <tr>\n",
       "      <th>3</th>\n",
       "      <td>1139.5</td>\n",
       "      <td>266</td>\n",
       "      <td>885</td>\n",
       "      <td>8</td>\n",
       "      <td>1</td>\n",
       "      <td>1</td>\n",
       "      <td>0</td>\n",
       "      <td>1</td>\n",
       "    </tr>\n",
       "    <tr>\n",
       "      <th>4</th>\n",
       "      <td>1134.0</td>\n",
       "      <td>246</td>\n",
       "      <td>873</td>\n",
       "      <td>8</td>\n",
       "      <td>1</td>\n",
       "      <td>1</td>\n",
       "      <td>0</td>\n",
       "      <td>1</td>\n",
       "    </tr>\n",
       "  </tbody>\n",
       "</table>\n",
       "</div>"
      ],
      "text/plain": [
       "   fur_avg_temp  fur_total_time  rolling_temp  descaling_count  hsb_적용  \\\n",
       "0        1138.5             259           934                8       1   \n",
       "1        1139.5             238           937                8       1   \n",
       "2        1125.0             258           889                8       1   \n",
       "3        1139.5             266           885                8       1   \n",
       "4        1134.0             246           873                8       1   \n",
       "\n",
       "   rolling_method_TMCP(온도제어)  work_group_2조  scale  \n",
       "0                          1              0      1  \n",
       "1                          1              0      1  \n",
       "2                          1              0      1  \n",
       "3                          1              0      1  \n",
       "4                          1              0      1  "
      ]
     },
     "execution_count": 18,
     "metadata": {},
     "output_type": "execute_result"
    }
   ],
   "source": [
    "df_dummies.head()"
   ]
  },
  {
   "cell_type": "code",
   "execution_count": 19,
   "id": "ef9a5c1b",
   "metadata": {},
   "outputs": [],
   "source": [
    "df_dummies = df_dummies.rename(columns={'rolling_method_TMCP(온도제어)': 'rolling_method_TMCP'})"
   ]
  },
  {
   "cell_type": "code",
   "execution_count": 20,
   "id": "ff91fcce",
   "metadata": {},
   "outputs": [
    {
     "data": {
      "text/html": [
       "<div>\n",
       "<style scoped>\n",
       "    .dataframe tbody tr th:only-of-type {\n",
       "        vertical-align: middle;\n",
       "    }\n",
       "\n",
       "    .dataframe tbody tr th {\n",
       "        vertical-align: top;\n",
       "    }\n",
       "\n",
       "    .dataframe thead th {\n",
       "        text-align: right;\n",
       "    }\n",
       "</style>\n",
       "<table border=\"1\" class=\"dataframe\">\n",
       "  <thead>\n",
       "    <tr style=\"text-align: right;\">\n",
       "      <th></th>\n",
       "      <th>fur_avg_temp</th>\n",
       "      <th>fur_total_time</th>\n",
       "      <th>rolling_temp</th>\n",
       "      <th>descaling_count</th>\n",
       "      <th>hsb_적용</th>\n",
       "      <th>rolling_method_TMCP</th>\n",
       "      <th>work_group_2조</th>\n",
       "      <th>scale</th>\n",
       "    </tr>\n",
       "  </thead>\n",
       "  <tbody>\n",
       "    <tr>\n",
       "      <th>0</th>\n",
       "      <td>1138.5</td>\n",
       "      <td>259</td>\n",
       "      <td>934</td>\n",
       "      <td>8</td>\n",
       "      <td>1</td>\n",
       "      <td>1</td>\n",
       "      <td>0</td>\n",
       "      <td>1</td>\n",
       "    </tr>\n",
       "    <tr>\n",
       "      <th>1</th>\n",
       "      <td>1139.5</td>\n",
       "      <td>238</td>\n",
       "      <td>937</td>\n",
       "      <td>8</td>\n",
       "      <td>1</td>\n",
       "      <td>1</td>\n",
       "      <td>0</td>\n",
       "      <td>1</td>\n",
       "    </tr>\n",
       "    <tr>\n",
       "      <th>2</th>\n",
       "      <td>1125.0</td>\n",
       "      <td>258</td>\n",
       "      <td>889</td>\n",
       "      <td>8</td>\n",
       "      <td>1</td>\n",
       "      <td>1</td>\n",
       "      <td>0</td>\n",
       "      <td>1</td>\n",
       "    </tr>\n",
       "    <tr>\n",
       "      <th>3</th>\n",
       "      <td>1139.5</td>\n",
       "      <td>266</td>\n",
       "      <td>885</td>\n",
       "      <td>8</td>\n",
       "      <td>1</td>\n",
       "      <td>1</td>\n",
       "      <td>0</td>\n",
       "      <td>1</td>\n",
       "    </tr>\n",
       "    <tr>\n",
       "      <th>4</th>\n",
       "      <td>1134.0</td>\n",
       "      <td>246</td>\n",
       "      <td>873</td>\n",
       "      <td>8</td>\n",
       "      <td>1</td>\n",
       "      <td>1</td>\n",
       "      <td>0</td>\n",
       "      <td>1</td>\n",
       "    </tr>\n",
       "  </tbody>\n",
       "</table>\n",
       "</div>"
      ],
      "text/plain": [
       "   fur_avg_temp  fur_total_time  rolling_temp  descaling_count  hsb_적용  \\\n",
       "0        1138.5             259           934                8       1   \n",
       "1        1139.5             238           937                8       1   \n",
       "2        1125.0             258           889                8       1   \n",
       "3        1139.5             266           885                8       1   \n",
       "4        1134.0             246           873                8       1   \n",
       "\n",
       "   rolling_method_TMCP  work_group_2조  scale  \n",
       "0                    1              0      1  \n",
       "1                    1              0      1  \n",
       "2                    1              0      1  \n",
       "3                    1              0      1  \n",
       "4                    1              0      1  "
      ]
     },
     "execution_count": 20,
     "metadata": {},
     "output_type": "execute_result"
    }
   ],
   "source": [
    "df_dummies.head()"
   ]
  },
  {
   "cell_type": "code",
   "execution_count": 21,
   "id": "d966956c",
   "metadata": {},
   "outputs": [
    {
     "name": "stdout",
     "output_type": "stream",
     "text": [
      "train data size : (168, 8)\n",
      "test data size : (73, 8)\n"
     ]
    }
   ],
   "source": [
    "df_train, df_test = train_test_split(df_dummies, test_size = 0.3, random_state = 1234)\n",
    "print(\"train data size : {}\".format(df_train.shape))\n",
    "print(\"test data size : {}\".format(df_test.shape))"
   ]
  },
  {
   "cell_type": "markdown",
   "id": "6c028bef",
   "metadata": {},
   "source": [
    "+ 데이터를 7:3으로 분할"
   ]
  },
  {
   "cell_type": "markdown",
   "id": "c28dedb9",
   "metadata": {},
   "source": [
    "### 1. 모든 설명변수 포함"
   ]
  },
  {
   "cell_type": "code",
   "execution_count": 22,
   "id": "057fbce4",
   "metadata": {
    "scrolled": false
   },
   "outputs": [
    {
     "name": "stdout",
     "output_type": "stream",
     "text": [
      "Warning: Maximum number of iterations has been exceeded.\n",
      "         Current function value: 0.124688\n",
      "         Iterations: 35\n",
      "                           Logit Regression Results                           \n",
      "==============================================================================\n",
      "Dep. Variable:                  scale   No. Observations:                  168\n",
      "Model:                          Logit   Df Residuals:                      161\n",
      "Method:                           MLE   Df Model:                            6\n",
      "Date:                Tue, 13 Aug 2024   Pseudo R-squ.:                  0.4474\n",
      "Time:                        01:30:34   Log-Likelihood:                -20.948\n",
      "converged:                      False   LL-Null:                       -37.910\n",
      "Covariance Type:            nonrobust   LLR p-value:                 6.955e-06\n",
      "=======================================================================================\n",
      "                          coef    std err          z      P>|z|      [0.025      0.975]\n",
      "---------------------------------------------------------------------------------------\n",
      "Intercept               3.7901   3.12e+04      0.000      1.000   -6.12e+04    6.12e+04\n",
      "fur_avg_temp           -0.0160      0.038     -0.421      0.673      -0.091       0.058\n",
      "fur_total_time          0.0093      0.017      0.558      0.577      -0.023       0.042\n",
      "rolling_temp           -0.0127      0.010     -1.229      0.219      -0.033       0.008\n",
      "hsb_적용                 26.2959   3.12e+04      0.001      0.999   -6.12e+04    6.12e+04\n",
      "rolling_method_TMCP     0.2169      0.993      0.218      0.827      -1.729       2.163\n",
      "work_group_2조           0.1301      1.095      0.119      0.905      -2.016       2.276\n",
      "=======================================================================================\n"
     ]
    }
   ],
   "source": [
    "# from_formula 함수를 이용하여 변수 역할 지정\n",
    "log_model = Logit.from_formula(\"\"\"scale ~ fur_avg_temp + fur_total_time + rolling_temp + hsb_적용 + rolling_method_TMCP +work_group_2조\"\"\", df_train)\n",
    "# 적합\n",
    "log_result = log_model.fit()\n",
    "# 결과 출력\n",
    "print(log_result.summary())"
   ]
  },
  {
   "cell_type": "markdown",
   "id": "f7ca026b",
   "metadata": {},
   "source": [
    "+ 모든 회귀계수가 유의하지 않아서 회귀분석은 적합하지 않는 모델이라고 판단됨"
   ]
  },
  {
   "cell_type": "code",
   "execution_count": null,
   "id": "970b2aa1",
   "metadata": {},
   "outputs": [],
   "source": []
  }
 ],
 "metadata": {
  "kernelspec": {
   "display_name": "Python 3 (ipykernel)",
   "language": "python",
   "name": "python3"
  },
  "language_info": {
   "codemirror_mode": {
    "name": "ipython",
    "version": 3
   },
   "file_extension": ".py",
   "mimetype": "text/x-python",
   "name": "python",
   "nbconvert_exporter": "python",
   "pygments_lexer": "ipython3",
   "version": "3.10.12"
  }
 },
 "nbformat": 4,
 "nbformat_minor": 5
}
